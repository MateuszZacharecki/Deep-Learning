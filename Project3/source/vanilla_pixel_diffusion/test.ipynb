{
 "cells": [
  {
   "cell_type": "code",
   "execution_count": 3,
   "id": "6153a09b",
   "metadata": {},
   "outputs": [],
   "source": [
    "import numpy as np\n",
    "import tensorflow as tf\n",
    "from tensorflow.keras import layers\n",
    "from tqdm.auto import trange, tqdm"
   ]
  },
  {
   "cell_type": "code",
   "execution_count": 4,
   "id": "6b35f016",
   "metadata": {},
   "outputs": [
    {
     "name": "stdout",
     "output_type": "stream",
     "text": [
      "Found 303125 files.\n"
     ]
    }
   ],
   "source": [
    "dataset = tf.keras.preprocessing.image_dataset_from_directory(\n",
    "    \"../data0/lsun/bedroom\",\n",
    "    labels=None,\n",
    "    label_mode=None,\n",
    "    class_names=None,\n",
    "    color_mode='rgb',\n",
    "    batch_size=None,\n",
    "    image_size=(64, 64),\n",
    "    shuffle=True,\n",
    "    seed=2024,\n",
    "    validation_split=None,\n",
    "    subset=None,\n",
    "    interpolation='bilinear',\n",
    "    follow_links=False,\n",
    "    crop_to_aspect_ratio=False\n",
    ")"
   ]
  },
  {
   "cell_type": "code",
   "execution_count": 4,
   "id": "fa632706",
   "metadata": {},
   "outputs": [],
   "source": [
    "IMG_SIZE = 64\n",
    "BATCH_SIZE = 125\n",
    "timesteps = 1000  # Increased timesteps for better diffusion\n",
    "beta = np.linspace(0.0001, 0.02, timesteps)  # Linear noise schedule\n",
    "alpha = 1 - beta\n",
    "alpha_bar = np.cumprod(alpha)"
   ]
  },
  {
   "cell_type": "code",
   "execution_count": 5,
   "id": "3cc3e69b",
   "metadata": {},
   "outputs": [],
   "source": [
    "# Forward diffusion process\n",
    "def forward_diffusion_sample(x0, t, alpha_bar):\n",
    "    noise = np.random.normal(size=x0.shape)\n",
    "    alpha_t = alpha_bar[t]\n",
    "    alpha_t = alpha_t.reshape((-1, 1, 1, 1))\n",
    "    return np.sqrt(alpha_t) * x0 + np.sqrt(1 - alpha_t) * noise"
   ]
  },
  {
   "cell_type": "code",
   "execution_count": 6,
   "id": "3da0f8c4",
   "metadata": {},
   "outputs": [],
   "source": [
    "# Define the vanilla pixel diffusion model\n",
    "def make_simple_model():\n",
    "    inputs = layers.Input(shape=(IMG_SIZE, IMG_SIZE, 3))\n",
    "    x = layers.Conv2D(64, kernel_size=3, padding='same', activation='relu')(inputs)\n",
    "    x = layers.Conv2D(64, kernel_size=3, padding='same', activation='relu')(x)\n",
    "    x = layers.Conv2D(3, kernel_size=1, padding='same')(x)\n",
    "    model = tf.keras.models.Model(inputs, x)\n",
    "    return model"
   ]
  },
  {
   "cell_type": "code",
   "execution_count": 7,
   "id": "c92c561d",
   "metadata": {},
   "outputs": [],
   "source": [
    "model = make_simple_model()\n",
    "optimizer = tf.keras.optimizers.Adam(learning_rate=0.0002)\n",
    "loss_func = tf.keras.losses.MeanSquaredError()\n",
    "model.compile(loss=loss_func, optimizer=optimizer)"
   ]
  },
  {
   "cell_type": "code",
   "execution_count": 8,
   "id": "f5a89168",
   "metadata": {},
   "outputs": [],
   "source": [
    "# Training Loop\n",
    "def train_model(model, dataset, alpha_bar, timesteps, epochs=1):\n",
    "    for epoch in range(epochs):\n",
    "        for x in tqdm(dataset.batch(BATCH_SIZE)):\n",
    "            t = np.random.randint(0, timesteps, size=(BATCH_SIZE,))\n",
    "            xt = forward_diffusion_sample(x, t, alpha_bar)\n",
    "            loss = model.train_on_batch(xt, x)\n",
    "        print(f\"Epoch {epoch + 1}, Loss: {loss}\")"
   ]
  },
  {
   "cell_type": "code",
   "execution_count": null,
   "id": "73c46d32",
   "metadata": {
    "scrolled": false
   },
   "outputs": [
    {
     "data": {
      "application/vnd.jupyter.widget-view+json": {
       "model_id": "a6652e248f9d4970a2d2f6f7bcade524",
       "version_major": 2,
       "version_minor": 0
      },
      "text/plain": [
       "  0%|          | 0/1200 [00:00<?, ?it/s]"
      ]
     },
     "metadata": {},
     "output_type": "display_data"
    },
    {
     "name": "stdout",
     "output_type": "stream",
     "text": [
      "WARNING:tensorflow:5 out of the last 5 calls to <function TensorFlowTrainer.make_train_function.<locals>.one_step_on_iterator at 0x000002076A8B4940> triggered tf.function retracing. Tracing is expensive and the excessive number of tracings could be due to (1) creating @tf.function repeatedly in a loop, (2) passing tensors with different shapes, (3) passing Python objects instead of tensors. For (1), please define your @tf.function outside of the loop. For (2), @tf.function has reduce_retracing=True option that can avoid unnecessary retracing. For (3), please refer to https://www.tensorflow.org/guide/function#controlling_retracing and https://www.tensorflow.org/api_docs/python/tf/function for  more details.\n",
      "WARNING:tensorflow:6 out of the last 6 calls to <function TensorFlowTrainer.make_train_function.<locals>.one_step_on_iterator at 0x000002076A8B4940> triggered tf.function retracing. Tracing is expensive and the excessive number of tracings could be due to (1) creating @tf.function repeatedly in a loop, (2) passing tensors with different shapes, (3) passing Python objects instead of tensors. For (1), please define your @tf.function outside of the loop. For (2), @tf.function has reduce_retracing=True option that can avoid unnecessary retracing. For (3), please refer to https://www.tensorflow.org/guide/function#controlling_retracing and https://www.tensorflow.org/api_docs/python/tf/function for  more details.\n"
     ]
    }
   ],
   "source": [
    "# Train the model\n",
    "train_model(model, dataset, alpha_bar, timesteps, epochs=10)"
   ]
  },
  {
   "cell_type": "code",
   "execution_count": null,
   "id": "b9a75bec",
   "metadata": {},
   "outputs": [],
   "source": []
  },
  {
   "cell_type": "code",
   "execution_count": null,
   "id": "76d3f720",
   "metadata": {},
   "outputs": [],
   "source": []
  }
 ],
 "metadata": {
  "kernelspec": {
   "display_name": "Python 3 (ipykernel)",
   "language": "python",
   "name": "python3"
  },
  "language_info": {
   "codemirror_mode": {
    "name": "ipython",
    "version": 3
   },
   "file_extension": ".py",
   "mimetype": "text/x-python",
   "name": "python",
   "nbconvert_exporter": "python",
   "pygments_lexer": "ipython3",
   "version": "3.9.13"
  }
 },
 "nbformat": 4,
 "nbformat_minor": 5
}
