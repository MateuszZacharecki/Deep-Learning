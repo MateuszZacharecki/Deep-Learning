{
 "cells": [
  {
   "cell_type": "markdown",
   "id": "d4c91149",
   "metadata": {},
   "source": [
    "# Voting"
   ]
  },
  {
   "cell_type": "markdown",
   "id": "2ae477e3",
   "metadata": {},
   "source": [
    "Tests of the voting for chosen models."
   ]
  },
  {
   "cell_type": "code",
   "execution_count": 7,
   "id": "bf5f9a1a",
   "metadata": {},
   "outputs": [],
   "source": [
    "from tensorflow.keras.models import load_model\n",
    "from tensorflow.keras.preprocessing.image import ImageDataGenerator\n",
    "from tensorflow import keras\n",
    "import numpy as np\n",
    "from sklearn.metrics import accuracy_score\n",
    "import pandas as pd"
   ]
  },
  {
   "cell_type": "code",
   "execution_count": 8,
   "id": "bf1922a3",
   "metadata": {},
   "outputs": [],
   "source": [
    "seed = 2024\n",
    "TRAIN_DIR = '../voting/data/train'"
   ]
  },
  {
   "cell_type": "code",
   "execution_count": 9,
   "id": "ed11e980",
   "metadata": {},
   "outputs": [],
   "source": [
    "def hard_vote(preds1, preds2, preds3):\n",
    "    final_preds = []\n",
    "    for i in range(len(preds1)):\n",
    "        combined_preds = np.array([preds1[i], preds2[i], preds3[i]])\n",
    "        final_preds.append(np.argmax(np.sum(combined_preds, axis=0)))\n",
    "    return np.array(final_preds)"
   ]
  },
  {
   "cell_type": "code",
   "execution_count": 10,
   "id": "ac5bfc75",
   "metadata": {},
   "outputs": [],
   "source": [
    "def hard_vote7(preds1, preds2, preds3, preds4, preds5, preds6, preds7):\n",
    "    final_preds = []\n",
    "    for i in range(len(preds1)):\n",
    "        combined_preds = np.array([preds1[i], preds2[i], preds3[i], preds4[i], preds5[i], preds6[i], preds7[i]])\n",
    "        final_preds.append(np.argmax(np.sum(combined_preds, axis=0)))\n",
    "    return np.array(final_preds)"
   ]
  },
  {
   "cell_type": "code",
   "execution_count": 11,
   "id": "7926b327",
   "metadata": {},
   "outputs": [
    {
     "name": "stdout",
     "output_type": "stream",
     "text": [
      "Found 18000 images belonging to 10 classes.\n"
     ]
    }
   ],
   "source": [
    "datagen = ImageDataGenerator(validation_split=0.2,\n",
    "                             rescale=1./255)\n",
    "\n",
    "val_generator = datagen.flow_from_directory(\n",
    "        TRAIN_DIR,\n",
    "        subset='validation',\n",
    "        seed=seed,\n",
    "        target_size=(32, 32),\n",
    "        batch_size=16\n",
    "    )"
   ]
  },
  {
   "cell_type": "code",
   "execution_count": 12,
   "id": "c5b4db1c",
   "metadata": {},
   "outputs": [],
   "source": [
    "X, y = zip(*(val_generator[i] for i in range(len(val_generator))))\n",
    "X_test, y_test = np.vstack(X), np.vstack(y)"
   ]
  },
  {
   "cell_type": "code",
   "execution_count": 13,
   "id": "1e2dc50e",
   "metadata": {},
   "outputs": [],
   "source": [
    "def softmax(x):\n",
    "    e_x = np.exp(x - np.max(x))\n",
    "    return e_x / e_x.sum(axis=1, keepdims=True)"
   ]
  },
  {
   "cell_type": "code",
   "execution_count": 14,
   "id": "a6bdc37a",
   "metadata": {},
   "outputs": [],
   "source": [
    "def soft_vote_probs(probs1, probs2):\n",
    "    final_probs = (probs1 + probs2) / 2.0\n",
    "    return final_probs"
   ]
  },
  {
   "cell_type": "markdown",
   "id": "48560d20",
   "metadata": {},
   "source": [
    "## Test 1: Hard voting for best VGG models\n",
    "VGG8 for learning rate = 0.01 $\\newline$\n",
    "VGG9 for batch size = 128 $\\newline$\n",
    "VGG14"
   ]
  },
  {
   "cell_type": "code",
   "execution_count": 15,
   "id": "2819e7f1",
   "metadata": {},
   "outputs": [],
   "source": [
    "vgg8 = load_model('keras/vgg8-3.keras')\n",
    "vgg9 = load_model('keras/vgg9-2.keras')\n",
    "vgg14 = load_model('keras/vgg14-0.keras')"
   ]
  },
  {
   "cell_type": "code",
   "execution_count": 16,
   "id": "6c30d2bd",
   "metadata": {},
   "outputs": [
    {
     "name": "stdout",
     "output_type": "stream",
     "text": [
      "563/563 [==============================] - 129s 228ms/step\n",
      "563/563 [==============================] - 141s 250ms/step\n",
      "563/563 [==============================] - 141s 250ms/step\n"
     ]
    }
   ],
   "source": [
    "y_pred1 = vgg8.predict(X_test)\n",
    "y_pred2 = vgg9.predict(X_test)\n",
    "y_pred3 = vgg14.predict(X_test)\n"
   ]
  },
  {
   "cell_type": "code",
   "execution_count": 17,
   "id": "b0310d6d",
   "metadata": {},
   "outputs": [],
   "source": [
    "y_test = np.argmax(y_test, axis=1)"
   ]
  },
  {
   "cell_type": "code",
   "execution_count": 18,
   "id": "49e770f2",
   "metadata": {},
   "outputs": [
    {
     "data": {
      "text/plain": [
       "0.5692222222222222"
      ]
     },
     "execution_count": 18,
     "metadata": {},
     "output_type": "execute_result"
    }
   ],
   "source": [
    "final_predictions = hard_vote(y_pred1, y_pred2, y_pred3)\n",
    "accuracy = accuracy_score(final_predictions, y_test)\n",
    "accuracy"
   ]
  },
  {
   "cell_type": "code",
   "execution_count": 19,
   "id": "2d8c4adc",
   "metadata": {},
   "outputs": [
    {
     "name": "stdout",
     "output_type": "stream",
     "text": [
      "Attempts accuracy is saved to train_history/vgghardvoting/accuracy.csv\n"
     ]
    }
   ],
   "source": [
    "name = 'vgghardvoting'\n",
    "accuracy_df = pd.DataFrame(data=[accuracy], columns = ['accuracy'])\n",
    "accuracy_csv_file = f'train_history/{name}/accuracy.csv'\n",
    "with open(accuracy_csv_file, mode='w') as f:\n",
    "    accuracy_df.to_csv(f)\n",
    "print(f'Attempts accuracy is saved to {accuracy_csv_file}')"
   ]
  },
  {
   "cell_type": "markdown",
   "id": "d23313f9",
   "metadata": {},
   "source": [
    "## Test 2: Hard voting for 3 best CNN models\n",
    "CNN6 - first attempt $\\newline$\n",
    "CNN7 - fifth attempt $\\newline$\n",
    "CNN10 - fifth attempt"
   ]
  },
  {
   "cell_type": "code",
   "execution_count": 22,
   "id": "2fa5c16a",
   "metadata": {},
   "outputs": [
    {
     "name": "stdout",
     "output_type": "stream",
     "text": [
      "WARNING:tensorflow:Error in loading the saved optimizer state. As a result, your model is starting with a freshly initialized optimizer.\n",
      "WARNING:tensorflow:Error in loading the saved optimizer state. As a result, your model is starting with a freshly initialized optimizer.\n"
     ]
    }
   ],
   "source": [
    "cnn6 = load_model('keras/cnn6-0.keras')\n",
    "cnn7 = load_model('keras/cnn7-4.keras')\n",
    "cnn10 = load_model('keras/cnn10-4.keras')"
   ]
  },
  {
   "cell_type": "code",
   "execution_count": 23,
   "id": "f22f2d0f",
   "metadata": {},
   "outputs": [
    {
     "name": "stdout",
     "output_type": "stream",
     "text": [
      "563/563 [==============================] - 39s 69ms/step\n",
      "563/563 [==============================] - 39s 68ms/step\n",
      "563/563 [==============================] - 41s 73ms/step\n"
     ]
    }
   ],
   "source": [
    "y_pred1 = cnn6.predict(X_test)\n",
    "y_pred2 = cnn7.predict(X_test)\n",
    "y_pred3 = cnn10.predict(X_test)\n"
   ]
  },
  {
   "cell_type": "code",
   "execution_count": null,
   "id": "80a2abcd",
   "metadata": {},
   "outputs": [],
   "source": [
    "y_test = np.argmax(y_test, axis=1)"
   ]
  },
  {
   "cell_type": "code",
   "execution_count": 25,
   "id": "c3834dc7",
   "metadata": {},
   "outputs": [
    {
     "data": {
      "text/plain": [
       "0.12311111111111112"
      ]
     },
     "execution_count": 25,
     "metadata": {},
     "output_type": "execute_result"
    }
   ],
   "source": [
    "final_predictions = hard_vote(y_pred1, y_pred2, y_pred3)\n",
    "accuracy = accuracy_score(final_predictions, y_test)\n",
    "accuracy"
   ]
  },
  {
   "cell_type": "code",
   "execution_count": 26,
   "id": "3c6aaf3f",
   "metadata": {},
   "outputs": [
    {
     "name": "stdout",
     "output_type": "stream",
     "text": [
      "Attempts accuracy is saved to train_history/cnnhardvoting3/accuracy.csv\n"
     ]
    }
   ],
   "source": [
    "name = 'cnnhardvoting3'\n",
    "accuracy_df = pd.DataFrame(data=[accuracy], columns = ['accuracy'])\n",
    "accuracy_csv_file = f'train_history/{name}/accuracy.csv'\n",
    "with open(accuracy_csv_file, mode='w') as f:\n",
    "    accuracy_df.to_csv(f)\n",
    "print(f'Attempts accuracy is saved to {accuracy_csv_file}')"
   ]
  },
  {
   "cell_type": "markdown",
   "id": "bfe5edca",
   "metadata": {},
   "source": [
    "## Test 3: Hard voting for 7 best CNN models\n",
    "CNN6 - first attempt $\\newline$\n",
    "CNN7 - fifth attempt $\\newline$\n",
    "CNN10 - all attemps"
   ]
  },
  {
   "cell_type": "code",
   "execution_count": 27,
   "id": "8f30ad37",
   "metadata": {},
   "outputs": [
    {
     "name": "stdout",
     "output_type": "stream",
     "text": [
      "WARNING:tensorflow:Error in loading the saved optimizer state. As a result, your model is starting with a freshly initialized optimizer.\n",
      "WARNING:tensorflow:Error in loading the saved optimizer state. As a result, your model is starting with a freshly initialized optimizer.\n",
      "WARNING:tensorflow:Error in loading the saved optimizer state. As a result, your model is starting with a freshly initialized optimizer.\n",
      "WARNING:tensorflow:Error in loading the saved optimizer state. As a result, your model is starting with a freshly initialized optimizer.\n",
      "WARNING:tensorflow:Error in loading the saved optimizer state. As a result, your model is starting with a freshly initialized optimizer.\n"
     ]
    }
   ],
   "source": [
    "cnn6 = load_model('keras/cnn6-0.keras')\n",
    "cnn7 = load_model('keras/cnn7-4.keras')\n",
    "cnn10_0 = load_model('keras/cnn10-0.keras')\n",
    "cnn10_1 = load_model('keras/cnn10-1.keras')\n",
    "cnn10_2 = load_model('keras/cnn10-2.keras')\n",
    "cnn10_3 = load_model('keras/cnn10-3.keras')\n",
    "cnn10_4 = load_model('keras/cnn10-4.keras')"
   ]
  },
  {
   "cell_type": "code",
   "execution_count": 28,
   "id": "24dde3ee",
   "metadata": {},
   "outputs": [
    {
     "name": "stdout",
     "output_type": "stream",
     "text": [
      "563/563 [==============================] - 42s 75ms/step\n",
      "563/563 [==============================] - 38s 66ms/step\n",
      "563/563 [==============================] - 41s 71ms/step\n",
      "563/563 [==============================] - 44s 77ms/step\n",
      "563/563 [==============================] - 40s 71ms/step\n",
      "563/563 [==============================] - 50s 88ms/step\n",
      "563/563 [==============================] - 47s 83ms/step\n"
     ]
    }
   ],
   "source": [
    "y_pred1 = cnn6.predict(X_test)\n",
    "y_pred2 = cnn7.predict(X_test)\n",
    "y_pred3 = cnn10_0.predict(X_test)\n",
    "y_pred4 = cnn10_1.predict(X_test)\n",
    "y_pred5 = cnn10_2.predict(X_test)\n",
    "y_pred6 = cnn10_3.predict(X_test)\n",
    "y_pred7 = cnn10_4.predict(X_test)\n"
   ]
  },
  {
   "cell_type": "code",
   "execution_count": null,
   "id": "eceb0543",
   "metadata": {},
   "outputs": [],
   "source": [
    "y_test = np.argmax(y_test, axis=1)"
   ]
  },
  {
   "cell_type": "code",
   "execution_count": 30,
   "id": "a5d59ce5",
   "metadata": {},
   "outputs": [
    {
     "data": {
      "text/plain": [
       "0.1005"
      ]
     },
     "execution_count": 30,
     "metadata": {},
     "output_type": "execute_result"
    }
   ],
   "source": [
    "final_predictions = hard_vote7(y_pred1, y_pred2, y_pred3, y_pred4, y_pred5, y_pred6, y_pred7)\n",
    "accuracy = accuracy_score(final_predictions, y_test)\n",
    "accuracy"
   ]
  },
  {
   "cell_type": "code",
   "execution_count": 31,
   "id": "ba102ef3",
   "metadata": {},
   "outputs": [
    {
     "name": "stdout",
     "output_type": "stream",
     "text": [
      "Attempts accuracy is saved to train_history/cnnhardvoting7/accuracy.csv\n"
     ]
    }
   ],
   "source": [
    "name = 'cnnhardvoting7'\n",
    "accuracy_df = pd.DataFrame(data=[accuracy], columns = ['accuracy'])\n",
    "accuracy_csv_file = f'train_history/{name}/accuracy.csv'\n",
    "with open(accuracy_csv_file, mode='w') as f:\n",
    "    accuracy_df.to_csv(f)\n",
    "print(f'Attempts accuracy is saved to {accuracy_csv_file}')"
   ]
  },
  {
   "cell_type": "markdown",
   "id": "fb6d2591",
   "metadata": {},
   "source": [
    "## Test 4: Soft voting for best CNN and VGG models\n",
    "CNN10 - fifth attempt $\\newline$\n",
    "VGG9 - batch size = 128"
   ]
  },
  {
   "cell_type": "code",
   "execution_count": 32,
   "id": "8eb042c5",
   "metadata": {},
   "outputs": [
    {
     "name": "stdout",
     "output_type": "stream",
     "text": [
      "WARNING:tensorflow:Error in loading the saved optimizer state. As a result, your model is starting with a freshly initialized optimizer.\n"
     ]
    }
   ],
   "source": [
    "cnn10 = load_model('keras/cnn10-4.keras')\n",
    "vgg9 = load_model('keras/vgg9-2.keras')"
   ]
  },
  {
   "cell_type": "code",
   "execution_count": 33,
   "id": "35df17c8",
   "metadata": {},
   "outputs": [
    {
     "name": "stdout",
     "output_type": "stream",
     "text": [
      "563/563 [==============================] - 35s 62ms/step\n",
      "563/563 [==============================] - 176s 312ms/step\n"
     ]
    }
   ],
   "source": [
    "y_pred1 = cnn10.predict(X_test)\n",
    "y_pred2 = vgg9.predict(X_test)"
   ]
  },
  {
   "cell_type": "code",
   "execution_count": null,
   "id": "3732d2ae",
   "metadata": {},
   "outputs": [],
   "source": [
    "y_test = np.argmax(y_test, axis=1)"
   ]
  },
  {
   "cell_type": "code",
   "execution_count": 34,
   "id": "f57410ab",
   "metadata": {},
   "outputs": [],
   "source": [
    "probs1 = softmax(y_pred1)\n",
    "probs2 = softmax(y_pred2)"
   ]
  },
  {
   "cell_type": "code",
   "execution_count": 35,
   "id": "2b893c9a",
   "metadata": {},
   "outputs": [
    {
     "data": {
      "text/plain": [
       "0.5447777777777778"
      ]
     },
     "execution_count": 35,
     "metadata": {},
     "output_type": "execute_result"
    }
   ],
   "source": [
    "final_probs = soft_vote_probs(probs1, probs2)\n",
    "final_predictions = np.argmax(final_probs, axis=1)\n",
    "accuracy = accuracy_score(final_predictions, y_test)\n",
    "accuracy"
   ]
  },
  {
   "cell_type": "code",
   "execution_count": 36,
   "id": "4800d66f",
   "metadata": {},
   "outputs": [
    {
     "name": "stdout",
     "output_type": "stream",
     "text": [
      "Attempts accuracy is saved to train_history/vggcnnsoftvoting/accuracy.csv\n"
     ]
    }
   ],
   "source": [
    "name = 'vggcnnsoftvoting'\n",
    "accuracy_df = pd.DataFrame(data=[accuracy], columns = ['accuracy'])\n",
    "accuracy_csv_file = f'train_history/{name}/accuracy.csv'\n",
    "with open(accuracy_csv_file, mode='w') as f:\n",
    "    accuracy_df.to_csv(f)\n",
    "print(f'Attempts accuracy is saved to {accuracy_csv_file}')"
   ]
  },
  {
   "cell_type": "code",
   "execution_count": null,
   "id": "7ed4e013",
   "metadata": {},
   "outputs": [],
   "source": []
  }
 ],
 "metadata": {
  "kernelspec": {
   "display_name": "Python 3 (ipykernel)",
   "language": "python",
   "name": "python3"
  },
  "language_info": {
   "codemirror_mode": {
    "name": "ipython",
    "version": 3
   },
   "file_extension": ".py",
   "mimetype": "text/x-python",
   "name": "python",
   "nbconvert_exporter": "python",
   "pygments_lexer": "ipython3",
   "version": "3.9.13"
  }
 },
 "nbformat": 4,
 "nbformat_minor": 5
}
