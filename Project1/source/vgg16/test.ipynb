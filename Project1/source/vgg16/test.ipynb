{
 "cells": [
  {
   "cell_type": "markdown",
   "id": "e804be16",
   "metadata": {},
   "source": [
    "# Visual Geometry Group (VGG16) transfer learning"
   ]
  },
  {
   "cell_type": "markdown",
   "id": "fa2e7704",
   "metadata": {},
   "source": [
    "Tests of the architecture with VGG16 pre-trained model."
   ]
  },
  {
   "cell_type": "code",
   "execution_count": 3,
   "id": "b5914451",
   "metadata": {},
   "outputs": [],
   "source": [
    "from tensorflow import keras\n",
    "from tensorflow.keras.preprocessing.image import ImageDataGenerator\n",
    "from tensorflow.keras.optimizers.legacy import Adam\n",
    "from tensorflow.keras.optimizers.legacy import Adamax\n",
    "import matplotlib.pyplot as plt\n",
    "import pandas as pd\n",
    "import numpy as np\n",
    "import seaborn as sns\n",
    "from sklearn.metrics import confusion_matrix\n",
    "from sklearn.metrics import accuracy_score\n",
    "from tensorflow.keras.preprocessing import image"
   ]
  },
  {
   "cell_type": "code",
   "execution_count": 4,
   "id": "fe84897a",
   "metadata": {},
   "outputs": [],
   "source": [
    "# TRAIN_DIR = '../vgg16/data/train'\n",
    "import os\n",
    "os.environ[\"KMP_DUPLICATE_LIB_OK\"]=\"TRUE\"\n",
    "TRAIN_DIR = os.path.abspath('../data/cinic-10_image_classification_challenge-dataset/train')\n",
    "seed = 2024"
   ]
  },
  {
   "cell_type": "code",
   "execution_count": 5,
   "id": "4e3df843",
   "metadata": {},
   "outputs": [
    {
     "name": "stdout",
     "output_type": "stream",
     "text": [
      "Found 72000 images belonging to 10 classes.\n",
      "Found 18000 images belonging to 10 classes.\n"
     ]
    }
   ],
   "source": [
    "datagen = ImageDataGenerator(validation_split=0.2)\n",
    "\n",
    "train_generator = datagen.flow_from_directory(\n",
    "    TRAIN_DIR, \n",
    "    subset='training',\n",
    "    seed=seed,\n",
    "    target_size=(32, 32),\n",
    "    batch_size=16\n",
    ")\n",
    "\n",
    "val_generator = datagen.flow_from_directory(\n",
    "    TRAIN_DIR,\n",
    "    subset='validation',\n",
    "    seed=seed,\n",
    "    target_size=(32, 32),\n",
    "    batch_size=16\n",
    ")"
   ]
  },
  {
   "cell_type": "code",
   "execution_count": 6,
   "id": "53378637",
   "metadata": {},
   "outputs": [],
   "source": [
    "vgg16 = keras.applications.VGG16(\n",
    "    include_top=False,\n",
    "    weights=\"imagenet\",\n",
    "    input_tensor=None,\n",
    "    input_shape=(32,32,3),\n",
    "    pooling=None,\n",
    "    classes=1000,\n",
    "    classifier_activation=\"softmax\",\n",
    ")"
   ]
  },
  {
   "cell_type": "code",
   "execution_count": 7,
   "id": "024bbe69",
   "metadata": {},
   "outputs": [],
   "source": [
    "for layer in vgg16.layers:\n",
    "    layer.trainable = False"
   ]
  },
  {
   "cell_type": "code",
   "execution_count": 8,
   "id": "1b09c183",
   "metadata": {},
   "outputs": [],
   "source": [
    "def plot_accuracy_and_loss(history_df, name, idx):\n",
    "    # Plot and save accuraccy\n",
    "    plt.plot(history_df['accuracy'])\n",
    "    plt.plot(history_df['val_accuracy'])\n",
    "    plt.title(f'{name}: accuracy')\n",
    "    plt.ylabel('accuracy')\n",
    "    plt.xlabel('epoch')\n",
    "    plt.legend(['train', 'test'], loc='upper left')\n",
    "    path = f'train_history/{name}/{idx}_accuracy.png'\n",
    "    plt.savefig(path)\n",
    "    print(f'Accuracy plot is saved to: {path}')\n",
    "    plt.close()\n",
    "    # Plot and save loss\n",
    "    plt.figure()\n",
    "    plt.plot(history_df['loss'])\n",
    "    plt.plot(history_df['val_loss'])\n",
    "    plt.title(f'{name}: loss')\n",
    "    plt.ylabel('loss')\n",
    "    plt.xlabel('epoch')\n",
    "    plt.legend(['train', 'test'], loc='upper right')\n",
    "    path = f'train_history/{name}/{idx}_loss.png'\n",
    "    plt.savefig(path)\n",
    "    print(f'Loss plot is saved to: {path}')\n",
    "    plt.close()\n",
    "\n",
    "def plot_confusion_matrix(name, idx):\n",
    "    model = keras.models.load_model('train_history/'+name+'/'+idx+'.keras')\n",
    "    X, y = zip(*(val_generator[i] for i in range(len(val_generator))))\n",
    "    X_test, y_test = np.vstack(X), np.vstack(y)\n",
    "    y_pred = np.argmax(model.predict(X_test), axis=-1)\n",
    "    y_test = np.argmax(y_test, axis=1)\n",
    "\n",
    "    cm = confusion_matrix(y_test, y_pred)\n",
    "    accuracy = accuracy_score(y_test, y_pred)\n",
    "    print(f'Accuracy: {accuracy * 100:.2f}%')\n",
    "\n",
    "    plt.figure(figsize=(8, 6))\n",
    "    sns.heatmap(cm, annot=True, fmt=\"d\", cmap=\"Blues\", xticklabels=range(0, 10), yticklabels=range(0, 10))\n",
    "    plt.xlabel('Predicted')\n",
    "    plt.ylabel('True')\n",
    "    plt.title(f'{name} Confusion Matrix. Accuracy: {accuracy * 100:.2f}%')\n",
    "    path = f'train_history/{name}/{idx}_confusion_matrix.png'\n",
    "    plt.savefig(path)\n",
    "    print(f'Confusion matrix is saved to: {path}')\n",
    "    plt.close()\n",
    "    return accuracy\n",
    "\n",
    "def plot_accuracy_boxplot(accuracy, name): \n",
    "    plt.figure()\n",
    "    plt.boxplot(accuracy)\n",
    "    plt.xticks([1], [name])\n",
    "    plt.title(f'{name}: Accuracy boxplot')\n",
    "    path = f'train_history/{name}/boxplot.png'\n",
    "    plt.savefig(path)\n",
    "    print(f'Accuracy boxplot is saved to: {path}')\n",
    "    plt.close()"
   ]
  },
  {
   "cell_type": "markdown",
   "id": "a5bf696b",
   "metadata": {},
   "source": [
    "## Test 1: VGG16 pre-trained model with extra layers"
   ]
  },
  {
   "cell_type": "markdown",
   "id": "918173b9",
   "metadata": {},
   "source": [
    "VGG16 - (Flatten) Dense (50) - Dense (20) - Dense (10)"
   ]
  },
  {
   "cell_type": "code",
   "execution_count": 12,
   "id": "51bc5a8c",
   "metadata": {
    "scrolled": false
   },
   "outputs": [
    {
     "name": "stdout",
     "output_type": "stream",
     "text": [
      "Attempt #1\n",
      "Epoch 1/10\n",
      "4500/4500 [==============================] - 699s 154ms/step - loss: 1.9860 - accuracy: 0.2869 - val_loss: 1.5103 - val_accuracy: 0.4458\n",
      "Epoch 2/10\n",
      "4500/4500 [==============================] - 670s 149ms/step - loss: 1.5585 - accuracy: 0.4287 - val_loss: 1.4037 - val_accuracy: 0.5019\n",
      "Epoch 3/10\n",
      "4500/4500 [==============================] - 674s 150ms/step - loss: 1.5005 - accuracy: 0.4544 - val_loss: 1.3872 - val_accuracy: 0.5179\n",
      "Epoch 4/10\n",
      "4500/4500 [==============================] - 693s 154ms/step - loss: 1.4631 - accuracy: 0.4687 - val_loss: 1.3719 - val_accuracy: 0.5264\n",
      "Epoch 5/10\n",
      "4500/4500 [==============================] - 704s 156ms/step - loss: 1.4365 - accuracy: 0.4806 - val_loss: 1.3956 - val_accuracy: 0.4949\n",
      "Epoch 6/10\n",
      "4500/4500 [==============================] - 720s 160ms/step - loss: 1.4168 - accuracy: 0.4881 - val_loss: 1.3799 - val_accuracy: 0.5250\n",
      "Epoch 7/10\n",
      "4500/4500 [==============================] - 702s 156ms/step - loss: 1.3976 - accuracy: 0.4941 - val_loss: 1.3920 - val_accuracy: 0.5189\n",
      "Epoch 8/10\n",
      "4500/4500 [==============================] - 706s 157ms/step - loss: 1.3807 - accuracy: 0.5016 - val_loss: 1.3841 - val_accuracy: 0.5197\n",
      "Epoch 9/10\n",
      "4500/4500 [==============================] - 696s 155ms/step - loss: 1.3682 - accuracy: 0.5077 - val_loss: 1.3775 - val_accuracy: 0.5200\n",
      "Epoch 10/10\n",
      "4500/4500 [==============================] - 759s 169ms/step - loss: 1.3545 - accuracy: 0.5099 - val_loss: 1.3762 - val_accuracy: 0.5268\n",
      "Accuracy plot is saved to: train_history/vgg1/0_accuracy.png\n",
      "Loss plot is saved to: train_history/vgg1/0_loss.png\n",
      "563/563 [==============================] - 154s 273ms/step\n",
      "Accuracy: 52.68%\n",
      "Confusion matrix is saved to: train_history/vgg1/0_confusion_matrix.png\n",
      "Attempt accuracy: 52.68%\n",
      "Attempt #2\n",
      "Epoch 1/10\n",
      "4500/4500 [==============================] - 830s 184ms/step - loss: 2.0748 - accuracy: 0.2519 - val_loss: 1.6230 - val_accuracy: 0.4146\n",
      "Epoch 2/10\n",
      "4500/4500 [==============================] - 858s 191ms/step - loss: 1.6036 - accuracy: 0.4093 - val_loss: 1.4789 - val_accuracy: 0.4674\n",
      "Epoch 3/10\n",
      "4500/4500 [==============================] - 1100s 244ms/step - loss: 1.5389 - accuracy: 0.4389 - val_loss: 1.4462 - val_accuracy: 0.4858\n",
      "Epoch 4/10\n",
      "4500/4500 [==============================] - 1946s 433ms/step - loss: 1.5038 - accuracy: 0.4580 - val_loss: 1.4150 - val_accuracy: 0.4957\n",
      "Epoch 5/10\n",
      "4500/4500 [==============================] - 2001s 445ms/step - loss: 1.4762 - accuracy: 0.4675 - val_loss: 1.3999 - val_accuracy: 0.5107\n",
      "Epoch 6/10\n",
      "4500/4500 [==============================] - 1247s 277ms/step - loss: 1.4563 - accuracy: 0.4773 - val_loss: 1.4067 - val_accuracy: 0.5102\n",
      "Epoch 7/10\n",
      "4500/4500 [==============================] - 747s 166ms/step - loss: 1.4372 - accuracy: 0.4843 - val_loss: 1.4174 - val_accuracy: 0.5069\n",
      "Epoch 8/10\n",
      "4500/4500 [==============================] - 760s 169ms/step - loss: 1.4239 - accuracy: 0.4888 - val_loss: 1.3843 - val_accuracy: 0.5273\n",
      "Epoch 9/10\n",
      "4500/4500 [==============================] - 799s 177ms/step - loss: 1.4084 - accuracy: 0.4954 - val_loss: 1.4264 - val_accuracy: 0.5101\n",
      "Epoch 10/10\n",
      "4500/4500 [==============================] - 821s 182ms/step - loss: 1.3957 - accuracy: 0.5001 - val_loss: 1.4142 - val_accuracy: 0.5194\n",
      "Accuracy plot is saved to: train_history/vgg1/1_accuracy.png\n",
      "Loss plot is saved to: train_history/vgg1/1_loss.png\n",
      "563/563 [==============================] - 153s 271ms/step\n",
      "Accuracy: 51.94%\n",
      "Confusion matrix is saved to: train_history/vgg1/1_confusion_matrix.png\n",
      "Attempt accuracy: 51.94%\n",
      "Attempt #3\n",
      "Epoch 1/10\n",
      "4500/4500 [==============================] - 816s 181ms/step - loss: 1.9399 - accuracy: 0.2901 - val_loss: 1.5793 - val_accuracy: 0.4147\n",
      "Epoch 2/10\n",
      "4500/4500 [==============================] - 831s 185ms/step - loss: 1.5934 - accuracy: 0.4071 - val_loss: 1.5033 - val_accuracy: 0.4476\n",
      "Epoch 3/10\n",
      "4500/4500 [==============================] - 716s 159ms/step - loss: 1.5297 - accuracy: 0.4394 - val_loss: 1.4438 - val_accuracy: 0.4953\n",
      "Epoch 4/10\n",
      "4500/4500 [==============================] - 716s 159ms/step - loss: 1.4855 - accuracy: 0.4591 - val_loss: 1.4190 - val_accuracy: 0.5071\n",
      "Epoch 5/10\n",
      "4500/4500 [==============================] - 704s 156ms/step - loss: 1.4561 - accuracy: 0.4699 - val_loss: 1.4268 - val_accuracy: 0.4959\n",
      "Epoch 6/10\n",
      "4500/4500 [==============================] - 710s 158ms/step - loss: 1.4327 - accuracy: 0.4788 - val_loss: 1.4215 - val_accuracy: 0.5077\n",
      "Epoch 7/10\n",
      "4500/4500 [==============================] - 713s 158ms/step - loss: 1.4140 - accuracy: 0.4849 - val_loss: 1.4322 - val_accuracy: 0.5082\n",
      "Epoch 8/10\n",
      "4500/4500 [==============================] - 737s 164ms/step - loss: 1.3972 - accuracy: 0.4915 - val_loss: 1.4149 - val_accuracy: 0.5098\n",
      "Epoch 9/10\n",
      "4500/4500 [==============================] - 877s 195ms/step - loss: 1.3827 - accuracy: 0.4977 - val_loss: 1.4327 - val_accuracy: 0.5106\n",
      "Epoch 10/10\n",
      "4500/4500 [==============================] - 735s 163ms/step - loss: 1.3709 - accuracy: 0.4997 - val_loss: 1.4352 - val_accuracy: 0.5048\n",
      "Accuracy plot is saved to: train_history/vgg1/2_accuracy.png\n",
      "Loss plot is saved to: train_history/vgg1/2_loss.png\n",
      "563/563 [==============================] - 135s 238ms/step\n",
      "Accuracy: 50.48%\n",
      "Confusion matrix is saved to: train_history/vgg1/2_confusion_matrix.png\n",
      "Attempt accuracy: 50.48%\n",
      "Attempt #4\n",
      "Epoch 1/10\n",
      "4500/4500 [==============================] - 739s 164ms/step - loss: 2.1116 - accuracy: 0.2418 - val_loss: 1.7019 - val_accuracy: 0.3874\n",
      "Epoch 2/10\n",
      "4500/4500 [==============================] - 789s 175ms/step - loss: 1.6445 - accuracy: 0.3999 - val_loss: 1.5146 - val_accuracy: 0.4461\n",
      "Epoch 3/10\n",
      "4500/4500 [==============================] - 1239s 275ms/step - loss: 1.5423 - accuracy: 0.4376 - val_loss: 1.4344 - val_accuracy: 0.4956\n",
      "Epoch 4/10\n",
      "4500/4500 [==============================] - 1114s 248ms/step - loss: 1.4924 - accuracy: 0.4592 - val_loss: 1.3971 - val_accuracy: 0.5029\n",
      "Epoch 5/10\n",
      "4500/4500 [==============================] - 883s 196ms/step - loss: 1.4576 - accuracy: 0.4718 - val_loss: 1.4028 - val_accuracy: 0.5108\n",
      "Epoch 6/10\n",
      "4500/4500 [==============================] - 946s 210ms/step - loss: 1.4317 - accuracy: 0.4813 - val_loss: 1.3886 - val_accuracy: 0.5086\n",
      "Epoch 7/10\n",
      "4500/4500 [==============================] - 883s 196ms/step - loss: 1.4086 - accuracy: 0.4887 - val_loss: 1.3894 - val_accuracy: 0.5152\n",
      "Epoch 8/10\n",
      "4500/4500 [==============================] - 937s 208ms/step - loss: 1.3903 - accuracy: 0.4983 - val_loss: 1.4228 - val_accuracy: 0.5099\n",
      "Epoch 9/10\n",
      "4500/4500 [==============================] - 860s 191ms/step - loss: 1.3761 - accuracy: 0.5030 - val_loss: 1.4028 - val_accuracy: 0.5206\n",
      "Epoch 10/10\n",
      "4500/4500 [==============================] - 748s 166ms/step - loss: 1.3635 - accuracy: 0.5073 - val_loss: 1.3944 - val_accuracy: 0.5181\n",
      "Accuracy plot is saved to: train_history/vgg1/3_accuracy.png\n",
      "Loss plot is saved to: train_history/vgg1/3_loss.png\n",
      "563/563 [==============================] - 132s 233ms/step\n",
      "Accuracy: 51.81%\n",
      "Confusion matrix is saved to: train_history/vgg1/3_confusion_matrix.png\n",
      "Attempt accuracy: 51.81%\n",
      "Attempt #5\n",
      "Epoch 1/10\n",
      "4500/4500 [==============================] - 750s 165ms/step - loss: 1.9799 - accuracy: 0.2713 - val_loss: 1.6298 - val_accuracy: 0.3770\n",
      "Epoch 2/10\n",
      "4500/4500 [==============================] - 748s 166ms/step - loss: 1.5944 - accuracy: 0.4087 - val_loss: 1.4554 - val_accuracy: 0.4741\n",
      "Epoch 3/10\n",
      "4500/4500 [==============================] - 745s 165ms/step - loss: 1.5091 - accuracy: 0.4518 - val_loss: 1.3872 - val_accuracy: 0.5058\n",
      "Epoch 4/10\n",
      "4500/4500 [==============================] - 745s 166ms/step - loss: 1.4661 - accuracy: 0.4686 - val_loss: 1.3948 - val_accuracy: 0.5129\n",
      "Epoch 5/10\n",
      "4500/4500 [==============================] - 749s 166ms/step - loss: 1.4378 - accuracy: 0.4774 - val_loss: 1.3609 - val_accuracy: 0.5213\n",
      "Epoch 6/10\n",
      "4500/4500 [==============================] - 736s 164ms/step - loss: 1.4134 - accuracy: 0.4892 - val_loss: 1.3942 - val_accuracy: 0.5116\n",
      "Epoch 7/10\n",
      "4500/4500 [==============================] - 741s 165ms/step - loss: 1.3958 - accuracy: 0.4948 - val_loss: 1.3679 - val_accuracy: 0.5293\n",
      "Epoch 8/10\n",
      "4500/4500 [==============================] - 748s 166ms/step - loss: 1.3786 - accuracy: 0.5014 - val_loss: 1.3815 - val_accuracy: 0.5202\n",
      "Epoch 9/10\n",
      "4500/4500 [==============================] - 737s 164ms/step - loss: 1.3627 - accuracy: 0.5070 - val_loss: 1.3933 - val_accuracy: 0.5194\n",
      "Epoch 10/10\n",
      "4500/4500 [==============================] - 743s 165ms/step - loss: 1.3518 - accuracy: 0.5119 - val_loss: 1.3789 - val_accuracy: 0.5243\n",
      "Accuracy plot is saved to: train_history/vgg1/4_accuracy.png\n",
      "Loss plot is saved to: train_history/vgg1/4_loss.png\n",
      "563/563 [==============================] - 137s 241ms/step\n",
      "Accuracy: 52.43%\n",
      "Confusion matrix is saved to: train_history/vgg1/4_confusion_matrix.png\n",
      "Attempt accuracy: 52.43%\n",
      "Attempts accuracy is saved to train_history/vgg1/accuracy.csv\n",
      "Accuracy boxplot is saved to: train_history/vgg1/boxplot.png\n"
     ]
    }
   ],
   "source": [
    "name = 'vgg1'\n",
    "n_epochs = 10\n",
    "n_repeat = 5\n",
    "keras.utils.set_random_seed(seed)\n",
    "accuracy = []\n",
    "\n",
    "for idx in range(n_repeat):\n",
    "    print(f'Attempt #{idx + 1}')\n",
    "    x = keras.layers.Flatten()(vgg16.output)\n",
    "    x = keras.layers.Dense(units=50, activation='relu')(x)\n",
    "    x = keras.layers.Dense(units=20, activation='relu')(x)\n",
    "    x = keras.layers.Dense(units=10, activation='softmax', name='output')(x)\n",
    "    model = keras.models.Model(inputs=vgg16.input, outputs=x)\n",
    "    model.compile(loss='categorical_crossentropy', optimizer='adam', metrics=['accuracy'])\n",
    "    \n",
    "    history = model.fit(\n",
    "        train_generator,\n",
    "        validation_data=val_generator,\n",
    "        epochs=n_epochs\n",
    "    )\n",
    "    \n",
    "    model.save(f'train_history/{name}/{idx}.keras')\n",
    "    history_df = pd.DataFrame(history.history) \n",
    "    hist_csv_file = 'train_history/' + name + '/' + str(idx) + '_history.csv'\n",
    "    with open(hist_csv_file, mode='w') as f:\n",
    "        history_df.to_csv(f)\n",
    "    plot_accuracy_and_loss(history_df, name, str(idx))\n",
    "    curr_accuracy = plot_confusion_matrix(name, str(idx))\n",
    "    accuracy.append(curr_accuracy)\n",
    "    print(f'Attempt accuracy: {curr_accuracy * 100:.2f}%')\n",
    "    \n",
    "accuracy_df = pd.DataFrame(data=accuracy, columns = ['accuracy'])\n",
    "accuracy_csv_file = 'train_history/' + name + '/accuracy.csv'\n",
    "with open(accuracy_csv_file, mode='w') as f:\n",
    "    accuracy_df.to_csv(f)\n",
    "print(f'Attempts accuracy is saved to {accuracy_csv_file}')\n",
    "plot_accuracy_boxplot(accuracy, name)\n",
    "\n",
    "    "
   ]
  },
  {
   "cell_type": "markdown",
   "id": "5aa0b1b3",
   "metadata": {},
   "source": [
    "## Test 2: VGG1 with dropout layers, rescaling factor and 5 epochs"
   ]
  },
  {
   "cell_type": "markdown",
   "id": "021bf490",
   "metadata": {},
   "source": [
    "VGG16 - (Flatten) Dense (50) - Dropout - Dense (20) - Dropout - Dense (10)"
   ]
  },
  {
   "cell_type": "code",
   "execution_count": 7,
   "id": "b8d1db17",
   "metadata": {},
   "outputs": [
    {
     "name": "stdout",
     "output_type": "stream",
     "text": [
      "Found 72000 images belonging to 10 classes.\n",
      "Found 18000 images belonging to 10 classes.\n"
     ]
    }
   ],
   "source": [
    "datagen = ImageDataGenerator(validation_split=0.2,\n",
    "                             rescale=1./255)\n",
    "\n",
    "train_generator = datagen.flow_from_directory(\n",
    "    TRAIN_DIR, \n",
    "    subset='training',\n",
    "    seed=seed,\n",
    "    target_size=(32, 32),\n",
    "    batch_size=16\n",
    ")\n",
    "\n",
    "val_generator = datagen.flow_from_directory(\n",
    "    TRAIN_DIR,\n",
    "    subset='validation',\n",
    "    seed=seed,\n",
    "    target_size=(32, 32),\n",
    "    batch_size=16\n",
    ")"
   ]
  },
  {
   "cell_type": "code",
   "execution_count": 33,
   "id": "20a0402a",
   "metadata": {
    "scrolled": false
   },
   "outputs": [
    {
     "name": "stdout",
     "output_type": "stream",
     "text": [
      "Attempt #1\n",
      "Epoch 1/5\n",
      "4500/4500 [==============================] - 814s 180ms/step - loss: 2.0188 - accuracy: 0.2464 - val_loss: 1.6946 - val_accuracy: 0.3977\n",
      "Epoch 2/5\n",
      "4500/4500 [==============================] - 868s 193ms/step - loss: 1.8820 - accuracy: 0.2965 - val_loss: 1.6698 - val_accuracy: 0.3845\n",
      "Epoch 3/5\n",
      "4500/4500 [==============================] - 2361s 525ms/step - loss: 1.8520 - accuracy: 0.3075 - val_loss: 1.6259 - val_accuracy: 0.4082\n",
      "Epoch 4/5\n",
      "4500/4500 [==============================] - 916s 203ms/step - loss: 1.8382 - accuracy: 0.3150 - val_loss: 1.6114 - val_accuracy: 0.4378\n",
      "Epoch 5/5\n",
      "4500/4500 [==============================] - 883s 196ms/step - loss: 1.8290 - accuracy: 0.3198 - val_loss: 1.5961 - val_accuracy: 0.4416\n",
      "Accuracy plot is saved to: train_history/vgg2/0_accuracy.png\n",
      "Loss plot is saved to: train_history/vgg2/0_loss.png\n",
      "563/563 [==============================] - 152s 269ms/step\n",
      "Accuracy: 44.16%\n",
      "Confusion matrix is saved to: train_history/vgg2/0_confusion_matrix.png\n",
      "Attempt accuracy: 44.16%\n",
      "Attempt #2\n",
      "Epoch 1/5\n",
      "4500/4500 [==============================] - 967s 215ms/step - loss: 2.0286 - accuracy: 0.2407 - val_loss: 1.7041 - val_accuracy: 0.3998\n",
      "Epoch 2/5\n",
      "4500/4500 [==============================] - 768s 171ms/step - loss: 1.8853 - accuracy: 0.2985 - val_loss: 1.6636 - val_accuracy: 0.4071\n",
      "Epoch 3/5\n",
      "4500/4500 [==============================] - 845s 188ms/step - loss: 1.8533 - accuracy: 0.3129 - val_loss: 1.6051 - val_accuracy: 0.4275\n",
      "Epoch 4/5\n",
      "4500/4500 [==============================] - 867s 193ms/step - loss: 1.8408 - accuracy: 0.3142 - val_loss: 1.6260 - val_accuracy: 0.4315\n",
      "Epoch 5/5\n",
      "4500/4500 [==============================] - 849s 189ms/step - loss: 1.8250 - accuracy: 0.3222 - val_loss: 1.5862 - val_accuracy: 0.4394\n",
      "Accuracy plot is saved to: train_history/vgg2/1_accuracy.png\n",
      "Loss plot is saved to: train_history/vgg2/1_loss.png\n",
      "563/563 [==============================] - 144s 255ms/step\n",
      "Accuracy: 43.94%\n",
      "Confusion matrix is saved to: train_history/vgg2/1_confusion_matrix.png\n",
      "Attempt accuracy: 43.94%\n",
      "Attempt #3\n",
      "Epoch 1/5\n",
      "4500/4500 [==============================] - 766s 169ms/step - loss: 2.0249 - accuracy: 0.2484 - val_loss: 1.6618 - val_accuracy: 0.4292\n",
      "Epoch 2/5\n",
      "4500/4500 [==============================] - 865s 192ms/step - loss: 1.8818 - accuracy: 0.3033 - val_loss: 1.6528 - val_accuracy: 0.4371\n",
      "Epoch 3/5\n",
      "4500/4500 [==============================] - 783s 174ms/step - loss: 1.8523 - accuracy: 0.3116 - val_loss: 1.6224 - val_accuracy: 0.4284\n",
      "Epoch 4/5\n",
      "4500/4500 [==============================] - 780s 173ms/step - loss: 1.8381 - accuracy: 0.3159 - val_loss: 1.5944 - val_accuracy: 0.4255\n",
      "Epoch 5/5\n",
      "4500/4500 [==============================] - 778s 173ms/step - loss: 1.8263 - accuracy: 0.3210 - val_loss: 1.5753 - val_accuracy: 0.4287\n",
      "Accuracy plot is saved to: train_history/vgg2/2_accuracy.png\n",
      "Loss plot is saved to: train_history/vgg2/2_loss.png\n",
      "563/563 [==============================] - 160s 283ms/step\n",
      "Accuracy: 42.87%\n",
      "Confusion matrix is saved to: train_history/vgg2/2_confusion_matrix.png\n",
      "Attempt accuracy: 42.87%\n",
      "Attempt #4\n",
      "Epoch 1/5\n",
      "4500/4500 [==============================] - 6988s 2s/step - loss: 2.0251 - accuracy: 0.2452 - val_loss: 1.7298 - val_accuracy: 0.3914\n",
      "Epoch 2/5\n",
      "4500/4500 [==============================] - 1175s 261ms/step - loss: 1.8840 - accuracy: 0.3049 - val_loss: 1.6527 - val_accuracy: 0.4141\n",
      "Epoch 3/5\n",
      "4500/4500 [==============================] - 874s 194ms/step - loss: 1.8475 - accuracy: 0.3171 - val_loss: 1.5939 - val_accuracy: 0.4423\n",
      "Epoch 4/5\n",
      "4500/4500 [==============================] - 983s 218ms/step - loss: 1.8321 - accuracy: 0.3238 - val_loss: 1.5852 - val_accuracy: 0.4442\n",
      "Epoch 5/5\n",
      "4500/4500 [==============================] - 971s 216ms/step - loss: 1.8200 - accuracy: 0.3268 - val_loss: 1.5875 - val_accuracy: 0.4256\n",
      "Accuracy plot is saved to: train_history/vgg2/3_accuracy.png\n",
      "Loss plot is saved to: train_history/vgg2/3_loss.png\n",
      "563/563 [==============================] - 181s 320ms/step\n",
      "Accuracy: 42.56%\n",
      "Confusion matrix is saved to: train_history/vgg2/3_confusion_matrix.png\n",
      "Attempt accuracy: 42.56%\n",
      "Attempt #5\n",
      "Epoch 1/5\n",
      "4500/4500 [==============================] - 851s 189ms/step - loss: 2.0161 - accuracy: 0.2469 - val_loss: 1.6865 - val_accuracy: 0.4023\n",
      "Epoch 2/5\n",
      "4500/4500 [==============================] - 7285s 2s/step - loss: 1.8655 - accuracy: 0.3108 - val_loss: 1.6117 - val_accuracy: 0.4303\n",
      "Epoch 3/5\n",
      "4500/4500 [==============================] - 758s 168ms/step - loss: 1.8293 - accuracy: 0.3235 - val_loss: 1.6032 - val_accuracy: 0.4408\n",
      "Epoch 4/5\n",
      "4500/4500 [==============================] - 698s 155ms/step - loss: 1.8142 - accuracy: 0.3314 - val_loss: 1.5669 - val_accuracy: 0.4303\n",
      "Epoch 5/5\n",
      "4500/4500 [==============================] - 789s 175ms/step - loss: 1.8047 - accuracy: 0.3370 - val_loss: 1.5751 - val_accuracy: 0.4427\n",
      "Accuracy plot is saved to: train_history/vgg2/4_accuracy.png\n",
      "Loss plot is saved to: train_history/vgg2/4_loss.png\n",
      "563/563 [==============================] - 241s 412ms/step\n",
      "Accuracy: 44.27%\n",
      "Confusion matrix is saved to: train_history/vgg2/4_confusion_matrix.png\n",
      "Attempt accuracy: 44.27%\n",
      "Attempts accuracy is saved to train_history/vgg2/accuracy.csv\n",
      "Accuracy boxplot is saved to: train_history/vgg2/boxplot.png\n"
     ]
    }
   ],
   "source": [
    "name = 'vgg2'\n",
    "n_epochs = 5\n",
    "n_repeat = 5\n",
    "keras.utils.set_random_seed(seed)\n",
    "accuracy = []\n",
    "\n",
    "for idx in range(n_repeat):\n",
    "    print(f'Attempt #{idx + 1}')\n",
    "    x = keras.layers.Flatten()(vgg16.output)\n",
    "    x = keras.layers.Dense(units=50, activation='relu')(x)\n",
    "    x = keras.layers.Dropout(0.5)(x)\n",
    "    x = keras.layers.Dense(units=20, activation='relu')(x)\n",
    "    x = keras.layers.Dropout(0.5)(x)\n",
    "    x = keras.layers.Dense(units=10, activation='softmax', name='output')(x)\n",
    "    model = keras.models.Model(inputs=vgg16.input, outputs=x)\n",
    "    model.compile(loss='categorical_crossentropy', optimizer='adam', metrics=['accuracy'])\n",
    "    \n",
    "    history = model.fit(\n",
    "        train_generator,\n",
    "        validation_data=val_generator,\n",
    "        epochs=n_epochs\n",
    "    )\n",
    "    \n",
    "    model.save(f'train_history/{name}/{idx}.keras')\n",
    "    history_df = pd.DataFrame(history.history) \n",
    "    hist_csv_file = 'train_history/' + name + '/' + str(idx) + '_history.csv'\n",
    "    with open(hist_csv_file, mode='w') as f:\n",
    "        history_df.to_csv(f)\n",
    "    plot_accuracy_and_loss(history_df, name, str(idx))\n",
    "    curr_accuracy = plot_confusion_matrix(name, str(idx))\n",
    "    accuracy.append(curr_accuracy)\n",
    "    print(f'Attempt accuracy: {curr_accuracy * 100:.2f}%')\n",
    "    \n",
    "accuracy_df = pd.DataFrame(data=accuracy, columns = ['accuracy'])\n",
    "accuracy_csv_file = 'train_history/' + name + '/accuracy.csv'\n",
    "with open(accuracy_csv_file, mode='w') as f:\n",
    "    accuracy_df.to_csv(f)\n",
    "print(f'Attempts accuracy is saved to {accuracy_csv_file}')\n",
    "plot_accuracy_boxplot(accuracy, name)\n"
   ]
  },
  {
   "cell_type": "markdown",
   "id": "0d3537ef",
   "metadata": {},
   "source": [
    "## Test 3: VGG1 with normalization, rescaling factor and 5 epochs"
   ]
  },
  {
   "cell_type": "markdown",
   "id": "a04f4a97",
   "metadata": {},
   "source": [
    "VGG16 - (Flatten) (Batch normalization) Dense (50) - Dense (20) - Dense (10)"
   ]
  },
  {
   "cell_type": "code",
   "execution_count": 38,
   "id": "f0d9a893",
   "metadata": {
    "scrolled": false
   },
   "outputs": [
    {
     "name": "stdout",
     "output_type": "stream",
     "text": [
      "Attempt #1\n",
      "Epoch 1/5\n",
      "4500/4500 [==============================] - 1597s 353ms/step - loss: 1.6800 - accuracy: 0.3942 - val_loss: 1.4067 - val_accuracy: 0.5072\n",
      "Epoch 2/5\n",
      "4500/4500 [==============================] - 1277s 284ms/step - loss: 1.5594 - accuracy: 0.4388 - val_loss: 1.3886 - val_accuracy: 0.5197\n",
      "Epoch 3/5\n",
      "4500/4500 [==============================] - 1063s 236ms/step - loss: 1.5235 - accuracy: 0.4521 - val_loss: 1.3849 - val_accuracy: 0.5193\n",
      "Epoch 4/5\n",
      "4500/4500 [==============================] - 913s 203ms/step - loss: 1.4998 - accuracy: 0.4595 - val_loss: 1.3602 - val_accuracy: 0.5307\n",
      "Epoch 5/5\n",
      "4500/4500 [==============================] - 789s 175ms/step - loss: 1.4819 - accuracy: 0.4680 - val_loss: 1.3746 - val_accuracy: 0.5252\n",
      "Accuracy plot is saved to: train_history/vgg3/0_accuracy.png\n",
      "Loss plot is saved to: train_history/vgg3/0_loss.png\n",
      "563/563 [==============================] - 146s 258ms/step\n",
      "Accuracy: 52.52%\n",
      "Confusion matrix is saved to: train_history/vgg3/0_confusion_matrix.png\n",
      "Attempt accuracy: 52.52%\n",
      "Attempt #2\n",
      "Epoch 1/5\n",
      "4500/4500 [==============================] - 798s 177ms/step - loss: 1.6841 - accuracy: 0.3902 - val_loss: 1.4028 - val_accuracy: 0.5155\n",
      "Epoch 2/5\n",
      "4500/4500 [==============================] - 780s 173ms/step - loss: 1.5568 - accuracy: 0.4392 - val_loss: 1.3816 - val_accuracy: 0.5216\n",
      "Epoch 3/5\n",
      "4500/4500 [==============================] - 753s 167ms/step - loss: 1.5238 - accuracy: 0.4521 - val_loss: 1.3691 - val_accuracy: 0.5282\n",
      "Epoch 4/5\n",
      "4500/4500 [==============================] - 744s 165ms/step - loss: 1.4967 - accuracy: 0.4602 - val_loss: 1.3839 - val_accuracy: 0.5275\n",
      "Epoch 5/5\n",
      "4500/4500 [==============================] - 742s 165ms/step - loss: 1.4808 - accuracy: 0.4670 - val_loss: 1.3697 - val_accuracy: 0.5280\n",
      "Accuracy plot is saved to: train_history/vgg3/1_accuracy.png\n",
      "Loss plot is saved to: train_history/vgg3/1_loss.png\n",
      "563/563 [==============================] - 130s 229ms/step\n",
      "Accuracy: 52.80%\n",
      "Confusion matrix is saved to: train_history/vgg3/1_confusion_matrix.png\n",
      "Attempt accuracy: 52.80%\n",
      "Attempt #3\n",
      "Epoch 1/5\n",
      "4500/4500 [==============================] - 753s 167ms/step - loss: 1.6783 - accuracy: 0.3957 - val_loss: 1.4168 - val_accuracy: 0.5143\n",
      "Epoch 2/5\n",
      "4500/4500 [==============================] - 753s 167ms/step - loss: 1.5630 - accuracy: 0.4364 - val_loss: 1.3775 - val_accuracy: 0.5221\n",
      "Epoch 3/5\n",
      "4500/4500 [==============================] - 753s 167ms/step - loss: 1.5251 - accuracy: 0.4511 - val_loss: 1.3860 - val_accuracy: 0.5250\n",
      "Epoch 4/5\n",
      "4500/4500 [==============================] - 755s 168ms/step - loss: 1.5005 - accuracy: 0.4580 - val_loss: 1.3930 - val_accuracy: 0.5198\n",
      "Epoch 5/5\n",
      "4500/4500 [==============================] - 752s 167ms/step - loss: 1.4816 - accuracy: 0.4658 - val_loss: 1.3684 - val_accuracy: 0.5317\n",
      "Accuracy plot is saved to: train_history/vgg3/2_accuracy.png\n",
      "Loss plot is saved to: train_history/vgg3/2_loss.png\n",
      "563/563 [==============================] - 132s 233ms/step\n",
      "Accuracy: 53.17%\n",
      "Confusion matrix is saved to: train_history/vgg3/2_confusion_matrix.png\n",
      "Attempt accuracy: 53.17%\n",
      "Attempt #4\n",
      "Epoch 1/5\n",
      "4500/4500 [==============================] - 741s 164ms/step - loss: 1.6901 - accuracy: 0.3887 - val_loss: 1.4360 - val_accuracy: 0.4908\n",
      "Epoch 2/5\n",
      "4500/4500 [==============================] - 748s 166ms/step - loss: 1.5616 - accuracy: 0.4384 - val_loss: 1.3999 - val_accuracy: 0.5113\n",
      "Epoch 3/5\n",
      "4500/4500 [==============================] - 746s 166ms/step - loss: 1.5216 - accuracy: 0.4530 - val_loss: 1.3613 - val_accuracy: 0.5318\n",
      "Epoch 4/5\n",
      "4500/4500 [==============================] - 750s 167ms/step - loss: 1.5013 - accuracy: 0.4575 - val_loss: 1.3787 - val_accuracy: 0.5286\n",
      "Epoch 5/5\n",
      "4500/4500 [==============================] - 744s 165ms/step - loss: 1.4811 - accuracy: 0.4681 - val_loss: 1.3720 - val_accuracy: 0.5278\n",
      "Accuracy plot is saved to: train_history/vgg3/3_accuracy.png\n",
      "Loss plot is saved to: train_history/vgg3/3_loss.png\n",
      "563/563 [==============================] - 132s 233ms/step\n",
      "Accuracy: 52.78%\n",
      "Confusion matrix is saved to: train_history/vgg3/3_confusion_matrix.png\n",
      "Attempt accuracy: 52.78%\n",
      "Attempt #5\n",
      "Epoch 1/5\n",
      "4500/4500 [==============================] - 746s 164ms/step - loss: 1.6824 - accuracy: 0.3921 - val_loss: 1.4292 - val_accuracy: 0.5012\n",
      "Epoch 2/5\n",
      "4500/4500 [==============================] - 737s 164ms/step - loss: 1.5646 - accuracy: 0.4374 - val_loss: 1.3768 - val_accuracy: 0.5188\n",
      "Epoch 3/5\n",
      "4500/4500 [==============================] - 739s 164ms/step - loss: 1.5207 - accuracy: 0.4524 - val_loss: 1.3578 - val_accuracy: 0.5276\n",
      "Epoch 4/5\n",
      "4500/4500 [==============================] - 757s 168ms/step - loss: 1.4985 - accuracy: 0.4592 - val_loss: 1.3589 - val_accuracy: 0.5273\n",
      "Epoch 5/5\n",
      "4500/4500 [==============================] - 759s 169ms/step - loss: 1.4807 - accuracy: 0.4661 - val_loss: 1.3752 - val_accuracy: 0.5228\n",
      "Accuracy plot is saved to: train_history/vgg3/4_accuracy.png\n",
      "Loss plot is saved to: train_history/vgg3/4_loss.png\n",
      "563/563 [==============================] - 128s 226ms/step\n",
      "Accuracy: 52.28%\n",
      "Confusion matrix is saved to: train_history/vgg3/4_confusion_matrix.png\n",
      "Attempt accuracy: 52.28%\n",
      "Attempts accuracy is saved to train_history/vgg3/accuracy.csv\n",
      "Accuracy boxplot is saved to: train_history/vgg3/boxplot.png\n"
     ]
    }
   ],
   "source": [
    "name = 'vgg3'\n",
    "n_epochs = 5\n",
    "n_repeat = 5\n",
    "keras.utils.set_random_seed(seed)\n",
    "accuracy = []\n",
    "\n",
    "for idx in range(n_repeat):\n",
    "    print(f'Attempt #{idx + 1}')\n",
    "    x = keras.layers.Flatten()(vgg16.output)\n",
    "    x = keras.layers.BatchNormalization()(x)\n",
    "    x = keras.layers.Dense(units=50, activation='relu')(x)\n",
    "    x = keras.layers.Dense(units=20, activation='relu')(x)\n",
    "    x = keras.layers.Dense(units=10, activation='softmax', name='output')(x)\n",
    "    model = keras.models.Model(inputs=vgg16.input, outputs=x)\n",
    "    model.compile(loss='categorical_crossentropy', optimizer='adam', metrics=['accuracy'])\n",
    "    \n",
    "    history = model.fit(\n",
    "        train_generator,\n",
    "        validation_data=val_generator,\n",
    "        epochs=n_epochs\n",
    "    )\n",
    "    \n",
    "    model.save(f'train_history/{name}/{idx}.keras')\n",
    "    history_df = pd.DataFrame(history.history) \n",
    "    hist_csv_file = 'train_history/' + name + '/' + str(idx) + '_history.csv'\n",
    "    with open(hist_csv_file, mode='w') as f:\n",
    "        history_df.to_csv(f)\n",
    "    plot_accuracy_and_loss(history_df, name, str(idx))\n",
    "    curr_accuracy = plot_confusion_matrix(name, str(idx))\n",
    "    accuracy.append(curr_accuracy)\n",
    "    print(f'Attempt accuracy: {curr_accuracy * 100:.2f}%')\n",
    "    \n",
    "accuracy_df = pd.DataFrame(data=accuracy, columns = ['accuracy'])\n",
    "accuracy_csv_file = 'train_history/' + name + '/accuracy.csv'\n",
    "with open(accuracy_csv_file, mode='w') as f:\n",
    "    accuracy_df.to_csv(f)\n",
    "print(f'Attempts accuracy is saved to {accuracy_csv_file}')\n",
    "plot_accuracy_boxplot(accuracy, name)"
   ]
  },
  {
   "cell_type": "markdown",
   "id": "b4b77fff",
   "metadata": {},
   "source": [
    "## Test 4: VGG3 with dropout layers"
   ]
  },
  {
   "cell_type": "markdown",
   "id": "328ceb03",
   "metadata": {},
   "source": [
    "VGG16 - (Flatten) (Batch normalization) Dense (50) - Dropout - Dense (20) - Dropout - Dense (10)"
   ]
  },
  {
   "cell_type": "code",
   "execution_count": 40,
   "id": "759fa28b",
   "metadata": {
    "scrolled": false
   },
   "outputs": [
    {
     "name": "stdout",
     "output_type": "stream",
     "text": [
      "Attempt #1\n",
      "Epoch 1/5\n",
      "4500/4500 [==============================] - 1146s 254ms/step - loss: 2.0543 - accuracy: 0.2439 - val_loss: 1.6866 - val_accuracy: 0.4050\n",
      "Epoch 2/5\n",
      "4500/4500 [==============================] - 760s 169ms/step - loss: 1.8928 - accuracy: 0.2997 - val_loss: 1.6181 - val_accuracy: 0.4471\n",
      "Epoch 3/5\n",
      "4500/4500 [==============================] - 777s 173ms/step - loss: 1.8533 - accuracy: 0.3201 - val_loss: 1.5870 - val_accuracy: 0.4549\n",
      "Epoch 4/5\n",
      "4500/4500 [==============================] - 776s 172ms/step - loss: 1.8350 - accuracy: 0.3257 - val_loss: 1.5400 - val_accuracy: 0.4646\n",
      "Epoch 5/5\n",
      "4500/4500 [==============================] - 764s 170ms/step - loss: 1.8183 - accuracy: 0.3362 - val_loss: 1.5474 - val_accuracy: 0.4599\n",
      "Accuracy plot is saved to: train_history/vgg4/0_accuracy.png\n",
      "Loss plot is saved to: train_history/vgg4/0_loss.png\n",
      "563/563 [==============================] - 127s 224ms/step\n",
      "Accuracy: 45.99%\n",
      "Confusion matrix is saved to: train_history/vgg4/0_confusion_matrix.png\n",
      "Attempt accuracy: 45.99%\n",
      "Attempt #2\n",
      "Epoch 1/5\n",
      "4500/4500 [==============================] - 776s 172ms/step - loss: 2.0720 - accuracy: 0.2386 - val_loss: 1.6972 - val_accuracy: 0.4186\n",
      "Epoch 2/5\n",
      "4500/4500 [==============================] - 746s 166ms/step - loss: 1.8932 - accuracy: 0.3063 - val_loss: 1.5933 - val_accuracy: 0.4629\n",
      "Epoch 3/5\n",
      "4500/4500 [==============================] - 791s 176ms/step - loss: 1.8510 - accuracy: 0.3237 - val_loss: 1.5669 - val_accuracy: 0.4473\n",
      "Epoch 4/5\n",
      "4500/4500 [==============================] - 749s 166ms/step - loss: 1.8323 - accuracy: 0.3313 - val_loss: 1.5517 - val_accuracy: 0.4690\n",
      "Epoch 5/5\n",
      "4500/4500 [==============================] - 758s 169ms/step - loss: 1.8212 - accuracy: 0.3384 - val_loss: 1.5271 - val_accuracy: 0.4743\n",
      "Accuracy plot is saved to: train_history/vgg4/1_accuracy.png\n",
      "Loss plot is saved to: train_history/vgg4/1_loss.png\n",
      "563/563 [==============================] - 131s 232ms/step\n",
      "Accuracy: 47.43%\n",
      "Confusion matrix is saved to: train_history/vgg4/1_confusion_matrix.png\n",
      "Attempt accuracy: 47.43%\n",
      "Attempt #3\n",
      "Epoch 1/5\n",
      "4500/4500 [==============================] - 773s 171ms/step - loss: 2.0495 - accuracy: 0.2473 - val_loss: 1.6813 - val_accuracy: 0.4093\n",
      "Epoch 2/5\n",
      "4500/4500 [==============================] - 764s 170ms/step - loss: 1.8929 - accuracy: 0.3044 - val_loss: 1.5964 - val_accuracy: 0.4477\n",
      "Epoch 3/5\n",
      "4500/4500 [==============================] - 742s 165ms/step - loss: 1.8536 - accuracy: 0.3213 - val_loss: 1.5573 - val_accuracy: 0.4371\n",
      "Epoch 4/5\n",
      "4500/4500 [==============================] - 757s 168ms/step - loss: 1.8287 - accuracy: 0.3314 - val_loss: 1.5406 - val_accuracy: 0.4656\n",
      "Epoch 5/5\n",
      "4500/4500 [==============================] - 9359s 2s/step - loss: 1.8200 - accuracy: 0.3321 - val_loss: 1.5418 - val_accuracy: 0.4656\n",
      "Accuracy plot is saved to: train_history/vgg4/2_accuracy.png\n",
      "Loss plot is saved to: train_history/vgg4/2_loss.png\n",
      "563/563 [==============================] - 279s 493ms/step\n",
      "Accuracy: 46.56%\n",
      "Confusion matrix is saved to: train_history/vgg4/2_confusion_matrix.png\n",
      "Attempt accuracy: 46.56%\n",
      "Attempt #4\n",
      "Epoch 1/5\n",
      "4500/4500 [==============================] - 1519s 335ms/step - loss: 2.0503 - accuracy: 0.2453 - val_loss: 1.6520 - val_accuracy: 0.4327\n",
      "Epoch 2/5\n",
      "4500/4500 [==============================] - 932s 207ms/step - loss: 1.8885 - accuracy: 0.3064 - val_loss: 1.5818 - val_accuracy: 0.4507\n",
      "Epoch 3/5\n",
      "4500/4500 [==============================] - 912s 203ms/step - loss: 1.8449 - accuracy: 0.3247 - val_loss: 1.5680 - val_accuracy: 0.4556\n",
      "Epoch 4/5\n",
      "4500/4500 [==============================] - 992s 221ms/step - loss: 1.8311 - accuracy: 0.3307 - val_loss: 1.5466 - val_accuracy: 0.4746\n",
      "Epoch 5/5\n",
      "4500/4500 [==============================] - 1004s 223ms/step - loss: 1.8214 - accuracy: 0.3353 - val_loss: 1.5437 - val_accuracy: 0.4656\n",
      "Accuracy plot is saved to: train_history/vgg4/3_accuracy.png\n",
      "Loss plot is saved to: train_history/vgg4/3_loss.png\n",
      "563/563 [==============================] - 127s 225ms/step\n",
      "Accuracy: 46.56%\n",
      "Confusion matrix is saved to: train_history/vgg4/3_confusion_matrix.png\n",
      "Attempt accuracy: 46.56%\n",
      "Attempt #5\n",
      "Epoch 1/5\n",
      "4500/4500 [==============================] - 766s 170ms/step - loss: 2.0492 - accuracy: 0.2435 - val_loss: 1.6693 - val_accuracy: 0.4107\n",
      "Epoch 2/5\n",
      "4500/4500 [==============================] - 739s 164ms/step - loss: 1.8831 - accuracy: 0.3103 - val_loss: 1.5784 - val_accuracy: 0.4386\n",
      "Epoch 3/5\n",
      "4500/4500 [==============================] - 763s 169ms/step - loss: 1.8441 - accuracy: 0.3266 - val_loss: 1.5578 - val_accuracy: 0.4339\n",
      "Epoch 4/5\n",
      "4500/4500 [==============================] - 764s 170ms/step - loss: 1.8251 - accuracy: 0.3329 - val_loss: 1.5368 - val_accuracy: 0.4379\n",
      "Epoch 5/5\n",
      "4500/4500 [==============================] - 759s 169ms/step - loss: 1.8200 - accuracy: 0.3362 - val_loss: 1.5312 - val_accuracy: 0.4443\n",
      "Accuracy plot is saved to: train_history/vgg4/4_accuracy.png\n",
      "Loss plot is saved to: train_history/vgg4/4_loss.png\n",
      "563/563 [==============================] - 129s 228ms/step\n",
      "Accuracy: 44.43%\n",
      "Confusion matrix is saved to: train_history/vgg4/4_confusion_matrix.png\n",
      "Attempt accuracy: 44.43%\n",
      "Attempts accuracy is saved to train_history/vgg4/accuracy.csv\n",
      "Accuracy boxplot is saved to: train_history/vgg4/boxplot.png\n"
     ]
    }
   ],
   "source": [
    "name = 'vgg4'\n",
    "n_epochs = 5\n",
    "n_repeat = 5\n",
    "keras.utils.set_random_seed(seed)\n",
    "accuracy = []\n",
    "\n",
    "for idx in range(n_repeat):\n",
    "    print(f'Attempt #{idx + 1}')\n",
    "    x = keras.layers.Flatten()(vgg16.output)\n",
    "    x = keras.layers.BatchNormalization()(x)\n",
    "    x = keras.layers.Dense(units=50, activation='relu')(x)\n",
    "    x = keras.layers.Dropout(0.5)(x)\n",
    "    x = keras.layers.Dense(units=20, activation='relu')(x)\n",
    "    x = keras.layers.Dropout(0.5)(x)\n",
    "    x = keras.layers.Dense(units=10, activation='softmax', name='output')(x)\n",
    "    model = keras.models.Model(inputs=vgg16.input, outputs=x)\n",
    "    model.compile(loss='categorical_crossentropy', optimizer='adam', metrics=['accuracy'])\n",
    "    \n",
    "    history = model.fit(\n",
    "        train_generator,\n",
    "        validation_data=val_generator,\n",
    "        epochs=n_epochs\n",
    "    )\n",
    "    \n",
    "    model.save(f'train_history/{name}/{idx}.keras')\n",
    "    history_df = pd.DataFrame(history.history) \n",
    "    hist_csv_file = 'train_history/' + name + '/' + str(idx) + '_history.csv'\n",
    "    with open(hist_csv_file, mode='w') as f:\n",
    "        history_df.to_csv(f)\n",
    "    plot_accuracy_and_loss(history_df, name, str(idx))\n",
    "    curr_accuracy = plot_confusion_matrix(name, str(idx))\n",
    "    accuracy.append(curr_accuracy)\n",
    "    print(f'Attempt accuracy: {curr_accuracy * 100:.2f}%')\n",
    "    \n",
    "accuracy_df = pd.DataFrame(data=accuracy, columns = ['accuracy'])\n",
    "accuracy_csv_file = 'train_history/' + name + '/accuracy.csv'\n",
    "with open(accuracy_csv_file, mode='w') as f:\n",
    "    accuracy_df.to_csv(f)\n",
    "print(f'Attempts accuracy is saved to {accuracy_csv_file}')\n",
    "plot_accuracy_boxplot(accuracy, name)"
   ]
  },
  {
   "cell_type": "markdown",
   "id": "c0c55565",
   "metadata": {},
   "source": [
    "## Test 5: VGG3 with adamax optimizer and 25 epochs (without repeating)"
   ]
  },
  {
   "cell_type": "markdown",
   "id": "c181ec61",
   "metadata": {},
   "source": [
    "VGG16 - (Flatten) (Batch normalization) Dense (50) - Dense (20) - Dense (10)"
   ]
  },
  {
   "cell_type": "code",
   "execution_count": 41,
   "id": "4e2a7b80",
   "metadata": {},
   "outputs": [
    {
     "name": "stdout",
     "output_type": "stream",
     "text": [
      "Attempt #1\n",
      "Epoch 1/25\n",
      "4500/4500 [==============================] - 739s 164ms/step - loss: 1.7410 - accuracy: 0.3727 - val_loss: 1.4384 - val_accuracy: 0.4913\n",
      "Epoch 2/25\n",
      "4500/4500 [==============================] - 739s 164ms/step - loss: 1.5852 - accuracy: 0.4304 - val_loss: 1.3916 - val_accuracy: 0.5128\n",
      "Epoch 3/25\n",
      "4500/4500 [==============================] - 3763s 836ms/step - loss: 1.5436 - accuracy: 0.4461 - val_loss: 1.3578 - val_accuracy: 0.5274\n",
      "Epoch 4/25\n",
      "4500/4500 [==============================] - 904s 201ms/step - loss: 1.5175 - accuracy: 0.4549 - val_loss: 1.3420 - val_accuracy: 0.5316\n",
      "Epoch 5/25\n",
      "4500/4500 [==============================] - 911s 203ms/step - loss: 1.4946 - accuracy: 0.4633 - val_loss: 1.3393 - val_accuracy: 0.5300\n",
      "Epoch 6/25\n",
      "4500/4500 [==============================] - 814s 181ms/step - loss: 1.4827 - accuracy: 0.4679 - val_loss: 1.3314 - val_accuracy: 0.5381\n",
      "Epoch 7/25\n",
      "4500/4500 [==============================] - 720s 160ms/step - loss: 1.4699 - accuracy: 0.4735 - val_loss: 1.3302 - val_accuracy: 0.5388\n",
      "Epoch 8/25\n",
      "4500/4500 [==============================] - 715s 159ms/step - loss: 1.4599 - accuracy: 0.4736 - val_loss: 1.3274 - val_accuracy: 0.5387\n",
      "Epoch 9/25\n",
      "4500/4500 [==============================] - 717s 159ms/step - loss: 1.4541 - accuracy: 0.4768 - val_loss: 1.3292 - val_accuracy: 0.5397\n",
      "Epoch 10/25\n",
      "4500/4500 [==============================] - 714s 159ms/step - loss: 1.4457 - accuracy: 0.4793 - val_loss: 1.3308 - val_accuracy: 0.5386\n",
      "Epoch 11/25\n",
      "4500/4500 [==============================] - 716s 159ms/step - loss: 1.4408 - accuracy: 0.4830 - val_loss: 1.3239 - val_accuracy: 0.5444\n",
      "Epoch 12/25\n",
      "4500/4500 [==============================] - 1038s 231ms/step - loss: 1.4313 - accuracy: 0.4867 - val_loss: 1.3242 - val_accuracy: 0.5412\n",
      "Epoch 13/25\n",
      "4500/4500 [==============================] - 1315s 292ms/step - loss: 1.4296 - accuracy: 0.4877 - val_loss: 1.3380 - val_accuracy: 0.5375\n",
      "Epoch 14/25\n",
      "4500/4500 [==============================] - 1341s 298ms/step - loss: 1.4207 - accuracy: 0.4903 - val_loss: 1.3268 - val_accuracy: 0.5444\n",
      "Epoch 15/25\n",
      "4500/4500 [==============================] - 1099s 244ms/step - loss: 1.4166 - accuracy: 0.4915 - val_loss: 1.3243 - val_accuracy: 0.5429\n",
      "Epoch 16/25\n",
      "4500/4500 [==============================] - 974s 216ms/step - loss: 1.4123 - accuracy: 0.4918 - val_loss: 1.3424 - val_accuracy: 0.5378\n",
      "Epoch 17/25\n",
      "4500/4500 [==============================] - 939s 209ms/step - loss: 1.4083 - accuracy: 0.4929 - val_loss: 1.3395 - val_accuracy: 0.5386\n",
      "Epoch 18/25\n",
      "4500/4500 [==============================] - 1188s 264ms/step - loss: 1.4048 - accuracy: 0.4954 - val_loss: 1.3505 - val_accuracy: 0.5357\n",
      "Epoch 19/25\n",
      "4500/4500 [==============================] - 965s 215ms/step - loss: 1.4006 - accuracy: 0.4955 - val_loss: 1.3440 - val_accuracy: 0.5406\n",
      "Epoch 20/25\n",
      "4500/4500 [==============================] - 955s 212ms/step - loss: 1.3972 - accuracy: 0.4982 - val_loss: 1.3585 - val_accuracy: 0.5348\n",
      "Epoch 21/25\n",
      "4500/4500 [==============================] - 1029s 229ms/step - loss: 1.3965 - accuracy: 0.4988 - val_loss: 1.3510 - val_accuracy: 0.5381\n",
      "Epoch 22/25\n",
      "4500/4500 [==============================] - 831s 185ms/step - loss: 1.3915 - accuracy: 0.5002 - val_loss: 1.3556 - val_accuracy: 0.5356\n",
      "Epoch 23/25\n",
      "4500/4500 [==============================] - 856s 190ms/step - loss: 1.3894 - accuracy: 0.5002 - val_loss: 1.3648 - val_accuracy: 0.5321\n",
      "Epoch 24/25\n",
      "4500/4500 [==============================] - 957s 213ms/step - loss: 1.3867 - accuracy: 0.5003 - val_loss: 1.3617 - val_accuracy: 0.5337\n",
      "Epoch 25/25\n",
      "4500/4500 [==============================] - 1133s 252ms/step - loss: 1.3858 - accuracy: 0.5015 - val_loss: 1.3602 - val_accuracy: 0.5321\n",
      "Accuracy plot is saved to: train_history/vgg5/0_accuracy.png\n",
      "Loss plot is saved to: train_history/vgg5/0_loss.png\n",
      "563/563 [==============================] - 184s 326ms/step\n",
      "Accuracy: 53.21%\n",
      "Confusion matrix is saved to: train_history/vgg5/0_confusion_matrix.png\n",
      "Attempt accuracy: 53.21%\n",
      "Attempts accuracy is saved to train_history/vgg5/accuracy.csv\n",
      "Accuracy boxplot is saved to: train_history/vgg5/boxplot.png\n"
     ]
    }
   ],
   "source": [
    "name = 'vgg5'\n",
    "n_epochs = 25\n",
    "n_repeat = 1\n",
    "keras.utils.set_random_seed(seed)\n",
    "accuracy = []\n",
    "\n",
    "for idx in range(n_repeat):\n",
    "    print(f'Attempt #{idx + 1}')\n",
    "    x = keras.layers.Flatten()(vgg16.output)\n",
    "    x = keras.layers.BatchNormalization()(x)\n",
    "    x = keras.layers.Dense(units=50, activation='relu')(x)\n",
    "    x = keras.layers.Dense(units=20, activation='relu')(x)\n",
    "    x = keras.layers.Dense(units=10, activation='softmax', name='output')(x)\n",
    "    model = keras.models.Model(inputs=vgg16.input, outputs=x)\n",
    "    model.compile(loss='categorical_crossentropy', optimizer='adamax', metrics=['accuracy'])\n",
    "    \n",
    "    history = model.fit(\n",
    "        train_generator,\n",
    "        validation_data=val_generator,\n",
    "        epochs=n_epochs\n",
    "    )\n",
    "    \n",
    "    model.save(f'train_history/{name}/{idx}.keras')\n",
    "    history_df = pd.DataFrame(history.history) \n",
    "    hist_csv_file = 'train_history/' + name + '/' + str(idx) + '_history.csv'\n",
    "    with open(hist_csv_file, mode='w') as f:\n",
    "        history_df.to_csv(f)\n",
    "    plot_accuracy_and_loss(history_df, name, str(idx))\n",
    "    curr_accuracy = plot_confusion_matrix(name, str(idx))\n",
    "    accuracy.append(curr_accuracy)\n",
    "    print(f'Attempt accuracy: {curr_accuracy * 100:.2f}%')\n",
    "    \n",
    "accuracy_df = pd.DataFrame(data=accuracy, columns = ['accuracy'])\n",
    "accuracy_csv_file = 'train_history/' + name + '/accuracy.csv'\n",
    "with open(accuracy_csv_file, mode='w') as f:\n",
    "    accuracy_df.to_csv(f)\n",
    "print(f'Attempts accuracy is saved to {accuracy_csv_file}')\n",
    "plot_accuracy_boxplot(accuracy, name)"
   ]
  },
  {
   "cell_type": "markdown",
   "id": "36fe510a",
   "metadata": {},
   "source": [
    "## Test 6: VGG3 with sgd optimizer and 10 epochs (without repeating)\n",
    "VGG16 - (Flatten) (Batch normalization) Dense (50) - Dense (20) - Dense (10)"
   ]
  },
  {
   "cell_type": "code",
   "execution_count": 9,
   "id": "f56e6b91",
   "metadata": {},
   "outputs": [
    {
     "name": "stdout",
     "output_type": "stream",
     "text": [
      "Attempt #1\n",
      "Epoch 1/10\n",
      "4500/4500 [==============================] - 958s 213ms/step - loss: 1.7685 - accuracy: 0.3581 - val_loss: 1.4813 - val_accuracy: 0.4701\n",
      "Epoch 2/10\n",
      "4500/4500 [==============================] - 798s 177ms/step - loss: 1.6019 - accuracy: 0.4217 - val_loss: 1.4176 - val_accuracy: 0.5025\n",
      "Epoch 3/10\n",
      "4500/4500 [==============================] - 691s 154ms/step - loss: 1.5580 - accuracy: 0.4364 - val_loss: 1.3821 - val_accuracy: 0.5101\n",
      "Epoch 4/10\n",
      "4500/4500 [==============================] - 688s 153ms/step - loss: 1.5343 - accuracy: 0.4459 - val_loss: 1.3590 - val_accuracy: 0.5247\n",
      "Epoch 5/10\n",
      "4500/4500 [==============================] - 742s 165ms/step - loss: 1.5144 - accuracy: 0.4560 - val_loss: 1.3512 - val_accuracy: 0.5262\n",
      "Epoch 6/10\n",
      "4500/4500 [==============================] - 725s 161ms/step - loss: 1.5005 - accuracy: 0.4594 - val_loss: 1.3367 - val_accuracy: 0.5319\n",
      "Epoch 7/10\n",
      "4500/4500 [==============================] - 738s 164ms/step - loss: 1.4899 - accuracy: 0.4640 - val_loss: 1.3337 - val_accuracy: 0.5363\n",
      "Epoch 8/10\n",
      "4500/4500 [==============================] - 984s 219ms/step - loss: 1.4803 - accuracy: 0.4672 - val_loss: 1.3383 - val_accuracy: 0.5288\n",
      "Epoch 9/10\n",
      "4500/4500 [==============================] - 949s 211ms/step - loss: 1.4715 - accuracy: 0.4694 - val_loss: 1.3440 - val_accuracy: 0.5299\n",
      "Epoch 10/10\n",
      "4500/4500 [==============================] - 1134s 252ms/step - loss: 1.4618 - accuracy: 0.4727 - val_loss: 1.3422 - val_accuracy: 0.5322\n",
      "Accuracy plot is saved to: train_history/vgg6/0_accuracy.png\n",
      "Loss plot is saved to: train_history/vgg6/0_loss.png\n",
      "563/563 [==============================] - 150s 265ms/step\n",
      "Accuracy: 53.22%\n",
      "Confusion matrix is saved to: train_history/vgg6/0_confusion_matrix.png\n",
      "Attempt accuracy: 53.22%\n",
      "Attempts accuracy is saved to train_history/vgg6/accuracy.csv\n",
      "Accuracy boxplot is saved to: train_history/vgg6/boxplot.png\n"
     ]
    }
   ],
   "source": [
    "name = 'vgg6'\n",
    "n_epochs = 10\n",
    "n_repeat = 1\n",
    "keras.utils.set_random_seed(seed)\n",
    "accuracy = []\n",
    "\n",
    "for idx in range(n_repeat):\n",
    "    print(f'Attempt #{idx + 1}')\n",
    "    x = keras.layers.Flatten()(vgg16.output)\n",
    "    x = keras.layers.BatchNormalization()(x)\n",
    "    x = keras.layers.Dense(units=50, activation='relu')(x)\n",
    "    x = keras.layers.Dense(units=20, activation='relu')(x)\n",
    "    x = keras.layers.Dense(units=10, activation='softmax', name='output')(x)\n",
    "    model = keras.models.Model(inputs=vgg16.input, outputs=x)\n",
    "    model.compile(loss='categorical_crossentropy', optimizer='sgd', metrics=['accuracy'])\n",
    "    \n",
    "    history = model.fit(\n",
    "        train_generator,\n",
    "        validation_data=val_generator,\n",
    "        epochs=n_epochs\n",
    "    )\n",
    "    \n",
    "    model.save(f'train_history/{name}/{idx}.keras')\n",
    "    history_df = pd.DataFrame(history.history) \n",
    "    hist_csv_file = 'train_history/' + name + '/' + str(idx) + '_history.csv'\n",
    "    with open(hist_csv_file, mode='w') as f:\n",
    "        history_df.to_csv(f)\n",
    "    plot_accuracy_and_loss(history_df, name, str(idx))\n",
    "    curr_accuracy = plot_confusion_matrix(name, str(idx))\n",
    "    accuracy.append(curr_accuracy)\n",
    "    print(f'Attempt accuracy: {curr_accuracy * 100:.2f}%')\n",
    "    \n",
    "accuracy_df = pd.DataFrame(data=accuracy, columns = ['accuracy'])\n",
    "accuracy_csv_file = 'train_history/' + name + '/accuracy.csv'\n",
    "with open(accuracy_csv_file, mode='w') as f:\n",
    "    accuracy_df.to_csv(f)\n",
    "print(f'Attempts accuracy is saved to {accuracy_csv_file}')\n",
    "plot_accuracy_boxplot(accuracy, name)"
   ]
  },
  {
   "cell_type": "markdown",
   "id": "8ddaac9a",
   "metadata": {},
   "source": [
    "## Test 7: VGG5 with 10 epochs (without repeating) and learning rate tuning\n",
    "VGG16 - (Flatten) (Batch normalization) Dense (50) - Dense (20) - Dense (10)"
   ]
  },
  {
   "cell_type": "code",
   "execution_count": 8,
   "id": "d4657746",
   "metadata": {
    "scrolled": false
   },
   "outputs": [
    {
     "name": "stdout",
     "output_type": "stream",
     "text": [
      "Attempt #1\n",
      "Learning rate: 0.0005\n",
      "Epoch 1/10\n",
      "4500/4500 [==============================] - 726s 161ms/step - loss: 1.8260 - accuracy: 0.3422 - val_loss: 1.5268 - val_accuracy: 0.4624\n",
      "Epoch 2/10\n",
      "4500/4500 [==============================] - 713s 158ms/step - loss: 1.6313 - accuracy: 0.4109 - val_loss: 1.4495 - val_accuracy: 0.4929\n",
      "Epoch 3/10\n",
      "4500/4500 [==============================] - 723s 161ms/step - loss: 1.5788 - accuracy: 0.4312 - val_loss: 1.3993 - val_accuracy: 0.5074\n",
      "Epoch 4/10\n",
      "4500/4500 [==============================] - 705s 157ms/step - loss: 1.5524 - accuracy: 0.4417 - val_loss: 1.3770 - val_accuracy: 0.5165\n",
      "Epoch 5/10\n",
      "4500/4500 [==============================] - 9272s 2s/step - loss: 1.5298 - accuracy: 0.4494 - val_loss: 1.3647 - val_accuracy: 0.5222\n",
      "Epoch 6/10\n",
      "4500/4500 [==============================] - 1183s 263ms/step - loss: 1.5148 - accuracy: 0.4554 - val_loss: 1.3506 - val_accuracy: 0.5289\n",
      "Epoch 7/10\n",
      "4500/4500 [==============================] - 1193s 265ms/step - loss: 1.5018 - accuracy: 0.4620 - val_loss: 1.3427 - val_accuracy: 0.5325\n",
      "Epoch 8/10\n",
      "4500/4500 [==============================] - 1257s 279ms/step - loss: 1.4942 - accuracy: 0.4662 - val_loss: 1.3441 - val_accuracy: 0.5312\n",
      "Epoch 9/10\n",
      "4500/4500 [==============================] - 1259s 280ms/step - loss: 1.4833 - accuracy: 0.4675 - val_loss: 1.3411 - val_accuracy: 0.5349\n",
      "Epoch 10/10\n",
      "4500/4500 [==============================] - 1220s 271ms/step - loss: 1.4753 - accuracy: 0.4705 - val_loss: 1.3373 - val_accuracy: 0.5379\n",
      "Accuracy plot is saved to: train_history/vgg7/0_accuracy.png\n",
      "Loss plot is saved to: train_history/vgg7/0_loss.png\n",
      "563/563 [==============================] - 223s 395ms/step\n",
      "Accuracy: 53.79%\n",
      "Confusion matrix is saved to: train_history/vgg7/0_confusion_matrix.png\n",
      "Attempt accuracy: 53.79%\n",
      "Attempt #2\n",
      "Learning rate: 0.001\n",
      "Epoch 1/10\n",
      "4500/4500 [==============================] - 1253s 278ms/step - loss: 1.7504 - accuracy: 0.3675 - val_loss: 1.4479 - val_accuracy: 0.4885\n",
      "Epoch 2/10\n",
      "4500/4500 [==============================] - 1231s 273ms/step - loss: 1.5862 - accuracy: 0.4282 - val_loss: 1.3906 - val_accuracy: 0.5160\n",
      "Epoch 3/10\n",
      "4500/4500 [==============================] - 1217s 270ms/step - loss: 1.5446 - accuracy: 0.4444 - val_loss: 1.3626 - val_accuracy: 0.5244\n",
      "Epoch 4/10\n",
      "4500/4500 [==============================] - 1092s 243ms/step - loss: 1.5201 - accuracy: 0.4540 - val_loss: 1.3550 - val_accuracy: 0.5304\n",
      "Epoch 5/10\n",
      "4500/4500 [==============================] - 720s 160ms/step - loss: 1.5011 - accuracy: 0.4598 - val_loss: 1.3480 - val_accuracy: 0.5344\n",
      "Epoch 6/10\n",
      "4500/4500 [==============================] - 1078s 240ms/step - loss: 1.4879 - accuracy: 0.4664 - val_loss: 1.3313 - val_accuracy: 0.5387\n",
      "Epoch 7/10\n",
      "4500/4500 [==============================] - 864s 192ms/step - loss: 1.4743 - accuracy: 0.4702 - val_loss: 1.3298 - val_accuracy: 0.5360\n",
      "Epoch 8/10\n",
      "4500/4500 [==============================] - 828s 184ms/step - loss: 1.4653 - accuracy: 0.4739 - val_loss: 1.3381 - val_accuracy: 0.5340\n",
      "Epoch 9/10\n",
      "4500/4500 [==============================] - 879s 195ms/step - loss: 1.4577 - accuracy: 0.4759 - val_loss: 1.3321 - val_accuracy: 0.5388\n",
      "Epoch 10/10\n",
      "4500/4500 [==============================] - 839s 186ms/step - loss: 1.4498 - accuracy: 0.4794 - val_loss: 1.3328 - val_accuracy: 0.5404\n",
      "Accuracy plot is saved to: train_history/vgg7/1_accuracy.png\n",
      "Loss plot is saved to: train_history/vgg7/1_loss.png\n",
      "563/563 [==============================] - 122s 215ms/step\n",
      "Accuracy: 54.04%\n",
      "Confusion matrix is saved to: train_history/vgg7/1_confusion_matrix.png\n",
      "Attempt accuracy: 54.04%\n",
      "Attempt #3\n",
      "Learning rate: 0.005\n",
      "Epoch 1/10\n",
      "4500/4500 [==============================] - 678s 150ms/step - loss: 1.6698 - accuracy: 0.3987 - val_loss: 1.4065 - val_accuracy: 0.5052\n",
      "Epoch 2/10\n",
      "4500/4500 [==============================] - 666s 148ms/step - loss: 1.5643 - accuracy: 0.4369 - val_loss: 1.3557 - val_accuracy: 0.5288\n",
      "Epoch 3/10\n",
      "4500/4500 [==============================] - 668s 148ms/step - loss: 1.5277 - accuracy: 0.4521 - val_loss: 1.3629 - val_accuracy: 0.5208\n",
      "Epoch 4/10\n",
      "4500/4500 [==============================] - 676s 150ms/step - loss: 1.5068 - accuracy: 0.4588 - val_loss: 1.3739 - val_accuracy: 0.5237\n",
      "Epoch 5/10\n",
      "4500/4500 [==============================] - 666s 148ms/step - loss: 1.4941 - accuracy: 0.4621 - val_loss: 1.3817 - val_accuracy: 0.5199\n",
      "Epoch 6/10\n",
      "4500/4500 [==============================] - 666s 148ms/step - loss: 1.4768 - accuracy: 0.4701 - val_loss: 1.3626 - val_accuracy: 0.5297\n",
      "Epoch 7/10\n",
      "4500/4500 [==============================] - 666s 148ms/step - loss: 1.4650 - accuracy: 0.4733 - val_loss: 1.3695 - val_accuracy: 0.5328\n",
      "Epoch 8/10\n",
      "4500/4500 [==============================] - 666s 148ms/step - loss: 1.4554 - accuracy: 0.4758 - val_loss: 1.3646 - val_accuracy: 0.5340\n",
      "Epoch 9/10\n",
      "4500/4500 [==============================] - 664s 148ms/step - loss: 1.4494 - accuracy: 0.4783 - val_loss: 1.3507 - val_accuracy: 0.5398\n",
      "Epoch 10/10\n",
      "4500/4500 [==============================] - 662s 147ms/step - loss: 1.4442 - accuracy: 0.4810 - val_loss: 1.3682 - val_accuracy: 0.5303\n",
      "Accuracy plot is saved to: train_history/vgg7/2_accuracy.png\n",
      "Loss plot is saved to: train_history/vgg7/2_loss.png\n",
      "563/563 [==============================] - 117s 207ms/step\n",
      "Accuracy: 53.03%\n",
      "Confusion matrix is saved to: train_history/vgg7/2_confusion_matrix.png\n",
      "Attempt accuracy: 53.03%\n",
      "Attempt #4\n",
      "Learning rate: 0.01\n",
      "Epoch 1/10\n",
      "4500/4500 [==============================] - 677s 150ms/step - loss: 1.6930 - accuracy: 0.3890 - val_loss: 1.4549 - val_accuracy: 0.4908\n",
      "Epoch 2/10\n",
      "4500/4500 [==============================] - 674s 150ms/step - loss: 1.5882 - accuracy: 0.4287 - val_loss: 1.4354 - val_accuracy: 0.4948\n",
      "Epoch 3/10\n",
      "4500/4500 [==============================] - 670s 149ms/step - loss: 1.5547 - accuracy: 0.4398 - val_loss: 1.3874 - val_accuracy: 0.5194\n",
      "Epoch 4/10\n",
      "4500/4500 [==============================] - 670s 149ms/step - loss: 1.5301 - accuracy: 0.4532 - val_loss: 1.3769 - val_accuracy: 0.5323\n",
      "Epoch 5/10\n",
      "4500/4500 [==============================] - 671s 149ms/step - loss: 1.5206 - accuracy: 0.4550 - val_loss: 1.3999 - val_accuracy: 0.5188\n",
      "Epoch 6/10\n",
      "4500/4500 [==============================] - 672s 149ms/step - loss: 1.5058 - accuracy: 0.4613 - val_loss: 1.4136 - val_accuracy: 0.5052\n",
      "Epoch 7/10\n",
      "4500/4500 [==============================] - 673s 150ms/step - loss: 1.4931 - accuracy: 0.4638 - val_loss: 1.3796 - val_accuracy: 0.5246\n",
      "Epoch 8/10\n",
      "4500/4500 [==============================] - 672s 149ms/step - loss: 1.4875 - accuracy: 0.4665 - val_loss: 1.4057 - val_accuracy: 0.5158\n",
      "Epoch 9/10\n",
      "4500/4500 [==============================] - 674s 150ms/step - loss: 1.4833 - accuracy: 0.4678 - val_loss: 1.4309 - val_accuracy: 0.5126\n",
      "Epoch 10/10\n",
      "4500/4500 [==============================] - 671s 149ms/step - loss: 1.4762 - accuracy: 0.4723 - val_loss: 1.4472 - val_accuracy: 0.5077\n",
      "Accuracy plot is saved to: train_history/vgg7/3_accuracy.png\n",
      "Loss plot is saved to: train_history/vgg7/3_loss.png\n",
      "563/563 [==============================] - 120s 213ms/step\n",
      "Accuracy: 50.77%\n",
      "Confusion matrix is saved to: train_history/vgg7/3_confusion_matrix.png\n",
      "Attempt accuracy: 50.77%\n",
      "Attempt #5\n",
      "Learning rate: 0.05\n",
      "Epoch 1/10\n",
      "4500/4500 [==============================] - 669s 148ms/step - loss: 1.8689 - accuracy: 0.3118 - val_loss: 1.7211 - val_accuracy: 0.3889\n",
      "Epoch 2/10\n",
      "4500/4500 [==============================] - 670s 149ms/step - loss: 1.7821 - accuracy: 0.3550 - val_loss: 1.6295 - val_accuracy: 0.4416\n",
      "Epoch 3/10\n",
      "4500/4500 [==============================] - 671s 149ms/step - loss: 1.7589 - accuracy: 0.3650 - val_loss: 1.6849 - val_accuracy: 0.4142\n",
      "Epoch 4/10\n",
      "4500/4500 [==============================] - 670s 149ms/step - loss: 1.7494 - accuracy: 0.3718 - val_loss: 1.5854 - val_accuracy: 0.4395\n",
      "Epoch 5/10\n",
      "4500/4500 [==============================] - 680s 151ms/step - loss: 1.7449 - accuracy: 0.3718 - val_loss: 1.6823 - val_accuracy: 0.4388\n",
      "Epoch 6/10\n",
      "4500/4500 [==============================] - 671s 149ms/step - loss: 1.7314 - accuracy: 0.3813 - val_loss: 1.6517 - val_accuracy: 0.4318\n",
      "Epoch 7/10\n",
      "4500/4500 [==============================] - 675s 150ms/step - loss: 1.7317 - accuracy: 0.3825 - val_loss: 1.6625 - val_accuracy: 0.4624\n",
      "Epoch 8/10\n",
      "4500/4500 [==============================] - 671s 149ms/step - loss: 1.7237 - accuracy: 0.3850 - val_loss: 1.6569 - val_accuracy: 0.4560\n",
      "Epoch 9/10\n",
      "4500/4500 [==============================] - 672s 149ms/step - loss: 1.7212 - accuracy: 0.3877 - val_loss: 1.6866 - val_accuracy: 0.4249\n",
      "Epoch 10/10\n",
      "4500/4500 [==============================] - 673s 150ms/step - loss: 1.7189 - accuracy: 0.3863 - val_loss: 1.7365 - val_accuracy: 0.4147\n",
      "Accuracy plot is saved to: train_history/vgg7/4_accuracy.png\n",
      "Loss plot is saved to: train_history/vgg7/4_loss.png\n",
      "563/563 [==============================] - 120s 213ms/step\n",
      "Accuracy: 41.47%\n",
      "Confusion matrix is saved to: train_history/vgg7/4_confusion_matrix.png\n",
      "Attempt accuracy: 41.47%\n",
      "Attempts accuracy is saved to train_history/vgg7/accuracy.csv\n"
     ]
    }
   ],
   "source": [
    "name = 'vgg7'\n",
    "n_epochs = 10\n",
    "n_repeat = 5\n",
    "keras.utils.set_random_seed(seed)\n",
    "accuracy = []\n",
    "rate = [0.0005, 0.001, 0.005, 0.01, 0.05]\n",
    "\n",
    "for idx in range(n_repeat):\n",
    "    print(f'Attempt #{idx + 1}')\n",
    "    print(f'Learning rate: {rate[idx]}')\n",
    "    x = keras.layers.Flatten()(vgg16.output)\n",
    "    x = keras.layers.BatchNormalization()(x)\n",
    "    x = keras.layers.Dense(units=50, activation='relu')(x)\n",
    "    x = keras.layers.Dense(units=20, activation='relu')(x)\n",
    "    x = keras.layers.Dense(units=10, activation='softmax', name='output')(x)\n",
    "    model = keras.models.Model(inputs=vgg16.input, outputs=x)\n",
    "    model.compile(loss='categorical_crossentropy', optimizer=keras.optimizers.legacy.Adamax(learning_rate=rate[idx]), \n",
    "                  metrics=['accuracy'])\n",
    "    \n",
    "    history = model.fit(\n",
    "        train_generator,\n",
    "        validation_data=val_generator,\n",
    "        epochs=n_epochs\n",
    "    )\n",
    "    \n",
    "    model.save(f'train_history/{name}/{idx}.keras')\n",
    "    history_df = pd.DataFrame(history.history) \n",
    "    hist_csv_file = 'train_history/' + name + '/' + str(idx) + '_history.csv'\n",
    "    with open(hist_csv_file, mode='w') as f:\n",
    "        history_df.to_csv(f)\n",
    "    plot_accuracy_and_loss(history_df, name, str(idx))\n",
    "    curr_accuracy = plot_confusion_matrix(name, str(idx))\n",
    "    accuracy.append(curr_accuracy)\n",
    "    print(f'Attempt accuracy: {curr_accuracy * 100:.2f}%')\n",
    "    \n",
    "accuracy_df = pd.DataFrame(data=accuracy, columns = ['accuracy'])\n",
    "accuracy_csv_file = 'train_history/' + name + '/accuracy.csv'\n",
    "with open(accuracy_csv_file, mode='w') as f:\n",
    "    accuracy_df.to_csv(f)\n",
    "print(f'Attempts accuracy is saved to {accuracy_csv_file}')"
   ]
  },
  {
   "cell_type": "markdown",
   "id": "58420dce",
   "metadata": {},
   "source": [
    "## Test 8: VGG6 with learning rate tuning\n",
    "VGG16 - (Flatten) (Batch normalization) Dense (50) - Dense (20) - Dense (10)"
   ]
  },
  {
   "cell_type": "code",
   "execution_count": 9,
   "id": "bdef8f4e",
   "metadata": {
    "scrolled": false
   },
   "outputs": [
    {
     "name": "stdout",
     "output_type": "stream",
     "text": [
      "Attempt #1\n",
      "Learning rate: 0.0005\n",
      "Epoch 1/10\n",
      "4500/4500 [==============================] - 708s 157ms/step - loss: 2.2391 - accuracy: 0.1731 - val_loss: 2.1116 - val_accuracy: 0.2451\n",
      "Epoch 2/10\n",
      "4500/4500 [==============================] - 679s 151ms/step - loss: 2.0197 - accuracy: 0.2743 - val_loss: 1.9317 - val_accuracy: 0.3164\n",
      "Epoch 3/10\n",
      "4500/4500 [==============================] - 679s 151ms/step - loss: 1.9084 - accuracy: 0.3124 - val_loss: 1.8170 - val_accuracy: 0.3583\n",
      "Epoch 4/10\n",
      "4500/4500 [==============================] - 679s 151ms/step - loss: 1.8399 - accuracy: 0.3371 - val_loss: 1.7441 - val_accuracy: 0.3806\n",
      "Epoch 5/10\n",
      "4500/4500 [==============================] - 683s 152ms/step - loss: 1.7973 - accuracy: 0.3501 - val_loss: 1.6913 - val_accuracy: 0.3977\n",
      "Epoch 6/10\n",
      "4500/4500 [==============================] - 679s 151ms/step - loss: 1.7660 - accuracy: 0.3607 - val_loss: 1.6510 - val_accuracy: 0.4131\n",
      "Epoch 7/10\n",
      "4500/4500 [==============================] - 680s 151ms/step - loss: 1.7363 - accuracy: 0.3701 - val_loss: 1.6169 - val_accuracy: 0.4261\n",
      "Epoch 8/10\n",
      "4500/4500 [==============================] - 682s 152ms/step - loss: 1.7174 - accuracy: 0.3802 - val_loss: 1.5926 - val_accuracy: 0.4360\n",
      "Epoch 9/10\n",
      "4500/4500 [==============================] - 682s 152ms/step - loss: 1.7016 - accuracy: 0.3843 - val_loss: 1.5664 - val_accuracy: 0.4448\n",
      "Epoch 10/10\n",
      "4500/4500 [==============================] - 686s 152ms/step - loss: 1.6846 - accuracy: 0.3909 - val_loss: 1.5517 - val_accuracy: 0.4500\n",
      "Accuracy plot is saved to: train_history/vgg8/0_accuracy.png\n",
      "Loss plot is saved to: train_history/vgg8/0_loss.png\n",
      "563/563 [==============================] - 119s 211ms/step\n",
      "Accuracy: 45.00%\n",
      "Confusion matrix is saved to: train_history/vgg8/0_confusion_matrix.png\n",
      "Attempt accuracy: 45.00%\n",
      "Attempt #2\n",
      "Learning rate: 0.001\n",
      "Epoch 1/10\n",
      "4500/4500 [==============================] - 694s 154ms/step - loss: 2.1557 - accuracy: 0.2136 - val_loss: 1.9265 - val_accuracy: 0.3191\n",
      "Epoch 2/10\n",
      "4500/4500 [==============================] - 712s 158ms/step - loss: 1.9005 - accuracy: 0.3141 - val_loss: 1.7371 - val_accuracy: 0.3849\n",
      "Epoch 3/10\n",
      "4500/4500 [==============================] - 696s 155ms/step - loss: 1.7937 - accuracy: 0.3521 - val_loss: 1.6406 - val_accuracy: 0.4192\n",
      "Epoch 4/10\n",
      "4500/4500 [==============================] - 689s 153ms/step - loss: 1.7384 - accuracy: 0.3697 - val_loss: 1.5870 - val_accuracy: 0.4345\n",
      "Epoch 5/10\n",
      "4500/4500 [==============================] - 691s 154ms/step - loss: 1.7021 - accuracy: 0.3838 - val_loss: 1.5534 - val_accuracy: 0.4450\n",
      "Epoch 6/10\n",
      "4500/4500 [==============================] - 685s 152ms/step - loss: 1.6761 - accuracy: 0.3926 - val_loss: 1.5255 - val_accuracy: 0.4558\n",
      "Epoch 7/10\n",
      "4500/4500 [==============================] - 684s 152ms/step - loss: 1.6544 - accuracy: 0.3980 - val_loss: 1.5030 - val_accuracy: 0.4642\n",
      "Epoch 8/10\n",
      "4500/4500 [==============================] - 691s 154ms/step - loss: 1.6384 - accuracy: 0.4073 - val_loss: 1.4824 - val_accuracy: 0.4728\n",
      "Epoch 9/10\n",
      "4500/4500 [==============================] - 694s 154ms/step - loss: 1.6243 - accuracy: 0.4121 - val_loss: 1.4681 - val_accuracy: 0.4788\n",
      "Epoch 10/10\n",
      "4500/4500 [==============================] - 690s 153ms/step - loss: 1.6154 - accuracy: 0.4155 - val_loss: 1.4545 - val_accuracy: 0.4857\n",
      "Accuracy plot is saved to: train_history/vgg8/1_accuracy.png\n",
      "Loss plot is saved to: train_history/vgg8/1_loss.png\n",
      "563/563 [==============================] - 119s 212ms/step\n",
      "Accuracy: 48.57%\n",
      "Confusion matrix is saved to: train_history/vgg8/1_confusion_matrix.png\n",
      "Attempt accuracy: 48.57%\n",
      "Attempt #3\n",
      "Learning rate: 0.005\n",
      "Epoch 1/10\n",
      "4500/4500 [==============================] - 702s 156ms/step - loss: 1.8546 - accuracy: 0.3283 - val_loss: 1.5491 - val_accuracy: 0.4537\n",
      "Epoch 2/10\n",
      "4500/4500 [==============================] - 722s 160ms/step - loss: 1.6461 - accuracy: 0.4067 - val_loss: 1.4560 - val_accuracy: 0.4891\n",
      "Epoch 3/10\n",
      "4500/4500 [==============================] - 689s 153ms/step - loss: 1.5930 - accuracy: 0.4252 - val_loss: 1.4096 - val_accuracy: 0.5073\n",
      "Epoch 4/10\n",
      "4500/4500 [==============================] - 684s 152ms/step - loss: 1.5644 - accuracy: 0.4365 - val_loss: 1.3839 - val_accuracy: 0.5157\n",
      "Epoch 5/10\n",
      "4500/4500 [==============================] - 688s 153ms/step - loss: 1.5459 - accuracy: 0.4454 - val_loss: 1.3655 - val_accuracy: 0.5258\n",
      "Epoch 6/10\n",
      "4500/4500 [==============================] - 687s 153ms/step - loss: 1.5264 - accuracy: 0.4506 - val_loss: 1.3513 - val_accuracy: 0.5313\n",
      "Epoch 7/10\n",
      "4500/4500 [==============================] - 735s 163ms/step - loss: 1.5121 - accuracy: 0.4554 - val_loss: 1.3489 - val_accuracy: 0.5289\n",
      "Epoch 8/10\n",
      "4500/4500 [==============================] - 848s 188ms/step - loss: 1.5020 - accuracy: 0.4592 - val_loss: 1.3385 - val_accuracy: 0.5352\n",
      "Epoch 9/10\n",
      "4500/4500 [==============================] - 857s 191ms/step - loss: 1.4926 - accuracy: 0.4650 - val_loss: 1.3389 - val_accuracy: 0.5334\n",
      "Epoch 10/10\n",
      "4500/4500 [==============================] - 1048s 233ms/step - loss: 1.4841 - accuracy: 0.4668 - val_loss: 1.3389 - val_accuracy: 0.5304\n",
      "Accuracy plot is saved to: train_history/vgg8/2_accuracy.png\n",
      "Loss plot is saved to: train_history/vgg8/2_loss.png\n",
      "563/563 [==============================] - 172s 304ms/step\n",
      "Accuracy: 53.04%\n",
      "Confusion matrix is saved to: train_history/vgg8/2_confusion_matrix.png\n",
      "Attempt accuracy: 53.04%\n",
      "Attempt #4\n",
      "Learning rate: 0.01\n",
      "Epoch 1/10\n",
      "4500/4500 [==============================] - 1013s 225ms/step - loss: 1.7830 - accuracy: 0.3532 - val_loss: 1.4741 - val_accuracy: 0.4768\n",
      "Epoch 2/10\n",
      "4500/4500 [==============================] - 994s 221ms/step - loss: 1.6066 - accuracy: 0.4197 - val_loss: 1.4082 - val_accuracy: 0.5029\n",
      "Epoch 3/10\n",
      "4500/4500 [==============================] - 1083s 241ms/step - loss: 1.5568 - accuracy: 0.4387 - val_loss: 1.3893 - val_accuracy: 0.5127\n",
      "Epoch 4/10\n",
      "4500/4500 [==============================] - 1348s 300ms/step - loss: 1.5303 - accuracy: 0.4509 - val_loss: 1.3578 - val_accuracy: 0.5281\n",
      "Epoch 5/10\n",
      "4500/4500 [==============================] - 3777s 839ms/step - loss: 1.5144 - accuracy: 0.4547 - val_loss: 1.3439 - val_accuracy: 0.5305\n",
      "Epoch 6/10\n",
      "4500/4500 [==============================] - 1191s 265ms/step - loss: 1.4978 - accuracy: 0.4615 - val_loss: 1.3501 - val_accuracy: 0.5271\n",
      "Epoch 7/10\n",
      "4500/4500 [==============================] - 1444s 321ms/step - loss: 1.4856 - accuracy: 0.4658 - val_loss: 1.3261 - val_accuracy: 0.5383\n",
      "Epoch 8/10\n",
      "4500/4500 [==============================] - 1544s 343ms/step - loss: 1.4750 - accuracy: 0.4705 - val_loss: 1.3304 - val_accuracy: 0.5381\n",
      "Epoch 9/10\n",
      "4500/4500 [==============================] - 1084s 241ms/step - loss: 1.4685 - accuracy: 0.4721 - val_loss: 1.3277 - val_accuracy: 0.5363\n",
      "Epoch 10/10\n",
      "4500/4500 [==============================] - 9426s 2s/step - loss: 1.4542 - accuracy: 0.4775 - val_loss: 1.3393 - val_accuracy: 0.5367\n",
      "Accuracy plot is saved to: train_history/vgg8/3_accuracy.png\n",
      "Loss plot is saved to: train_history/vgg8/3_loss.png\n",
      "563/563 [==============================] - 122s 216ms/step\n",
      "Accuracy: 53.67%\n",
      "Confusion matrix is saved to: train_history/vgg8/3_confusion_matrix.png\n",
      "Attempt accuracy: 53.67%\n",
      "Attempt #5\n",
      "Learning rate: 0.05\n",
      "Epoch 1/10\n",
      "4500/4500 [==============================] - 694s 154ms/step - loss: 1.6998 - accuracy: 0.3831 - val_loss: 1.4111 - val_accuracy: 0.5037\n",
      "Epoch 2/10\n",
      "4500/4500 [==============================] - 721s 160ms/step - loss: 1.5876 - accuracy: 0.4285 - val_loss: 1.4181 - val_accuracy: 0.4967\n",
      "Epoch 3/10\n",
      "4500/4500 [==============================] - 701s 156ms/step - loss: 1.5500 - accuracy: 0.4440 - val_loss: 1.3723 - val_accuracy: 0.5271\n",
      "Epoch 4/10\n",
      "4500/4500 [==============================] - 695s 154ms/step - loss: 1.5293 - accuracy: 0.4507 - val_loss: 1.4005 - val_accuracy: 0.5048\n",
      "Epoch 5/10\n",
      "4500/4500 [==============================] - 700s 156ms/step - loss: 1.5125 - accuracy: 0.4562 - val_loss: 1.3816 - val_accuracy: 0.5270\n",
      "Epoch 6/10\n",
      "4500/4500 [==============================] - 692s 154ms/step - loss: 1.4981 - accuracy: 0.4618 - val_loss: 1.3746 - val_accuracy: 0.5322\n",
      "Epoch 7/10\n",
      "4500/4500 [==============================] - 696s 155ms/step - loss: 1.4876 - accuracy: 0.4653 - val_loss: 1.3953 - val_accuracy: 0.5179\n",
      "Epoch 8/10\n",
      "4500/4500 [==============================] - 799s 178ms/step - loss: 1.4796 - accuracy: 0.4707 - val_loss: 1.3874 - val_accuracy: 0.5149\n",
      "Epoch 9/10\n",
      "4500/4500 [==============================] - 713s 158ms/step - loss: 1.4724 - accuracy: 0.4713 - val_loss: 1.3710 - val_accuracy: 0.5253\n",
      "Epoch 10/10\n",
      "4500/4500 [==============================] - 701s 156ms/step - loss: 1.4656 - accuracy: 0.4758 - val_loss: 1.3635 - val_accuracy: 0.5352\n",
      "Accuracy plot is saved to: train_history/vgg8/4_accuracy.png\n",
      "Loss plot is saved to: train_history/vgg8/4_loss.png\n",
      "563/563 [==============================] - 120s 213ms/step\n",
      "Accuracy: 53.52%\n",
      "Confusion matrix is saved to: train_history/vgg8/4_confusion_matrix.png\n",
      "Attempt accuracy: 53.52%\n",
      "Attempts accuracy is saved to train_history/vgg8/accuracy.csv\n"
     ]
    }
   ],
   "source": [
    "name = 'vgg8'\n",
    "n_epochs = 10\n",
    "n_repeat = 5\n",
    "keras.utils.set_random_seed(seed)\n",
    "accuracy = []\n",
    "rate = [0.0005, 0.001, 0.005, 0.01, 0.05]\n",
    "\n",
    "for idx in range(n_repeat):\n",
    "    print(f'Attempt #{idx + 1}')\n",
    "    print(f'Learning rate: {rate[idx]}')\n",
    "    x = keras.layers.Flatten()(vgg16.output)\n",
    "    x = keras.layers.BatchNormalization()(x)\n",
    "    x = keras.layers.Dense(units=50, activation='relu')(x)\n",
    "    x = keras.layers.Dense(units=20, activation='relu')(x)\n",
    "    x = keras.layers.Dense(units=10, activation='softmax', name='output')(x)\n",
    "    model = keras.models.Model(inputs=vgg16.input, outputs=x)\n",
    "    model.compile(loss='categorical_crossentropy', optimizer=keras.optimizers.legacy.SGD(learning_rate=rate[idx]), \n",
    "                  metrics=['accuracy'])\n",
    "    \n",
    "    history = model.fit(\n",
    "        train_generator,\n",
    "        validation_data=val_generator,\n",
    "        epochs=n_epochs\n",
    "    )\n",
    "    \n",
    "    model.save(f'train_history/{name}/{idx}.keras')\n",
    "    history_df = pd.DataFrame(history.history) \n",
    "    hist_csv_file = 'train_history/' + name + '/' + str(idx) + '_history.csv'\n",
    "    with open(hist_csv_file, mode='w') as f:\n",
    "        history_df.to_csv(f)\n",
    "    plot_accuracy_and_loss(history_df, name, str(idx))\n",
    "    curr_accuracy = plot_confusion_matrix(name, str(idx))\n",
    "    accuracy.append(curr_accuracy)\n",
    "    print(f'Attempt accuracy: {curr_accuracy * 100:.2f}%')\n",
    "    \n",
    "accuracy_df = pd.DataFrame(data=accuracy, columns = ['accuracy'])\n",
    "accuracy_csv_file = 'train_history/' + name + '/accuracy.csv'\n",
    "with open(accuracy_csv_file, mode='w') as f:\n",
    "    accuracy_df.to_csv(f)\n",
    "print(f'Attempts accuracy is saved to {accuracy_csv_file}')"
   ]
  },
  {
   "cell_type": "markdown",
   "id": "8d943599",
   "metadata": {},
   "source": [
    "## Test 9: VGG5 with 10 epochs (without repeating), learning rate = 0.001 and batch size tuning\n",
    "VGG16 - (Flatten) (Batch normalization) Dense (50) - Dense (20) - Dense (10)"
   ]
  },
  {
   "cell_type": "code",
   "execution_count": 10,
   "id": "757e48de",
   "metadata": {
    "scrolled": false
   },
   "outputs": [
    {
     "name": "stdout",
     "output_type": "stream",
     "text": [
      "Found 72000 images belonging to 10 classes.\n",
      "Found 18000 images belonging to 10 classes.\n",
      "Attempt #1\n",
      "Batch size: 32\n",
      "Epoch 1/10\n",
      "2250/2250 [==============================] - 640s 284ms/step - loss: 1.7479 - accuracy: 0.3700 - val_loss: 1.4639 - val_accuracy: 0.4793\n",
      "Epoch 2/10\n",
      "2250/2250 [==============================] - 636s 283ms/step - loss: 1.5695 - accuracy: 0.4352 - val_loss: 1.3924 - val_accuracy: 0.5113\n",
      "Epoch 3/10\n",
      "2250/2250 [==============================] - 634s 282ms/step - loss: 1.5220 - accuracy: 0.4536 - val_loss: 1.3618 - val_accuracy: 0.5233\n",
      "Epoch 4/10\n",
      "2250/2250 [==============================] - 636s 283ms/step - loss: 1.4949 - accuracy: 0.4618 - val_loss: 1.3438 - val_accuracy: 0.5318\n",
      "Epoch 5/10\n",
      "2250/2250 [==============================] - 637s 283ms/step - loss: 1.4728 - accuracy: 0.4706 - val_loss: 1.3308 - val_accuracy: 0.5373\n",
      "Epoch 6/10\n",
      "2250/2250 [==============================] - 639s 284ms/step - loss: 1.4577 - accuracy: 0.4773 - val_loss: 1.3242 - val_accuracy: 0.5385\n",
      "Epoch 7/10\n",
      "2250/2250 [==============================] - 634s 282ms/step - loss: 1.4440 - accuracy: 0.4814 - val_loss: 1.3169 - val_accuracy: 0.5396\n",
      "Epoch 8/10\n",
      "2250/2250 [==============================] - 634s 282ms/step - loss: 1.4326 - accuracy: 0.4853 - val_loss: 1.3179 - val_accuracy: 0.5383\n",
      "Epoch 9/10\n",
      "2250/2250 [==============================] - 633s 282ms/step - loss: 1.4235 - accuracy: 0.4898 - val_loss: 1.3239 - val_accuracy: 0.5408\n",
      "Epoch 10/10\n",
      "2250/2250 [==============================] - 636s 283ms/step - loss: 1.4147 - accuracy: 0.4928 - val_loss: 1.3209 - val_accuracy: 0.5397\n",
      "Accuracy plot is saved to: train_history/vgg9/0_accuracy.png\n",
      "Loss plot is saved to: train_history/vgg9/0_loss.png\n",
      "563/563 [==============================] - 130s 230ms/step\n",
      "Accuracy: 53.97%\n",
      "Confusion matrix is saved to: train_history/vgg9/0_confusion_matrix.png\n",
      "Attempt accuracy: 53.97%\n",
      "Found 72000 images belonging to 10 classes.\n",
      "Found 18000 images belonging to 10 classes.\n",
      "Attempt #2\n",
      "Batch size: 64\n",
      "Epoch 1/10\n",
      "1125/1125 [==============================] - 609s 540ms/step - loss: 1.7966 - accuracy: 0.3535 - val_loss: 1.5028 - val_accuracy: 0.4699\n",
      "Epoch 2/10\n",
      "1125/1125 [==============================] - 604s 537ms/step - loss: 1.5839 - accuracy: 0.4273 - val_loss: 1.4190 - val_accuracy: 0.4998\n",
      "Epoch 3/10\n",
      "1125/1125 [==============================] - 604s 537ms/step - loss: 1.5227 - accuracy: 0.4495 - val_loss: 1.3770 - val_accuracy: 0.5132\n",
      "Epoch 4/10\n",
      "1125/1125 [==============================] - 604s 537ms/step - loss: 1.4908 - accuracy: 0.4631 - val_loss: 1.3577 - val_accuracy: 0.5212\n",
      "Epoch 5/10\n",
      "1125/1125 [==============================] - 604s 537ms/step - loss: 1.4670 - accuracy: 0.4747 - val_loss: 1.3350 - val_accuracy: 0.5336\n",
      "Epoch 6/10\n",
      "1125/1125 [==============================] - 605s 538ms/step - loss: 1.4488 - accuracy: 0.4799 - val_loss: 1.3306 - val_accuracy: 0.5374\n",
      "Epoch 7/10\n",
      "1125/1125 [==============================] - 605s 538ms/step - loss: 1.4338 - accuracy: 0.4853 - val_loss: 1.3250 - val_accuracy: 0.5396\n",
      "Epoch 8/10\n",
      "1125/1125 [==============================] - 603s 536ms/step - loss: 1.4209 - accuracy: 0.4893 - val_loss: 1.3158 - val_accuracy: 0.5406\n",
      "Epoch 9/10\n",
      "1125/1125 [==============================] - 607s 540ms/step - loss: 1.4102 - accuracy: 0.4944 - val_loss: 1.3129 - val_accuracy: 0.5427\n",
      "Epoch 10/10\n",
      "1125/1125 [==============================] - 605s 538ms/step - loss: 1.3996 - accuracy: 0.4988 - val_loss: 1.3116 - val_accuracy: 0.5432\n",
      "Accuracy plot is saved to: train_history/vgg9/1_accuracy.png\n",
      "Loss plot is saved to: train_history/vgg9/1_loss.png\n",
      "563/563 [==============================] - 125s 222ms/step\n",
      "Accuracy: 54.32%\n",
      "Confusion matrix is saved to: train_history/vgg9/1_confusion_matrix.png\n",
      "Attempt accuracy: 54.32%\n",
      "Found 72000 images belonging to 10 classes.\n",
      "Found 18000 images belonging to 10 classes.\n",
      "Attempt #3\n",
      "Batch size: 128\n",
      "Epoch 1/10\n",
      "563/563 [==============================] - 597s 1s/step - loss: 1.8261 - accuracy: 0.3434 - val_loss: 1.5296 - val_accuracy: 0.4629\n",
      "Epoch 2/10\n",
      "563/563 [==============================] - 598s 1s/step - loss: 1.5892 - accuracy: 0.4274 - val_loss: 1.4254 - val_accuracy: 0.4989\n",
      "Epoch 3/10\n",
      "563/563 [==============================] - 597s 1s/step - loss: 1.5288 - accuracy: 0.4515 - val_loss: 1.3861 - val_accuracy: 0.5121\n",
      "Epoch 4/10\n",
      "563/563 [==============================] - 596s 1s/step - loss: 1.4916 - accuracy: 0.4634 - val_loss: 1.3610 - val_accuracy: 0.5206\n",
      "Epoch 5/10\n",
      "563/563 [==============================] - 596s 1s/step - loss: 1.4660 - accuracy: 0.4703 - val_loss: 1.3453 - val_accuracy: 0.5269\n",
      "Epoch 6/10\n",
      "563/563 [==============================] - 596s 1s/step - loss: 1.4470 - accuracy: 0.4794 - val_loss: 1.3354 - val_accuracy: 0.5307\n",
      "Epoch 7/10\n",
      "563/563 [==============================] - 596s 1s/step - loss: 1.4330 - accuracy: 0.4843 - val_loss: 1.3308 - val_accuracy: 0.5336\n",
      "Epoch 8/10\n",
      "563/563 [==============================] - 597s 1s/step - loss: 1.4192 - accuracy: 0.4892 - val_loss: 1.3243 - val_accuracy: 0.5359\n",
      "Epoch 9/10\n",
      "563/563 [==============================] - 595s 1s/step - loss: 1.4080 - accuracy: 0.4931 - val_loss: 1.3112 - val_accuracy: 0.5416\n",
      "Epoch 10/10\n",
      "563/563 [==============================] - 596s 1s/step - loss: 1.3985 - accuracy: 0.4975 - val_loss: 1.3083 - val_accuracy: 0.5434\n",
      "Accuracy plot is saved to: train_history/vgg9/2_accuracy.png\n",
      "Loss plot is saved to: train_history/vgg9/2_loss.png\n",
      "563/563 [==============================] - 126s 223ms/step\n",
      "Accuracy: 54.34%\n",
      "Confusion matrix is saved to: train_history/vgg9/2_confusion_matrix.png\n",
      "Attempt accuracy: 54.34%\n",
      "Found 72000 images belonging to 10 classes.\n",
      "Found 18000 images belonging to 10 classes.\n",
      "Attempt #4\n",
      "Batch size: 256\n",
      "Epoch 1/10\n",
      "282/282 [==============================] - 598s 2s/step - loss: 1.9225 - accuracy: 0.3096 - val_loss: 1.6979 - val_accuracy: 0.4172\n",
      "Epoch 2/10\n",
      "282/282 [==============================] - 600s 2s/step - loss: 1.6529 - accuracy: 0.4056 - val_loss: 1.4985 - val_accuracy: 0.4687\n",
      "Epoch 3/10\n",
      "282/282 [==============================] - 598s 2s/step - loss: 1.5730 - accuracy: 0.4333 - val_loss: 1.4378 - val_accuracy: 0.4934\n",
      "Epoch 4/10\n",
      "282/282 [==============================] - 606s 2s/step - loss: 1.5290 - accuracy: 0.4494 - val_loss: 1.4137 - val_accuracy: 0.5029\n",
      "Epoch 5/10\n",
      "282/282 [==============================] - 616s 2s/step - loss: 1.4991 - accuracy: 0.4585 - val_loss: 1.3856 - val_accuracy: 0.5141\n",
      "Epoch 6/10\n",
      "282/282 [==============================] - 617s 2s/step - loss: 1.4773 - accuracy: 0.4662 - val_loss: 1.3723 - val_accuracy: 0.5164\n",
      "Epoch 7/10\n",
      "282/282 [==============================] - 617s 2s/step - loss: 1.4579 - accuracy: 0.4732 - val_loss: 1.3657 - val_accuracy: 0.5176\n",
      "Epoch 8/10\n",
      "282/282 [==============================] - 617s 2s/step - loss: 1.4425 - accuracy: 0.4803 - val_loss: 1.3541 - val_accuracy: 0.5232\n",
      "Epoch 9/10\n",
      "282/282 [==============================] - 616s 2s/step - loss: 1.4303 - accuracy: 0.4848 - val_loss: 1.3446 - val_accuracy: 0.5283\n",
      "Epoch 10/10\n",
      "282/282 [==============================] - 620s 2s/step - loss: 1.4193 - accuracy: 0.4911 - val_loss: 1.3448 - val_accuracy: 0.5262\n",
      "Accuracy plot is saved to: train_history/vgg9/3_accuracy.png\n",
      "Loss plot is saved to: train_history/vgg9/3_loss.png\n",
      "563/563 [==============================] - 127s 224ms/step\n",
      "Accuracy: 52.62%\n",
      "Confusion matrix is saved to: train_history/vgg9/3_confusion_matrix.png\n",
      "Attempt accuracy: 52.62%\n",
      "Found 72000 images belonging to 10 classes.\n",
      "Found 18000 images belonging to 10 classes.\n",
      "Attempt #5\n",
      "Batch size: 512\n",
      "Epoch 1/10\n",
      "141/141 [==============================] - 587s 4s/step - loss: 2.0214 - accuracy: 0.2646 - val_loss: 1.9305 - val_accuracy: 0.3481\n",
      "Epoch 2/10\n",
      "141/141 [==============================] - 567s 4s/step - loss: 1.7221 - accuracy: 0.3779 - val_loss: 1.6444 - val_accuracy: 0.4455\n",
      "Epoch 3/10\n",
      "141/141 [==============================] - 573s 4s/step - loss: 1.6224 - accuracy: 0.4141 - val_loss: 1.5041 - val_accuracy: 0.4787\n",
      "Epoch 4/10\n",
      "141/141 [==============================] - 570s 4s/step - loss: 1.5689 - accuracy: 0.4346 - val_loss: 1.4419 - val_accuracy: 0.4952\n",
      "Epoch 5/10\n",
      "141/141 [==============================] - 571s 4s/step - loss: 1.5344 - accuracy: 0.4465 - val_loss: 1.4146 - val_accuracy: 0.5022\n",
      "Epoch 6/10\n",
      "141/141 [==============================] - 575s 4s/step - loss: 1.5082 - accuracy: 0.4571 - val_loss: 1.3944 - val_accuracy: 0.5088\n",
      "Epoch 7/10\n",
      "141/141 [==============================] - 571s 4s/step - loss: 1.4885 - accuracy: 0.4635 - val_loss: 1.3788 - val_accuracy: 0.5161\n",
      "Epoch 8/10\n",
      "141/141 [==============================] - 572s 4s/step - loss: 1.4722 - accuracy: 0.4709 - val_loss: 1.3656 - val_accuracy: 0.5218\n",
      "Epoch 9/10\n",
      "141/141 [==============================] - 572s 4s/step - loss: 1.4571 - accuracy: 0.4747 - val_loss: 1.3551 - val_accuracy: 0.5246\n",
      "Epoch 10/10\n",
      "141/141 [==============================] - 572s 4s/step - loss: 1.4441 - accuracy: 0.4791 - val_loss: 1.3489 - val_accuracy: 0.5281\n",
      "Accuracy plot is saved to: train_history/vgg9/4_accuracy.png\n",
      "Loss plot is saved to: train_history/vgg9/4_loss.png\n",
      "563/563 [==============================] - 125s 222ms/step\n",
      "Accuracy: 52.81%\n",
      "Confusion matrix is saved to: train_history/vgg9/4_confusion_matrix.png\n",
      "Attempt accuracy: 52.81%\n",
      "Attempts accuracy is saved to train_history/vgg9/accuracy.csv\n"
     ]
    }
   ],
   "source": [
    "name = 'vgg9'\n",
    "n_epochs = 10\n",
    "n_repeat = 5\n",
    "keras.utils.set_random_seed(seed)\n",
    "accuracy = []\n",
    "batch = [32, 64, 128, 256, 512]\n",
    "\n",
    "for idx in range(n_repeat):\n",
    "    datagen = ImageDataGenerator(validation_split=0.2,\n",
    "                             rescale=1./255)\n",
    "\n",
    "    train_generator = datagen.flow_from_directory(\n",
    "        TRAIN_DIR, \n",
    "        subset='training',\n",
    "        seed=seed,\n",
    "        target_size=(32, 32),\n",
    "        batch_size=batch[idx]\n",
    "    )\n",
    "\n",
    "    val_generator = datagen.flow_from_directory(\n",
    "        TRAIN_DIR,\n",
    "        subset='validation',\n",
    "        seed=seed,\n",
    "        target_size=(32, 32),\n",
    "        batch_size=batch[idx]\n",
    "    )\n",
    "    \n",
    "    print(f'Attempt #{idx + 1}')\n",
    "    print(f'Batch size: {batch[idx]}')\n",
    "    x = keras.layers.Flatten()(vgg16.output)\n",
    "    x = keras.layers.BatchNormalization()(x)\n",
    "    x = keras.layers.Dense(units=50, activation='relu')(x)\n",
    "    x = keras.layers.Dense(units=20, activation='relu')(x)\n",
    "    x = keras.layers.Dense(units=10, activation='softmax', name='output')(x)\n",
    "    model = keras.models.Model(inputs=vgg16.input, outputs=x)\n",
    "    model.compile(loss='categorical_crossentropy', optimizer=keras.optimizers.legacy.Adamax(learning_rate=0.001), \n",
    "                  metrics=['accuracy'])\n",
    "    \n",
    "    history = model.fit(\n",
    "        train_generator,\n",
    "        validation_data=val_generator,\n",
    "        epochs=n_epochs\n",
    "    )\n",
    "    \n",
    "    model.save(f'train_history/{name}/{idx}.keras')\n",
    "    history_df = pd.DataFrame(history.history) \n",
    "    hist_csv_file = 'train_history/' + name + '/' + str(idx) + '_history.csv'\n",
    "    with open(hist_csv_file, mode='w') as f:\n",
    "        history_df.to_csv(f)\n",
    "    plot_accuracy_and_loss(history_df, name, str(idx))\n",
    "    curr_accuracy = plot_confusion_matrix(name, str(idx))\n",
    "    accuracy.append(curr_accuracy)\n",
    "    print(f'Attempt accuracy: {curr_accuracy * 100:.2f}%')\n",
    "    \n",
    "accuracy_df = pd.DataFrame(data=accuracy, columns = ['accuracy'])\n",
    "accuracy_csv_file = 'train_history/' + name + '/accuracy.csv'\n",
    "with open(accuracy_csv_file, mode='w') as f:\n",
    "    accuracy_df.to_csv(f)\n",
    "print(f'Attempts accuracy is saved to {accuracy_csv_file}')"
   ]
  },
  {
   "cell_type": "markdown",
   "id": "6ebee911",
   "metadata": {},
   "source": [
    "## Test 10: VGG9 with batch size = 128 and extra layers\n",
    "VGG16 - (Flatten) Dense (200) - (Batch normalization) Dense (100) - (Batch normalization) Dense (50) - Dense (20) - Dense (10)"
   ]
  },
  {
   "cell_type": "code",
   "execution_count": 6,
   "id": "3d6fd35c",
   "metadata": {},
   "outputs": [
    {
     "name": "stdout",
     "output_type": "stream",
     "text": [
      "Found 72000 images belonging to 10 classes.\n",
      "Found 18000 images belonging to 10 classes.\n"
     ]
    }
   ],
   "source": [
    "datagen = ImageDataGenerator(validation_split=0.2,\n",
    "                             rescale=1./255)\n",
    "\n",
    "train_generator = datagen.flow_from_directory(\n",
    "    TRAIN_DIR, \n",
    "    subset='training',\n",
    "    seed=seed,\n",
    "    target_size=(32, 32),\n",
    "    batch_size=128\n",
    ")\n",
    "\n",
    "val_generator = datagen.flow_from_directory(\n",
    "    TRAIN_DIR,\n",
    "    subset='validation',\n",
    "    seed=seed,\n",
    "    target_size=(32, 32),\n",
    "    batch_size=128\n",
    ")"
   ]
  },
  {
   "cell_type": "code",
   "execution_count": 25,
   "id": "05285fc6",
   "metadata": {},
   "outputs": [
    {
     "name": "stdout",
     "output_type": "stream",
     "text": [
      "Attempt #1\n",
      "Epoch 1/10\n",
      "563/563 [==============================] - 745s 1s/step - loss: 1.7371 - accuracy: 0.3645 - val_loss: 1.4695 - val_accuracy: 0.4854\n",
      "Epoch 2/10\n",
      "563/563 [==============================] - 727s 1s/step - loss: 1.5381 - accuracy: 0.4427 - val_loss: 1.4015 - val_accuracy: 0.5016\n",
      "Epoch 3/10\n",
      "563/563 [==============================] - 773s 1s/step - loss: 1.4758 - accuracy: 0.4656 - val_loss: 1.3541 - val_accuracy: 0.5207\n",
      "Epoch 4/10\n",
      "563/563 [==============================] - 701s 1s/step - loss: 1.4357 - accuracy: 0.4808 - val_loss: 1.3501 - val_accuracy: 0.5217\n",
      "Epoch 5/10\n",
      "563/563 [==============================] - 740s 1s/step - loss: 1.4061 - accuracy: 0.4940 - val_loss: 1.3404 - val_accuracy: 0.5262\n",
      "Epoch 6/10\n",
      "563/563 [==============================] - 715s 1s/step - loss: 1.3789 - accuracy: 0.5018 - val_loss: 1.3220 - val_accuracy: 0.5306\n",
      "Epoch 7/10\n",
      "563/563 [==============================] - 599s 1s/step - loss: 1.3568 - accuracy: 0.5117 - val_loss: 1.3130 - val_accuracy: 0.5346\n",
      "Epoch 8/10\n",
      "563/563 [==============================] - 589s 1s/step - loss: 1.3346 - accuracy: 0.5192 - val_loss: 1.3100 - val_accuracy: 0.5388\n",
      "Epoch 9/10\n",
      "563/563 [==============================] - 586s 1s/step - loss: 1.3168 - accuracy: 0.5262 - val_loss: 1.3184 - val_accuracy: 0.5356\n",
      "Epoch 10/10\n",
      "563/563 [==============================] - 586s 1s/step - loss: 1.2982 - accuracy: 0.5340 - val_loss: 1.3341 - val_accuracy: 0.5294\n",
      "Accuracy plot is saved to: train_history/vgg10/0_accuracy.png\n",
      "Loss plot is saved to: train_history/vgg10/0_loss.png\n",
      "563/563 [==============================] - 125s 221ms/step\n",
      "Accuracy: 52.94%\n",
      "Confusion matrix is saved to: train_history/vgg10/0_confusion_matrix.png\n",
      "Attempt accuracy: 52.94%\n",
      "Attempts accuracy is saved to train_history/vgg10/accuracy.csv\n",
      "Accuracy boxplot is saved to: train_history/vgg10/boxplot.png\n"
     ]
    }
   ],
   "source": [
    "name = 'vgg10'\n",
    "n_epochs = 10\n",
    "n_repeat = 1\n",
    "keras.utils.set_random_seed(seed)\n",
    "accuracy = []\n",
    "\n",
    "for idx in range(n_repeat):\n",
    "    print(f'Attempt #{idx + 1}')\n",
    "    x = keras.layers.Flatten()(vgg16.output)\n",
    "    x = keras.layers.Dense(units=200, activation='relu')(x)\n",
    "    x = keras.layers.BatchNormalization()(x)\n",
    "    x = keras.layers.Dense(units=100, activation='relu')(x)\n",
    "    x = keras.layers.BatchNormalization()(x)\n",
    "    x = keras.layers.Dense(units=50, activation='relu')(x)\n",
    "    x = keras.layers.Dense(units=20, activation='relu')(x)\n",
    "    x = keras.layers.Dense(units=10, activation='softmax', name='output')(x)\n",
    "    model = keras.models.Model(inputs=vgg16.input, outputs=x)\n",
    "    model.compile(loss='categorical_crossentropy', optimizer=keras.optimizers.legacy.Adamax(learning_rate=0.001), \n",
    "                  metrics=['accuracy'])\n",
    "    \n",
    "    history = model.fit(\n",
    "        train_generator,\n",
    "        validation_data=val_generator,\n",
    "        epochs=n_epochs\n",
    "    )\n",
    "    \n",
    "    model.save(f'train_history/{name}/{idx}.keras')\n",
    "    history_df = pd.DataFrame(history.history) \n",
    "    hist_csv_file = 'train_history/' + name + '/' + str(idx) + '_history.csv'\n",
    "    with open(hist_csv_file, mode='w') as f:\n",
    "        history_df.to_csv(f)\n",
    "    plot_accuracy_and_loss(history_df, name, str(idx))\n",
    "    curr_accuracy = plot_confusion_matrix(name, str(idx))\n",
    "    accuracy.append(curr_accuracy)\n",
    "    print(f'Attempt accuracy: {curr_accuracy * 100:.2f}%')\n",
    "    \n",
    "accuracy_df = pd.DataFrame(data=accuracy, columns = ['accuracy'])\n",
    "accuracy_csv_file = 'train_history/' + name + '/accuracy.csv'\n",
    "with open(accuracy_csv_file, mode='w') as f:\n",
    "    accuracy_df.to_csv(f)\n",
    "print(f'Attempts accuracy is saved to {accuracy_csv_file}')\n",
    "plot_accuracy_boxplot(accuracy, name)"
   ]
  },
  {
   "cell_type": "markdown",
   "id": "f8ded30a",
   "metadata": {},
   "source": [
    "## Test 11: VGG9 with batch size = 128 and extra layers\n",
    "VGG16 - (Flatten) Dense (50) - (Batch normalization) (Activation) Dropout - Dense (50) - (Batch normalization) Dense (20) - Dense (10)"
   ]
  },
  {
   "cell_type": "code",
   "execution_count": 8,
   "id": "54294349",
   "metadata": {},
   "outputs": [
    {
     "name": "stdout",
     "output_type": "stream",
     "text": [
      "Attempt #1\n",
      "Epoch 1/10\n",
      "563/563 [==============================] - 627s 1s/step - loss: 2.0538 - accuracy: 0.2533 - val_loss: 1.7108 - val_accuracy: 0.3952\n",
      "Epoch 2/10\n",
      "563/563 [==============================] - 578s 1s/step - loss: 1.8235 - accuracy: 0.3361 - val_loss: 1.5743 - val_accuracy: 0.4488\n",
      "Epoch 3/10\n",
      "563/563 [==============================] - 628s 1s/step - loss: 1.7482 - accuracy: 0.3662 - val_loss: 1.5250 - val_accuracy: 0.4652\n",
      "Epoch 4/10\n",
      "563/563 [==============================] - 583s 1s/step - loss: 1.7065 - accuracy: 0.3824 - val_loss: 1.4809 - val_accuracy: 0.4841\n",
      "Epoch 5/10\n",
      "563/563 [==============================] - 597s 1s/step - loss: 1.6845 - accuracy: 0.3909 - val_loss: 1.4529 - val_accuracy: 0.4926\n",
      "Epoch 6/10\n",
      "563/563 [==============================] - 647s 1s/step - loss: 1.6620 - accuracy: 0.3995 - val_loss: 1.4408 - val_accuracy: 0.4939\n",
      "Epoch 7/10\n",
      "563/563 [==============================] - 678s 1s/step - loss: 1.6466 - accuracy: 0.4056 - val_loss: 1.4231 - val_accuracy: 0.5037\n",
      "Epoch 8/10\n",
      "563/563 [==============================] - 742s 1s/step - loss: 1.6337 - accuracy: 0.4098 - val_loss: 1.4063 - val_accuracy: 0.5125\n",
      "Epoch 9/10\n",
      "563/563 [==============================] - 726s 1s/step - loss: 1.6238 - accuracy: 0.4135 - val_loss: 1.3940 - val_accuracy: 0.5167\n",
      "Epoch 10/10\n",
      "563/563 [==============================] - 726s 1s/step - loss: 1.6177 - accuracy: 0.4164 - val_loss: 1.3872 - val_accuracy: 0.5191\n",
      "Accuracy plot is saved to: train_history/vgg11/0_accuracy.png\n",
      "Loss plot is saved to: train_history/vgg11/0_loss.png\n",
      "563/563 [==============================] - 130s 230ms/step\n",
      "Accuracy: 51.91%\n",
      "Confusion matrix is saved to: train_history/vgg11/0_confusion_matrix.png\n",
      "Attempt accuracy: 51.91%\n",
      "Attempts accuracy is saved to train_history/vgg11/accuracy.csv\n",
      "Accuracy boxplot is saved to: train_history/vgg11/boxplot.png\n"
     ]
    }
   ],
   "source": [
    "name = 'vgg11'\n",
    "n_epochs = 10\n",
    "n_repeat = 1\n",
    "keras.utils.set_random_seed(seed)\n",
    "accuracy = []\n",
    "\n",
    "for idx in range(n_repeat):\n",
    "    print(f'Attempt #{idx + 1}')\n",
    "    x = keras.layers.Flatten()(vgg16.output)\n",
    "    x = keras.layers.Dense(units=50, use_bias=True)(x)\n",
    "    x = keras.layers.BatchNormalization()(x)\n",
    "    x = keras.layers.Activation('relu')(x)\n",
    "    x = keras.layers.Dropout(0.5)(x)\n",
    "    x = keras.layers.Dense(units=50, activation='relu')(x)\n",
    "    x = keras.layers.BatchNormalization()(x)\n",
    "    x = keras.layers.Dense(units=20, activation='tanh')(x)\n",
    "    x = keras.layers.Dense(units=10, activation='softmax', name='output')(x)\n",
    "    model = keras.models.Model(inputs=vgg16.input, outputs=x)\n",
    "    model.compile(loss='categorical_crossentropy', optimizer=keras.optimizers.legacy.Adamax(learning_rate=0.001), \n",
    "                  metrics=['accuracy'])\n",
    "    \n",
    "    history = model.fit(\n",
    "        train_generator,\n",
    "        validation_data=val_generator,\n",
    "        epochs=n_epochs\n",
    "    )\n",
    "    \n",
    "    model.save(f'train_history/{name}/{idx}.keras')\n",
    "    history_df = pd.DataFrame(history.history) \n",
    "    hist_csv_file = 'train_history/' + name + '/' + str(idx) + '_history.csv'\n",
    "    with open(hist_csv_file, mode='w') as f:\n",
    "        history_df.to_csv(f)\n",
    "    plot_accuracy_and_loss(history_df, name, str(idx))\n",
    "    curr_accuracy = plot_confusion_matrix(name, str(idx))\n",
    "    accuracy.append(curr_accuracy)\n",
    "    print(f'Attempt accuracy: {curr_accuracy * 100:.2f}%')\n",
    "    \n",
    "accuracy_df = pd.DataFrame(data=accuracy, columns = ['accuracy'])\n",
    "accuracy_csv_file = 'train_history/' + name + '/accuracy.csv'\n",
    "with open(accuracy_csv_file, mode='w') as f:\n",
    "    accuracy_df.to_csv(f)\n",
    "print(f'Attempts accuracy is saved to {accuracy_csv_file}')\n",
    "plot_accuracy_boxplot(accuracy, name)"
   ]
  },
  {
   "cell_type": "markdown",
   "id": "a2028f6c",
   "metadata": {},
   "source": [
    "## Test 14: VGG9 with batch size = 64 and data augmentation\n",
    "VGG16 - (Flatten) (Batch normalization) Dense (50) - Dense (20) - Dense (10)"
   ]
  },
  {
   "cell_type": "code",
   "execution_count": 9,
   "id": "90b1c24f",
   "metadata": {},
   "outputs": [],
   "source": [
    "class MixupImageDataGenerator():\n",
    "    def __init__(self, generator, directory, batch_size, img_height, img_width, alpha=0.2, subset=None):\n",
    "        self.batch_index = 0\n",
    "        self.batch_size = batch_size\n",
    "        self.alpha = alpha\n",
    "\n",
    "        # First iterator yielding tuples of (x, y)\n",
    "        self.generator1 = generator.flow_from_directory(directory,\n",
    "                                                        target_size=(\n",
    "                                                            img_height, img_width),\n",
    "                                                        class_mode=\"categorical\",\n",
    "                                                        batch_size=batch_size,\n",
    "                                                        shuffle=True,\n",
    "                                                        subset=subset)\n",
    "\n",
    "        # Second iterator yielding tuples of (x, y)\n",
    "        self.generator2 = generator.flow_from_directory(directory,\n",
    "                                                        target_size=(\n",
    "                                                            img_height, img_width),\n",
    "                                                        class_mode=\"categorical\",\n",
    "                                                        batch_size=batch_size,\n",
    "                                                        shuffle=True,\n",
    "                                                        subset=subset)\n",
    "\n",
    "        # Number of images across all classes in image directory.\n",
    "        self.n = self.generator1.samples\n",
    "\n",
    "    def reset_index(self):\n",
    "        self.generator1._set_index_array()\n",
    "        self.generator2._set_index_array()\n",
    "\n",
    "    def on_epoch_end(self):\n",
    "        self.reset_index()\n",
    "\n",
    "    def reset(self):\n",
    "        self.batch_index = 0\n",
    "\n",
    "    def __len__(self):\n",
    "        # round up\n",
    "        return (self.n + self.batch_size - 1) // self.batch_size\n",
    "\n",
    "    def get_steps_per_epoch(self):\n",
    "        return self.n // self.batch_size\n",
    "\n",
    "    def __next__(self):\n",
    "        if self.batch_index == 0:\n",
    "            self.reset_index()\n",
    "\n",
    "        current_index = (self.batch_index * self.batch_size) % self.n\n",
    "        if self.n > current_index + self.batch_size:\n",
    "            self.batch_index += 1\n",
    "        else:\n",
    "            self.batch_index = 0\n",
    "\n",
    "        # random sample the lambda value from beta distribution.\n",
    "        l = np.random.beta(self.alpha, self.alpha, self.batch_size)\n",
    "\n",
    "        X_l = l.reshape(self.batch_size, 1, 1, 1)\n",
    "        y_l = l.reshape(self.batch_size, 1)\n",
    "\n",
    "        # Get a pair of inputs and outputs from two iterators.\n",
    "        X1, y1 = self.generator1.next()\n",
    "        X2, y2 = self.generator2.next()\n",
    "\n",
    "        # Perform the mixup.\n",
    "        X = X1 * X_l + X2 * (1 - X_l)\n",
    "        y = y1 * y_l + y2 * (1 - y_l)\n",
    "        return X, y\n",
    "\n",
    "    def __iter__(self):\n",
    "        while True:\n",
    "            yield next(self)"
   ]
  },
  {
   "cell_type": "code",
   "execution_count": 22,
   "id": "9507659a",
   "metadata": {},
   "outputs": [
    {
     "data": {
      "image/png": "[encoded data removed]",
      "text/plain": [
       "<PIL.Image.Image image mode=RGB size=32x32>"
      ]
     },
     "metadata": {},
     "output_type": "display_data"
    },
    {
     "data": {
      "image/png": "[encoded data removed]",
      "text/plain": [
       "<PIL.Image.Image image mode=RGB size=32x32>"
      ]
     },
     "metadata": {},
     "output_type": "display_data"
    },
    {
     "data": {
      "image/png": "[encoded data removed]",
      "text/plain": [
       "<PIL.Image.Image image mode=RGB size=32x32>"
      ]
     },
     "metadata": {},
     "output_type": "display_data"
    },
    {
     "data": {
      "image/png": "[encoded data removed]",
      "text/plain": [
       "<PIL.Image.Image image mode=RGB size=32x32>"
      ]
     },
     "metadata": {},
     "output_type": "display_data"
    },
    {
     "data": {
      "image/png": "[encoded data removed]",
      "text/plain": [
       "<PIL.Image.Image image mode=RGB size=32x32>"
      ]
     },
     "metadata": {},
     "output_type": "display_data"
    },
    {
     "data": {
      "image/png": "[encoded data removed]",
      "text/plain": [
       "<PIL.Image.Image image mode=RGB size=32x32>"
      ]
     },
     "metadata": {},
     "output_type": "display_data"
    },
    {
     "data": {
      "image/png": "[encoded data removed]",
      "text/plain": [
       "<PIL.Image.Image image mode=RGB size=32x32>"
      ]
     },
     "metadata": {},
     "output_type": "display_data"
    },
    {
     "data": {
      "image/png": "[encoded data removed]",
      "text/plain": [
       "<PIL.Image.Image image mode=RGB size=32x32>"
      ]
     },
     "metadata": {},
     "output_type": "display_data"
    },
    {
     "data": {
      "image/png": "[encoded data removed]",
      "text/plain": [
       "<PIL.Image.Image image mode=RGB size=32x32>"
      ]
     },
     "metadata": {},
     "output_type": "display_data"
    },
    {
     "data": {
      "image/png": "[encoded data removed]",
      "text/plain": [
       "<PIL.Image.Image image mode=RGB size=32x32>"
      ]
     },
     "metadata": {},
     "output_type": "display_data"
    },
    {
     "data": {
      "image/png": "[encoded data removed]",
      "text/plain": [
       "<PIL.Image.Image image mode=RGB size=32x32>"
      ]
     },
     "metadata": {},
     "output_type": "display_data"
    },
    {
     "data": {
      "image/png": "[encoded data removed]",
      "text/plain": [
       "<PIL.Image.Image image mode=RGB size=32x32>"
      ]
     },
     "metadata": {},
     "output_type": "display_data"
    },
    {
     "data": {
      "image/png": "[encoded data removed]",
      "text/plain": [
       "<PIL.Image.Image image mode=RGB size=32x32>"
      ]
     },
     "metadata": {},
     "output_type": "display_data"
    },
    {
     "data": {
      "image/png": "[encoded data removed]",
      "text/plain": [
       "<PIL.Image.Image image mode=RGB size=32x32>"
      ]
     },
     "metadata": {},
     "output_type": "display_data"
    },
    {
     "data": {
      "image/png": "[encoded data removed]",
      "text/plain": [
       "<PIL.Image.Image image mode=RGB size=32x32>"
      ]
     },
     "metadata": {},
     "output_type": "display_data"
    },
    {
     "data": {
      "image/png": "[encoded data removed]",
      "text/plain": [
       "<PIL.Image.Image image mode=RGB size=32x32>"
      ]
     },
     "metadata": {},
     "output_type": "display_data"
    },
    {
     "data": {
      "image/png": "[encoded data removed]",
      "text/plain": [
       "<PIL.Image.Image image mode=RGB size=32x32>"
      ]
     },
     "metadata": {},
     "output_type": "display_data"
    },
    {
     "data": {
      "image/png": "[encoded data removed]",
      "text/plain": [
       "<PIL.Image.Image image mode=RGB size=32x32>"
      ]
     },
     "metadata": {},
     "output_type": "display_data"
    },
    {
     "data": {
      "image/png": "[encoded data removed]",
      "text/plain": [
       "<PIL.Image.Image image mode=RGB size=32x32>"
      ]
     },
     "metadata": {},
     "output_type": "display_data"
    },
    {
     "data": {
      "image/png": "[encoded data removed]",
      "text/plain": [
       "<PIL.Image.Image image mode=RGB size=32x32>"
      ]
     },
     "metadata": {},
     "output_type": "display_data"
    },
    {
     "data": {
      "image/png": "[encoded data removed]",
      "text/plain": [
       "<PIL.Image.Image image mode=RGB size=32x32>"
      ]
     },
     "metadata": {},
     "output_type": "display_data"
    },
    {
     "data": {
      "image/png": "[encoded data removed]",
      "text/plain": [
       "<PIL.Image.Image image mode=RGB size=32x32>"
      ]
     },
     "metadata": {},
     "output_type": "display_data"
    },
    {
     "data": {
      "image/png": "[encoded data removed]",
      "text/plain": [
       "<PIL.Image.Image image mode=RGB size=32x32>"
      ]
     },
     "metadata": {},
     "output_type": "display_data"
    },
    {
     "data": {
      "image/png": "[encoded data removed]",
      "text/plain": [
       "<PIL.Image.Image image mode=RGB size=32x32>"
      ]
     },
     "metadata": {},
     "output_type": "display_data"
    },
    {
     "data": {
      "image/png": "[encoded data removed]",
      "text/plain": [
       "<PIL.Image.Image image mode=RGB size=32x32>"
      ]
     },
     "metadata": {},
     "output_type": "display_data"
    },
    {
     "data": {
      "image/png": "[encoded data removed]",
      "text/plain": [
       "<PIL.Image.Image image mode=RGB size=32x32>"
      ]
     },
     "metadata": {},
     "output_type": "display_data"
    },
    {
     "data": {
      "image/png": "[encoded data removed]",
      "text/plain": [
       "<PIL.Image.Image image mode=RGB size=32x32>"
      ]
     },
     "metadata": {},
     "output_type": "display_data"
    },
    {
     "data": {
      "image/png": "[encoded data removed]",
      "text/plain": [
       "<PIL.Image.Image image mode=RGB size=32x32>"
      ]
     },
     "metadata": {},
     "output_type": "display_data"
    },
    {
     "data": {
      "image/png": "[encoded data removed]",
      "text/plain": [
       "<PIL.Image.Image image mode=RGB size=32x32>"
      ]
     },
     "metadata": {},
     "output_type": "display_data"
    },
    {
     "data": {
      "image/png": "[encoded data removed]",
      "text/plain": [
       "<PIL.Image.Image image mode=RGB size=32x32>"
      ]
     },
     "metadata": {},
     "output_type": "display_data"
    },
    {
     "data": {
      "image/png": "[encoded data removed]",
      "text/plain": [
       "<PIL.Image.Image image mode=RGB size=32x32>"
      ]
     },
     "metadata": {},
     "output_type": "display_data"
    },
    {
     "data": {
      "image/png": "[encoded data removed]",
      "text/plain": [
       "<PIL.Image.Image image mode=RGB size=32x32>"
      ]
     },
     "metadata": {},
     "output_type": "display_data"
    },
    {
     "data": {
      "image/png": "[encoded data removed]",
      "text/plain": [
       "<PIL.Image.Image image mode=RGB size=32x32>"
      ]
     },
     "metadata": {},
     "output_type": "display_data"
    },
    {
     "data": {
      "image/png": "[encoded data removed]",
      "text/plain": [
       "<PIL.Image.Image image mode=RGB size=32x32>"
      ]
     },
     "metadata": {},
     "output_type": "display_data"
    },
    {
     "data": {
      "image/png": "[encoded data removed]",
      "text/plain": [
       "<PIL.Image.Image image mode=RGB size=32x32>"
      ]
     },
     "metadata": {},
     "output_type": "display_data"
    },
    {
     "data": {
      "image/png": "[encoded data removed]",
      "text/plain": [
       "<PIL.Image.Image image mode=RGB size=32x32>"
      ]
     },
     "metadata": {},
     "output_type": "display_data"
    },
    {
     "data": {
      "image/png": "[encoded data removed]",
      "text/plain": [
       "<PIL.Image.Image image mode=RGB size=32x32>"
      ]
     },
     "metadata": {},
     "output_type": "display_data"
    },
    {
     "data": {
      "image/png": "[encoded data removed]",
      "text/plain": [
       "<PIL.Image.Image image mode=RGB size=32x32>"
      ]
     },
     "metadata": {},
     "output_type": "display_data"
    },
    {
     "data": {
      "image/png": "[encoded data removed]",
      "text/plain": [
       "<PIL.Image.Image image mode=RGB size=32x32>"
      ]
     },
     "metadata": {},
     "output_type": "display_data"
    },
    {
     "data": {
      "image/png": "[encoded data removed]",
      "text/plain": [
       "<PIL.Image.Image image mode=RGB size=32x32>"
      ]
     },
     "metadata": {},
     "output_type": "display_data"
    },
    {
     "data": {
      "image/png": "[encoded data removed]",
      "text/plain": [
       "<PIL.Image.Image image mode=RGB size=32x32>"
      ]
     },
     "metadata": {},
     "output_type": "display_data"
    },
    {
     "data": {
      "image/png": "[encoded data removed]",
      "text/plain": [
       "<PIL.Image.Image image mode=RGB size=32x32>"
      ]
     },
     "metadata": {},
     "output_type": "display_data"
    },
    {
     "data": {
      "image/png": "[encoded data removed]",
      "text/plain": [
       "<PIL.Image.Image image mode=RGB size=32x32>"
      ]
     },
     "metadata": {},
     "output_type": "display_data"
    },
    {
     "data": {
      "image/png": "[encoded data removed]",
      "text/plain": [
       "<PIL.Image.Image image mode=RGB size=32x32>"
      ]
     },
     "metadata": {},
     "output_type": "display_data"
    },
    {
     "data": {
      "image/png": "[encoded data removed]",
      "text/plain": [
       "<PIL.Image.Image image mode=RGB size=32x32>"
      ]
     },
     "metadata": {},
     "output_type": "display_data"
    },
    {
     "data": {
      "image/png": "[encoded data removed]",
      "text/plain": [
       "<PIL.Image.Image image mode=RGB size=32x32>"
      ]
     },
     "metadata": {},
     "output_type": "display_data"
    },
    {
     "data": {
      "image/png": "[encoded data removed]",
      "text/plain": [
       "<PIL.Image.Image image mode=RGB size=32x32>"
      ]
     },
     "metadata": {},
     "output_type": "display_data"
    },
    {
     "data": {
      "image/png": "[encoded data removed]",
      "text/plain": [
       "<PIL.Image.Image image mode=RGB size=32x32>"
      ]
     },
     "metadata": {},
     "output_type": "display_data"
    },
    {
     "data": {
      "image/png": "[encoded data removed]",
      "text/plain": [
       "<PIL.Image.Image image mode=RGB size=32x32>"
      ]
     },
     "metadata": {},
     "output_type": "display_data"
    },
    {
     "data": {
      "image/png": "[encoded data removed]",
      "text/plain": [
       "<PIL.Image.Image image mode=RGB size=32x32>"
      ]
     },
     "metadata": {},
     "output_type": "display_data"
    },
    {
     "data": {
      "image/png": "[encoded data removed]",
      "text/plain": [
       "<PIL.Image.Image image mode=RGB size=32x32>"
      ]
     },
     "metadata": {},
     "output_type": "display_data"
    },
    {
     "data": {
      "image/png": "[encoded data removed]",
      "text/plain": [
       "<PIL.Image.Image image mode=RGB size=32x32>"
      ]
     },
     "metadata": {},
     "output_type": "display_data"
    },
    {
     "data": {
      "image/png": "[encoded data removed]",
      "text/plain": [
       "<PIL.Image.Image image mode=RGB size=32x32>"
      ]
     },
     "metadata": {},
     "output_type": "display_data"
    },
    {
     "data": {
      "image/png": "[encoded data removed]",
      "text/plain": [
       "<PIL.Image.Image image mode=RGB size=32x32>"
      ]
     },
     "metadata": {},
     "output_type": "display_data"
    },
    {
     "data": {
      "image/png": "[encoded data removed]",
      "text/plain": [
       "<PIL.Image.Image image mode=RGB size=32x32>"
      ]
     },
     "metadata": {},
     "output_type": "display_data"
    },
    {
     "data": {
      "image/png": "[encoded data removed]",
      "text/plain": [
       "<PIL.Image.Image image mode=RGB size=32x32>"
      ]
     },
     "metadata": {},
     "output_type": "display_data"
    },
    {
     "data": {
      "image/png": "[encoded data removed]",
      "text/plain": [
       "<PIL.Image.Image image mode=RGB size=32x32>"
      ]
     },
     "metadata": {},
     "output_type": "display_data"
    },
    {
     "data": {
      "image/png": "[encoded data removed]",
      "text/plain": [
       "<PIL.Image.Image image mode=RGB size=32x32>"
      ]
     },
     "metadata": {},
     "output_type": "display_data"
    },
    {
     "data": {
      "image/png": "[encoded data removed]",
      "text/plain": [
       "<PIL.Image.Image image mode=RGB size=32x32>"
      ]
     },
     "metadata": {},
     "output_type": "display_data"
    },
    {
     "data": {
      "image/png": "[encoded data removed]",
      "text/plain": [
       "<PIL.Image.Image image mode=RGB size=32x32>"
      ]
     },
     "metadata": {},
     "output_type": "display_data"
    },
    {
     "data": {
      "image/png": "[encoded data removed]",
      "text/plain": [
       "<PIL.Image.Image image mode=RGB size=32x32>"
      ]
     },
     "metadata": {},
     "output_type": "display_data"
    },
    {
     "data": {
      "image/png": "[encoded data removed]",
      "text/plain": [
       "<PIL.Image.Image image mode=RGB size=32x32>"
      ]
     },
     "metadata": {},
     "output_type": "display_data"
    },
    {
     "data": {
      "image/png": "[encoded data removed]",
      "text/plain": [
       "<PIL.Image.Image image mode=RGB size=32x32>"
      ]
     },
     "metadata": {},
     "output_type": "display_data"
    },
    {
     "data": {
      "image/png": "[encoded data removed]",
      "text/plain": [
       "<PIL.Image.Image image mode=RGB size=32x32>"
      ]
     },
     "metadata": {},
     "output_type": "display_data"
    },
    {
     "data": {
      "image/png": "[encoded data removed]",
      "text/plain": [
       "<PIL.Image.Image image mode=RGB size=32x32>"
      ]
     },
     "metadata": {},
     "output_type": "display_data"
    },
    {
     "data": {
      "image/png": "[encoded data removed]",
      "text/plain": [
       "<PIL.Image.Image image mode=RGB size=32x32>"
      ]
     },
     "metadata": {},
     "output_type": "display_data"
    },
    {
     "data": {
      "image/png": "[encoded data removed]",
      "text/plain": [
       "<PIL.Image.Image image mode=RGB size=32x32>"
      ]
     },
     "metadata": {},
     "output_type": "display_data"
    },
    {
     "data": {
      "image/png": "[encoded data removed]",
      "text/plain": [
       "<PIL.Image.Image image mode=RGB size=32x32>"
      ]
     },
     "metadata": {},
     "output_type": "display_data"
    },
    {
     "data": {
      "image/png": "[encoded data removed]",
      "text/plain": [
       "<PIL.Image.Image image mode=RGB size=32x32>"
      ]
     },
     "metadata": {},
     "output_type": "display_data"
    },
    {
     "data": {
      "image/png": "[encoded data removed]",
      "text/plain": [
       "<PIL.Image.Image image mode=RGB size=32x32>"
      ]
     },
     "metadata": {},
     "output_type": "display_data"
    },
    {
     "data": {
      "image/png": "[encoded data removed]",
      "text/plain": [
       "<PIL.Image.Image image mode=RGB size=32x32>"
      ]
     },
     "metadata": {},
     "output_type": "display_data"
    },
    {
     "data": {
      "image/png": "[encoded data removed]",
      "text/plain": [
       "<PIL.Image.Image image mode=RGB size=32x32>"
      ]
     },
     "metadata": {},
     "output_type": "display_data"
    },
    {
     "data": {
      "image/png": "[encoded data removed]",
      "text/plain": [
       "<PIL.Image.Image image mode=RGB size=32x32>"
      ]
     },
     "metadata": {},
     "output_type": "display_data"
    },
    {
     "data": {
      "image/png": "[encoded data removed]",
      "text/plain": [
       "<PIL.Image.Image image mode=RGB size=32x32>"
      ]
     },
     "metadata": {},
     "output_type": "display_data"
    },
    {
     "data": {
      "image/png": "[encoded data removed]",
      "text/plain": [
       "<PIL.Image.Image image mode=RGB size=32x32>"
      ]
     },
     "metadata": {},
     "output_type": "display_data"
    },
    {
     "data": {
      "image/png": "[encoded data removed]",
      "text/plain": [
       "<PIL.Image.Image image mode=RGB size=32x32>"
      ]
     },
     "metadata": {},
     "output_type": "display_data"
    },
    {
     "data": {
      "image/png": "[encoded data removed]",
      "text/plain": [
       "<PIL.Image.Image image mode=RGB size=32x32>"
      ]
     },
     "metadata": {},
     "output_type": "display_data"
    },
    {
     "data": {
      "image/png": "[encoded data removed]",
      "text/plain": [
       "<PIL.Image.Image image mode=RGB size=32x32>"
      ]
     },
     "metadata": {},
     "output_type": "display_data"
    },
    {
     "data": {
      "image/png": "[encoded data removed]",
      "text/plain": [
       "<PIL.Image.Image image mode=RGB size=32x32>"
      ]
     },
     "metadata": {},
     "output_type": "display_data"
    },
    {
     "data": {
      "image/png": "[encoded data removed]",
      "text/plain": [
       "<PIL.Image.Image image mode=RGB size=32x32>"
      ]
     },
     "metadata": {},
     "output_type": "display_data"
    },
    {
     "data": {
      "image/png": "[encoded data removed]",
      "text/plain": [
       "<PIL.Image.Image image mode=RGB size=32x32>"
      ]
     },
     "metadata": {},
     "output_type": "display_data"
    },
    {
     "data": {
      "image/png": "[encoded data removed]",
      "text/plain": [
       "<PIL.Image.Image image mode=RGB size=32x32>"
      ]
     },
     "metadata": {},
     "output_type": "display_data"
    },
    {
     "data": {
      "image/png": "[encoded data removed]",
      "text/plain": [
       "<PIL.Image.Image image mode=RGB size=32x32>"
      ]
     },
     "metadata": {},
     "output_type": "display_data"
    },
    {
     "data": {
      "image/png": "[encoded data removed]",
      "text/plain": [
       "<PIL.Image.Image image mode=RGB size=32x32>"
      ]
     },
     "metadata": {},
     "output_type": "display_data"
    },
    {
     "data": {
      "image/png": "[encoded data removed]",
      "text/plain": [
       "<PIL.Image.Image image mode=RGB size=32x32>"
      ]
     },
     "metadata": {},
     "output_type": "display_data"
    },
    {
     "data": {
      "image/png": "[encoded data removed]",
      "text/plain": [
       "<PIL.Image.Image image mode=RGB size=32x32>"
      ]
     },
     "metadata": {},
     "output_type": "display_data"
    },
    {
     "data": {
      "image/png": "[encoded data removed]",
      "text/plain": [
       "<PIL.Image.Image image mode=RGB size=32x32>"
      ]
     },
     "metadata": {},
     "output_type": "display_data"
    },
    {
     "data": {
      "image/png": "[encoded data removed]",
      "text/plain": [
       "<PIL.Image.Image image mode=RGB size=32x32>"
      ]
     },
     "metadata": {},
     "output_type": "display_data"
    },
    {
     "data": {
      "image/png": "[encoded data removed]",
      "text/plain": [
       "<PIL.Image.Image image mode=RGB size=32x32>"
      ]
     },
     "metadata": {},
     "output_type": "display_data"
    },
    {
     "data": {
      "image/png": "[encoded data removed]",
      "text/plain": [
       "<PIL.Image.Image image mode=RGB size=32x32>"
      ]
     },
     "metadata": {},
     "output_type": "display_data"
    },
    {
     "data": {
      "image/png": "[encoded data removed]",
      "text/plain": [
       "<PIL.Image.Image image mode=RGB size=32x32>"
      ]
     },
     "metadata": {},
     "output_type": "display_data"
    },
    {
     "data": {
      "image/png": "[encoded data removed]",
      "text/plain": [
       "<PIL.Image.Image image mode=RGB size=32x32>"
      ]
     },
     "metadata": {},
     "output_type": "display_data"
    },
    {
     "data": {
      "image/png": "[encoded data removed]",
      "text/plain": [
       "<PIL.Image.Image image mode=RGB size=32x32>"
      ]
     },
     "metadata": {},
     "output_type": "display_data"
    },
    {
     "data": {
      "image/png": "[encoded data removed]",
      "text/plain": [
       "<PIL.Image.Image image mode=RGB size=32x32>"
      ]
     },
     "metadata": {},
     "output_type": "display_data"
    },
    {
     "data": {
      "image/png": "[encoded data removed]",
      "text/plain": [
       "<PIL.Image.Image image mode=RGB size=32x32>"
      ]
     },
     "metadata": {},
     "output_type": "display_data"
    },
    {
     "data": {
      "image/png": "[encoded data removed]",
      "text/plain": [
       "<PIL.Image.Image image mode=RGB size=32x32>"
      ]
     },
     "metadata": {},
     "output_type": "display_data"
    },
    {
     "data": {
      "image/png": "[encoded data removed]",
      "text/plain": [
       "<PIL.Image.Image image mode=RGB size=32x32>"
      ]
     },
     "metadata": {},
     "output_type": "display_data"
    },
    {
     "data": {
      "image/png": "[encoded data removed]",
      "text/plain": [
       "<PIL.Image.Image image mode=RGB size=32x32>"
      ]
     },
     "metadata": {},
     "output_type": "display_data"
    },
    {
     "data": {
      "image/png": "[encoded data removed]",
      "text/plain": [
       "<PIL.Image.Image image mode=RGB size=32x32>"
      ]
     },
     "metadata": {},
     "output_type": "display_data"
    },
    {
     "data": {
      "image/png": "[encoded data removed]",
      "text/plain": [
       "<PIL.Image.Image image mode=RGB size=32x32>"
      ]
     },
     "metadata": {},
     "output_type": "display_data"
    },
    {
     "data": {
      "image/png": "[encoded data removed]",
      "text/plain": [
       "<PIL.Image.Image image mode=RGB size=32x32>"
      ]
     },
     "metadata": {},
     "output_type": "display_data"
    },
    {
     "data": {
      "image/png": "[encoded data removed]",
      "text/plain": [
       "<PIL.Image.Image image mode=RGB size=32x32>"
      ]
     },
     "metadata": {},
     "output_type": "display_data"
    },
    {
     "data": {
      "image/png": "[encoded data removed]",
      "text/plain": [
       "<PIL.Image.Image image mode=RGB size=32x32>"
      ]
     },
     "metadata": {},
     "output_type": "display_data"
    },
    {
     "data": {
      "image/png": "[encoded data removed]",
      "text/plain": [
       "<PIL.Image.Image image mode=RGB size=32x32>"
      ]
     },
     "metadata": {},
     "output_type": "display_data"
    },
    {
     "data": {
      "image/png": "[encoded data removed]",
      "text/plain": [
       "<PIL.Image.Image image mode=RGB size=32x32>"
      ]
     },
     "metadata": {},
     "output_type": "display_data"
    },
    {
     "data": {
      "image/png": "[encoded data removed]",
      "text/plain": [
       "<PIL.Image.Image image mode=RGB size=32x32>"
      ]
     },
     "metadata": {},
     "output_type": "display_data"
    },
    {
     "data": {
      "image/png": "[encoded data removed]",
      "text/plain": [
       "<PIL.Image.Image image mode=RGB size=32x32>"
      ]
     },
     "metadata": {},
     "output_type": "display_data"
    },
    {
     "data": {
      "image/png": "[encoded data removed]",
      "text/plain": [
       "<PIL.Image.Image image mode=RGB size=32x32>"
      ]
     },
     "metadata": {},
     "output_type": "display_data"
    },
    {
     "data": {
      "image/png": "[encoded data removed]",
      "text/plain": [
       "<PIL.Image.Image image mode=RGB size=32x32>"
      ]
     },
     "metadata": {},
     "output_type": "display_data"
    },
    {
     "data": {
      "image/png": "[encoded data removed]",
      "text/plain": [
       "<PIL.Image.Image image mode=RGB size=32x32>"
      ]
     },
     "metadata": {},
     "output_type": "display_data"
    },
    {
     "data": {
      "image/png": "[encoded data removed]",
      "text/plain": [
       "<PIL.Image.Image image mode=RGB size=32x32>"
      ]
     },
     "metadata": {},
     "output_type": "display_data"
    },
    {
     "data": {
      "image/png": "[encoded data removed]",
      "text/plain": [
       "<PIL.Image.Image image mode=RGB size=32x32>"
      ]
     },
     "metadata": {},
     "output_type": "display_data"
    },
    {
     "data": {
      "image/png": "[encoded data removed]",
      "text/plain": [
       "<PIL.Image.Image image mode=RGB size=32x32>"
      ]
     },
     "metadata": {},
     "output_type": "display_data"
    },
    {
     "data": {
      "image/png": "[encoded data removed]",
      "text/plain": [
       "<PIL.Image.Image image mode=RGB size=32x32>"
      ]
     },
     "metadata": {},
     "output_type": "display_data"
    },
    {
     "data": {
      "image/png": "[encoded data removed]",
      "text/plain": [
       "<PIL.Image.Image image mode=RGB size=32x32>"
      ]
     },
     "metadata": {},
     "output_type": "display_data"
    },
    {
     "data": {
      "image/png": "[encoded data removed]",
      "text/plain": [
       "<PIL.Image.Image image mode=RGB size=32x32>"
      ]
     },
     "metadata": {},
     "output_type": "display_data"
    },
    {
     "data": {
      "image/png": "[encoded data removed]",
      "text/plain": [
       "<PIL.Image.Image image mode=RGB size=32x32>"
      ]
     },
     "metadata": {},
     "output_type": "display_data"
    },
    {
     "data": {
      "image/png": "[encoded data removed]",
      "text/plain": [
       "<PIL.Image.Image image mode=RGB size=32x32>"
      ]
     },
     "metadata": {},
     "output_type": "display_data"
    },
    {
     "data": {
      "image/png": "[encoded data removed]",
      "text/plain": [
       "<PIL.Image.Image image mode=RGB size=32x32>"
      ]
     },
     "metadata": {},
     "output_type": "display_data"
    },
    {
     "data": {
      "image/png": "[encoded data removed]",
      "text/plain": [
       "<PIL.Image.Image image mode=RGB size=32x32>"
      ]
     },
     "metadata": {},
     "output_type": "display_data"
    },
    {
     "data": {
      "image/png": "[encoded data removed]",
      "text/plain": [
       "<PIL.Image.Image image mode=RGB size=32x32>"
      ]
     },
     "metadata": {},
     "output_type": "display_data"
    },
    {
     "data": {
      "image/png": "[encoded data removed]",
      "text/plain": [
       "<PIL.Image.Image image mode=RGB size=32x32>"
      ]
     },
     "metadata": {},
     "output_type": "display_data"
    },
    {
     "data": {
      "image/png": "[encoded data removed]",
      "text/plain": [
       "<PIL.Image.Image image mode=RGB size=32x32>"
      ]
     },
     "metadata": {},
     "output_type": "display_data"
    },
    {
     "data": {
      "image/png": "[encoded data removed]",
      "text/plain": [
       "<PIL.Image.Image image mode=RGB size=32x32>"
      ]
     },
     "metadata": {},
     "output_type": "display_data"
    },
    {
     "data": {
      "image/png": "[encoded data removed]",
      "text/plain": [
       "<PIL.Image.Image image mode=RGB size=32x32>"
      ]
     },
     "metadata": {},
     "output_type": "display_data"
    },
    {
     "data": {
      "image/png": "[encoded data removed]",
      "text/plain": [
       "<PIL.Image.Image image mode=RGB size=32x32>"
      ]
     },
     "metadata": {},
     "output_type": "display_data"
    },
    {
     "data": {
      "image/png": "[encoded data removed]",
      "text/plain": [
       "<PIL.Image.Image image mode=RGB size=32x32>"
      ]
     },
     "metadata": {},
     "output_type": "display_data"
    },
    {
     "data": {
      "image/png": "[encoded data removed]",
      "text/plain": [
       "<PIL.Image.Image image mode=RGB size=32x32>"
      ]
     },
     "metadata": {},
     "output_type": "display_data"
    },
    {
     "name": "stdout",
     "output_type": "stream",
     "text": [
      "[[0.00000000e+00 6.85670816e-01 0.00000000e+00 ... 0.00000000e+00\n",
      "  0.00000000e+00 0.00000000e+00]\n",
      " [0.00000000e+00 0.00000000e+00 0.00000000e+00 ... 0.00000000e+00\n",
      "  0.00000000e+00 3.80262255e-11]\n",
      " [0.00000000e+00 8.36171238e-01 0.00000000e+00 ... 1.63828762e-01\n",
      "  0.00000000e+00 0.00000000e+00]\n",
      " ...\n",
      " [0.00000000e+00 0.00000000e+00 0.00000000e+00 ... 3.19436323e-01\n",
      "  0.00000000e+00 0.00000000e+00]\n",
      " [0.00000000e+00 0.00000000e+00 0.00000000e+00 ... 0.00000000e+00\n",
      "  0.00000000e+00 0.00000000e+00]\n",
      " [0.00000000e+00 0.00000000e+00 0.00000000e+00 ... 0.00000000e+00\n",
      "  0.00000000e+00 0.00000000e+00]]\n"
     ]
    }
   ],
   "source": [
    "for item in train_generator:\n",
    "    sample_x, sample_y = item\n",
    "    for i in range(batch_size):\n",
    "        display(image.array_to_img(sample_x[i]))\n",
    "    print(sample_y)\n",
    "    break"
   ]
  },
  {
   "cell_type": "code",
   "execution_count": 18,
   "id": "76aeb91f",
   "metadata": {},
   "outputs": [
    {
     "name": "stdout",
     "output_type": "stream",
     "text": [
      "Requirement already satisfied: pip in c:\\users\\xxx\\anaconda3\\lib\\site-packages (23.3.2)\n",
      "Collecting pip\n",
      "  Downloading pip-24.0-py3-none-any.whl.metadata (3.6 kB)\n",
      "Downloading pip-24.0-py3-none-any.whl (2.1 MB)\n",
      "   ---------------------------------------- 2.1/2.1 MB 1.2 MB/s eta 0:00:00\n",
      "Installing collected packages: pip\n",
      "  Attempting uninstall: pip\n",
      "    Found existing installation: pip 23.3.2\n",
      "    Uninstalling pip-23.3.2:\n",
      "      Successfully uninstalled pip-23.3.2\n",
      "Successfully installed pip-24.0\n",
      "Note: you may need to restart the kernel to use updated packages.\n"
     ]
    }
   ],
   "source": [
    "pip install --upgrade pip"
   ]
  },
  {
   "cell_type": "code",
   "execution_count": 19,
   "id": "a9e488d0",
   "metadata": {},
   "outputs": [
    {
     "name": "stderr",
     "output_type": "stream",
     "text": [
      "ERROR: Could not find a version that satisfies the requirement mixup_generator (from versions: none)\n",
      "ERROR: No matching distribution found for mixup_generator\n"
     ]
    }
   ],
   "source": [
    "! pip install mixup_generator"
   ]
  },
  {
   "cell_type": "code",
   "execution_count": 1,
   "id": "a4b97472",
   "metadata": {},
   "outputs": [
    {
     "ename": "ModuleNotFoundError",
     "evalue": "No module named 'mixup_generator'",
     "output_type": "error",
     "traceback": [
      "\u001b[1;31m---------------------------------------------------------------------------\u001b[0m",
      "\u001b[1;31mModuleNotFoundError\u001b[0m                       Traceback (most recent call last)",
      "Cell \u001b[1;32mIn[1], line 1\u001b[0m\n\u001b[1;32m----> 1\u001b[0m \u001b[38;5;28;01mfrom\u001b[39;00m \u001b[38;5;21;01mmixup_generator\u001b[39;00m \u001b[38;5;28;01mimport\u001b[39;00m MixupGenerator\n",
      "\u001b[1;31mModuleNotFoundError\u001b[0m: No module named 'mixup_generator'"
     ]
    }
   ],
   "source": [
    "from mixup_generator import MixupGenerator"
   ]
  },
  {
   "cell_type": "code",
   "execution_count": 22,
   "id": "e508b5df",
   "metadata": {},
   "outputs": [
    {
     "name": "stdout",
     "output_type": "stream",
     "text": [
      "Attempt #1\n",
      "Epoch 1/10\n",
      "4500/4500 [==============================] - 936s 207ms/step - loss: 1.9132 - accuracy: 0.3283 - val_loss: 1.5666 - val_accuracy: 0.4492\n",
      "Epoch 2/10\n",
      "4500/4500 [==============================] - 810s 180ms/step - loss: 1.7982 - accuracy: 0.3768 - val_loss: 1.5129 - val_accuracy: 0.4756\n",
      "Epoch 3/10\n",
      "4500/4500 [==============================] - 784s 174ms/step - loss: 1.7703 - accuracy: 0.3911 - val_loss: 1.4645 - val_accuracy: 0.4950\n",
      "Epoch 4/10\n",
      "4500/4500 [==============================] - 729s 162ms/step - loss: 1.7561 - accuracy: 0.3999 - val_loss: 1.4510 - val_accuracy: 0.4987\n",
      "Epoch 5/10\n",
      "4500/4500 [==============================] - 737s 164ms/step - loss: 1.7429 - accuracy: 0.4039 - val_loss: 1.4416 - val_accuracy: 0.5034\n",
      "Epoch 6/10\n",
      "4500/4500 [==============================] - 791s 176ms/step - loss: 1.7372 - accuracy: 0.4019 - val_loss: 1.4281 - val_accuracy: 0.5074\n",
      "Epoch 7/10\n",
      "4500/4500 [==============================] - 736s 164ms/step - loss: 1.7256 - accuracy: 0.4116 - val_loss: 1.4219 - val_accuracy: 0.5079\n",
      "Epoch 8/10\n",
      "4500/4500 [==============================] - 758s 168ms/step - loss: 1.7235 - accuracy: 0.4119 - val_loss: 1.4175 - val_accuracy: 0.5127\n",
      "Epoch 9/10\n",
      "4500/4500 [==============================] - 752s 167ms/step - loss: 1.7180 - accuracy: 0.4149 - val_loss: 1.4128 - val_accuracy: 0.5111\n",
      "Epoch 10/10\n",
      "4500/4500 [==============================] - 749s 167ms/step - loss: 1.7084 - accuracy: 0.4183 - val_loss: 1.4039 - val_accuracy: 0.5186\n",
      "Accuracy plot is saved to: train_history/vgg12/0_accuracy.png\n",
      "Loss plot is saved to: train_history/vgg12/0_loss.png\n",
      "563/563 [==============================] - 132s 234ms/step\n",
      "Accuracy: 51.47%\n",
      "Confusion matrix is saved to: train_history/vgg12/0_confusion_matrix.png\n",
      "Attempt accuracy: 51.47%\n",
      "Attempts accuracy is saved to train_history/vgg12/accuracy.csv\n",
      "Accuracy boxplot is saved to: train_history/vgg12/boxplot.png\n"
     ]
    }
   ],
   "source": [
    "name = 'vgg12'\n",
    "n_epochs = 10\n",
    "n_repeat = 1\n",
    "keras.utils.set_random_seed(seed)\n",
    "accuracy = []\n",
    "\n",
    "for idx in range(n_repeat):\n",
    "    print(f'Attempt #{idx + 1}')\n",
    "    x = keras.layers.Flatten()(vgg16.output)\n",
    "    x = keras.layers.BatchNormalization()(x)\n",
    "    x = keras.layers.Dense(units=50, activation='relu')(x)\n",
    "    x = keras.layers.Dense(units=20, activation='relu')(x)\n",
    "    x = keras.layers.Dense(units=10, activation='softmax', name='output')(x)\n",
    "    model = keras.models.Model(inputs=vgg16.input, outputs=x)\n",
    "    model.compile(loss='categorical_crossentropy', optimizer=keras.optimizers.legacy.Adamax(learning_rate=0.001), \n",
    "                  metrics=['accuracy'])\n",
    "    \n",
    "    history = model.fit(\n",
    "        train_generator,\n",
    "        steps_per_epoch=train_generator.get_steps_per_epoch(),\n",
    "        validation_data=val_generator,\n",
    "        epochs=n_epochs\n",
    "    )\n",
    "    \n",
    "    model.save(f'train_history/{name}/{idx}.keras')\n",
    "    history_df = pd.DataFrame(history.history) \n",
    "    hist_csv_file = 'train_history/' + name + '/' + str(idx) + '_history.csv'\n",
    "    with open(hist_csv_file, mode='w') as f:\n",
    "        history_df.to_csv(f)\n",
    "    plot_accuracy_and_loss(history_df, name, str(idx))\n",
    "    curr_accuracy = plot_confusion_matrix(name, str(idx))\n",
    "    accuracy.append(curr_accuracy)\n",
    "    print(f'Attempt accuracy: {curr_accuracy * 100:.2f}%')\n",
    "    \n",
    "accuracy_df = pd.DataFrame(data=accuracy, columns = ['accuracy'])\n",
    "accuracy_csv_file = 'train_history/' + name + '/accuracy.csv'\n",
    "with open(accuracy_csv_file, mode='w') as f:\n",
    "    accuracy_df.to_csv(f)\n",
    "print(f'Attempts accuracy is saved to {accuracy_csv_file}')\n",
    "plot_accuracy_boxplot(accuracy, name)"
   ]
  },
  {
   "cell_type": "code",
   "execution_count": 24,
   "id": "f49115a3",
   "metadata": {},
   "outputs": [
    {
     "name": "stdout",
     "output_type": "stream",
     "text": [
      "Found 72000 images belonging to 10 classes.\n",
      "Found 72000 images belonging to 10 classes.\n",
      "Found 18000 images belonging to 10 classes.\n"
     ]
    }
   ],
   "source": [
    "batch_size=64\n",
    "img_height=32\n",
    "\n",
    "training_datagen = ImageDataGenerator(\n",
    "    rescale=1./255,\n",
    "    shear_range=0.2,\n",
    "    zoom_range=0.2,\n",
    "    horizontal_flip=True,\n",
    "    validation_split=0.2\n",
    ")\n",
    "\n",
    "train_generator = MixupImageDataGenerator(generator=training_datagen,\n",
    "                                          directory=TRAIN_DIR,\n",
    "                                          batch_size=batch_size,\n",
    "                                          img_height=img_height,\n",
    "                                          img_width=img_height,\n",
    "                                          subset='training')\n",
    "\n",
    "val_generator = training_datagen.flow_from_directory(\n",
    "    TRAIN_DIR,\n",
    "    subset='validation',\n",
    "    seed=seed,\n",
    "    target_size=(32, 32),\n",
    "    batch_size=batch_size\n",
    ")"
   ]
  },
  {
   "cell_type": "code",
   "execution_count": 25,
   "id": "338655cd",
   "metadata": {},
   "outputs": [
    {
     "name": "stdout",
     "output_type": "stream",
     "text": [
      "Attempt #1\n",
      "Epoch 1/10\n",
      "1125/1125 [==============================] - 1014s 900ms/step - loss: 1.9456 - accuracy: 0.3157 - val_loss: 1.6101 - val_accuracy: 0.4368\n",
      "Epoch 2/10\n",
      "1125/1125 [==============================] - 845s 751ms/step - loss: 1.7916 - accuracy: 0.3820 - val_loss: 1.5202 - val_accuracy: 0.4696\n",
      "Epoch 3/10\n",
      "1125/1125 [==============================] - 797s 709ms/step - loss: 1.7503 - accuracy: 0.3993 - val_loss: 1.4771 - val_accuracy: 0.4870\n",
      "Epoch 4/10\n",
      "1125/1125 [==============================] - 895s 796ms/step - loss: 1.7306 - accuracy: 0.4095 - val_loss: 1.4509 - val_accuracy: 0.4969\n",
      "Epoch 5/10\n",
      "1125/1125 [==============================] - 756s 672ms/step - loss: 1.7145 - accuracy: 0.4159 - val_loss: 1.4367 - val_accuracy: 0.5004\n",
      "Epoch 6/10\n",
      "1125/1125 [==============================] - 895s 796ms/step - loss: 1.7026 - accuracy: 0.4207 - val_loss: 1.4223 - val_accuracy: 0.5109\n",
      "Epoch 7/10\n",
      "1125/1125 [==============================] - 715s 635ms/step - loss: 1.7009 - accuracy: 0.4222 - val_loss: 1.4179 - val_accuracy: 0.5119\n",
      "Epoch 8/10\n",
      "1125/1125 [==============================] - 788s 701ms/step - loss: 1.6924 - accuracy: 0.4246 - val_loss: 1.4165 - val_accuracy: 0.5078\n",
      "Epoch 9/10\n",
      "1125/1125 [==============================] - 766s 681ms/step - loss: 1.6845 - accuracy: 0.4271 - val_loss: 1.4077 - val_accuracy: 0.5150\n",
      "Epoch 10/10\n",
      "1125/1125 [==============================] - 718s 638ms/step - loss: 1.6803 - accuracy: 0.4300 - val_loss: 1.3982 - val_accuracy: 0.5172\n",
      "Accuracy plot is saved to: train_history/vgg13/0_accuracy.png\n",
      "Loss plot is saved to: train_history/vgg13/0_loss.png\n",
      "563/563 [==============================] - 119s 210ms/step\n",
      "Accuracy: 51.58%\n",
      "Confusion matrix is saved to: train_history/vgg13/0_confusion_matrix.png\n",
      "Attempt accuracy: 51.58%\n",
      "Attempts accuracy is saved to train_history/vgg13/accuracy.csv\n",
      "Accuracy boxplot is saved to: train_history/vgg13/boxplot.png\n"
     ]
    }
   ],
   "source": [
    "name = 'vgg13'\n",
    "n_epochs = 10\n",
    "n_repeat = 1\n",
    "keras.utils.set_random_seed(seed)\n",
    "accuracy = []\n",
    "\n",
    "for idx in range(n_repeat):\n",
    "    print(f'Attempt #{idx + 1}')\n",
    "    x = keras.layers.Flatten()(vgg16.output)\n",
    "    x = keras.layers.BatchNormalization()(x)\n",
    "    x = keras.layers.Dense(units=50, activation='relu')(x)\n",
    "    x = keras.layers.Dense(units=20, activation='relu')(x)\n",
    "    x = keras.layers.Dense(units=10, activation='softmax', name='output')(x)\n",
    "    model = keras.models.Model(inputs=vgg16.input, outputs=x)\n",
    "    model.compile(loss='categorical_crossentropy', optimizer=keras.optimizers.legacy.Adamax(learning_rate=0.001), \n",
    "                  metrics=['accuracy'])\n",
    "    \n",
    "    history = model.fit(\n",
    "        train_generator,\n",
    "        steps_per_epoch=train_generator.get_steps_per_epoch(),\n",
    "        validation_data=val_generator,\n",
    "        epochs=n_epochs\n",
    "    )\n",
    "    \n",
    "    model.save(f'train_history/{name}/{idx}.keras')\n",
    "    history_df = pd.DataFrame(history.history) \n",
    "    hist_csv_file = 'train_history/' + name + '/' + str(idx) + '_history.csv'\n",
    "    with open(hist_csv_file, mode='w') as f:\n",
    "        history_df.to_csv(f)\n",
    "    plot_accuracy_and_loss(history_df, name, str(idx))\n",
    "    curr_accuracy = plot_confusion_matrix(name, str(idx))\n",
    "    accuracy.append(curr_accuracy)\n",
    "    print(f'Attempt accuracy: {curr_accuracy * 100:.2f}%')\n",
    "    \n",
    "accuracy_df = pd.DataFrame(data=accuracy, columns = ['accuracy'])\n",
    "accuracy_csv_file = 'train_history/' + name + '/accuracy.csv'\n",
    "with open(accuracy_csv_file, mode='w') as f:\n",
    "    accuracy_df.to_csv(f)\n",
    "print(f'Attempts accuracy is saved to {accuracy_csv_file}')\n",
    "plot_accuracy_boxplot(accuracy, name)"
   ]
  },
  {
   "cell_type": "code",
   "execution_count": 10,
   "id": "44ae3f30",
   "metadata": {},
   "outputs": [
    {
     "name": "stdout",
     "output_type": "stream",
     "text": [
      "Found 72000 images belonging to 10 classes.\n",
      "Found 72000 images belonging to 10 classes.\n",
      "Found 18000 images belonging to 10 classes.\n"
     ]
    }
   ],
   "source": [
    "batch_size=64\n",
    "img_height=32\n",
    "\n",
    "training_datagen = ImageDataGenerator(\n",
    "    rescale=1./255,\n",
    "    shear_range=0.2,\n",
    "    zoom_range=0.2,\n",
    "    horizontal_flip=True,\n",
    "    validation_split=0.2\n",
    ")\n",
    "\n",
    "train_generator = MixupImageDataGenerator(generator=training_datagen,\n",
    "                                          directory=TRAIN_DIR,\n",
    "                                          batch_size=batch_size,\n",
    "                                          img_height=img_height,\n",
    "                                          img_width=img_height,\n",
    "                                          subset='training')\n",
    "\n",
    "val_generator = training_datagen.flow_from_directory(\n",
    "    TRAIN_DIR,\n",
    "    subset='validation',\n",
    "    seed=seed,\n",
    "    target_size=(32, 32),\n",
    "    batch_size=batch_size\n",
    ")"
   ]
  },
  {
   "cell_type": "code",
   "execution_count": 32,
   "id": "77798232",
   "metadata": {},
   "outputs": [
    {
     "name": "stdout",
     "output_type": "stream",
     "text": [
      "Attempt #1\n",
      "Epoch 1/10\n",
      "5625/5625 [==============================] - 3208s 570ms/step - loss: 1.7910 - accuracy: 0.3823 - val_loss: 1.4381 - val_accuracy: 0.4983\n",
      "Epoch 2/10\n",
      "5625/5625 [==============================] - 2988s 531ms/step - loss: 1.6931 - accuracy: 0.4250 - val_loss: 1.4013 - val_accuracy: 0.5136\n",
      "Epoch 3/10\n",
      "5625/5625 [==============================] - 3451s 614ms/step - loss: 1.6690 - accuracy: 0.4352 - val_loss: 1.3829 - val_accuracy: 0.5223\n",
      "Epoch 4/10\n",
      "5625/5625 [==============================] - 3261s 580ms/step - loss: 1.6528 - accuracy: 0.4417 - val_loss: 1.3675 - val_accuracy: 0.5274\n",
      "Epoch 5/10\n",
      "5625/5625 [==============================] - 3003s 534ms/step - loss: 1.6448 - accuracy: 0.4458 - val_loss: 1.3588 - val_accuracy: 0.5322\n",
      "Epoch 6/10\n",
      "5625/5625 [==============================] - 3152s 560ms/step - loss: 1.6331 - accuracy: 0.4496 - val_loss: 1.3597 - val_accuracy: 0.5314\n",
      "Epoch 7/10\n",
      "5625/5625 [==============================] - 3230s 574ms/step - loss: 1.6276 - accuracy: 0.4516 - val_loss: 1.3577 - val_accuracy: 0.5313\n",
      "Epoch 8/10\n",
      "5625/5625 [==============================] - 3673s 653ms/step - loss: 1.6235 - accuracy: 0.4541 - val_loss: 1.3602 - val_accuracy: 0.5308\n",
      "Epoch 9/10\n",
      "5625/5625 [==============================] - 3025s 538ms/step - loss: 1.6203 - accuracy: 0.4557 - val_loss: 1.3592 - val_accuracy: 0.5346\n",
      "Epoch 10/10\n",
      "5625/5625 [==============================] - 2957s 526ms/step - loss: 1.6158 - accuracy: 0.4577 - val_loss: 1.3577 - val_accuracy: 0.5363\n",
      "Accuracy plot is saved to: train_history/vgg14/0_accuracy.png\n",
      "Loss plot is saved to: train_history/vgg14/0_loss.png\n",
      "563/563 [==============================] - 135s 227ms/step\n",
      "Accuracy: 52.96%\n",
      "Confusion matrix is saved to: train_history/vgg14/0_confusion_matrix.png\n",
      "Attempt accuracy: 52.96%\n",
      "Attempts accuracy is saved to train_history/vgg14/accuracy.csv\n",
      "Accuracy boxplot is saved to: train_history/vgg14/boxplot.png\n"
     ]
    }
   ],
   "source": [
    "name = 'vgg14'\n",
    "n_epochs = 10\n",
    "n_repeat = 1\n",
    "keras.utils.set_random_seed(seed)\n",
    "accuracy = []\n",
    "\n",
    "for idx in range(n_repeat):\n",
    "    print(f'Attempt #{idx + 1}')\n",
    "    x = keras.layers.Flatten()(vgg16.output)\n",
    "    x = keras.layers.BatchNormalization()(x)\n",
    "    x = keras.layers.Dense(units=50, activation='relu')(x)\n",
    "    x = keras.layers.Dense(units=20, activation='relu')(x)\n",
    "    x = keras.layers.Dense(units=10, activation='softmax', name='output')(x)\n",
    "    model = keras.models.Model(inputs=vgg16.input, outputs=x)\n",
    "    model.compile(loss='categorical_crossentropy', optimizer=keras.optimizers.legacy.Adamax(learning_rate=0.001), \n",
    "                  metrics=['accuracy'])\n",
    "    \n",
    "    history = model.fit(\n",
    "        train_generator,\n",
    "        validation_data=val_generator,\n",
    "        steps_per_epoch=train_generator.get_steps_per_epoch()*5,\n",
    "        epochs=n_epochs\n",
    "    )\n",
    "    \n",
    "    model.save(f'train_history/{name}/{idx}.keras')\n",
    "    history_df = pd.DataFrame(history.history) \n",
    "    hist_csv_file = 'train_history/' + name + '/' + str(idx) + '_history.csv'\n",
    "    with open(hist_csv_file, mode='w') as f:\n",
    "        history_df.to_csv(f)\n",
    "    plot_accuracy_and_loss(history_df, name, str(idx))\n",
    "    curr_accuracy = plot_confusion_matrix(name, str(idx))\n",
    "    accuracy.append(curr_accuracy)\n",
    "    print(f'Attempt accuracy: {curr_accuracy * 100:.2f}%')\n",
    "    \n",
    "accuracy_df = pd.DataFrame(data=accuracy, columns = ['accuracy'])\n",
    "accuracy_csv_file = 'train_history/' + name + '/accuracy.csv'\n",
    "with open(accuracy_csv_file, mode='w') as f:\n",
    "    accuracy_df.to_csv(f)\n",
    "print(f'Attempts accuracy is saved to {accuracy_csv_file}')\n",
    "plot_accuracy_boxplot(accuracy, name)"
   ]
  },
  {
   "cell_type": "code",
   "execution_count": null,
   "id": "88f68e3b",
   "metadata": {},
   "outputs": [],
   "source": []
  },
  {
   "cell_type": "markdown",
   "id": "a18b56c1",
   "metadata": {},
   "source": [
    "## Test 15: VGG16 with 50 training epochs"
   ]
  },
  {
   "cell_type": "code",
   "execution_count": 11,
   "id": "9ea2fffd",
   "metadata": {},
   "outputs": [
    {
     "name": "stdout",
     "output_type": "stream",
     "text": [
      "Attempt #1\n",
      "Epoch 1/2\n",
      "5625/5625 [==============================] - 1159s 206ms/step - loss: 1.7907 - accuracy: 0.3824 - val_loss: 1.4403 - val_accuracy: 0.5014\n",
      "Epoch 2/2\n",
      "5625/5625 [==============================] - 720s 128ms/step - loss: 1.6930 - accuracy: 0.4251 - val_loss: 1.4006 - val_accuracy: 0.5121\n",
      "Accuracy plot is saved to: train_history/vgg15/0_accuracy.png\n",
      "Loss plot is saved to: train_history/vgg15/0_loss.png\n",
      "563/563 [==============================] - 29s 51ms/step\n",
      "Accuracy: 51.61%\n",
      "Confusion matrix is saved to: train_history/vgg15/0_confusion_matrix.png\n",
      "Attempt accuracy: 51.61%\n",
      "Attempts accuracy is saved to train_history/vgg15/accuracy.csv\n",
      "Accuracy boxplot is saved to: train_history/vgg15/boxplot.png\n"
     ]
    }
   ],
   "source": [
    "name = 'vgg15'\n",
    "n_epochs = 25\n",
    "n_repeat = 1\n",
    "keras.utils.set_random_seed(seed)\n",
    "accuracy = []\n",
    "\n",
    "for idx in range(n_repeat):\n",
    "    print(f'Attempt #{idx + 1}')\n",
    "    x = keras.layers.Flatten()(vgg16.output)\n",
    "    x = keras.layers.BatchNormalization()(x)\n",
    "    x = keras.layers.Dense(units=50, activation='relu')(x)\n",
    "    x = keras.layers.Dense(units=20, activation='relu')(x)\n",
    "    x = keras.layers.Dense(units=10, activation='softmax', name='output')(x)\n",
    "    model = keras.models.Model(inputs=vgg16.input, outputs=x)\n",
    "    model.compile(loss='categorical_crossentropy', optimizer=keras.optimizers.legacy.Adamax(learning_rate=0.001), \n",
    "                  metrics=['accuracy'])\n",
    "    \n",
    "    history = model.fit(\n",
    "        train_generator,\n",
    "        validation_data=val_generator,\n",
    "        steps_per_epoch=train_generator.get_steps_per_epoch()*5,\n",
    "        epochs=n_epochs\n",
    "    )\n",
    "    \n",
    "    model.save(f'train_history/{name}/{idx}.keras')\n",
    "    history_df = pd.DataFrame(history.history) \n",
    "    hist_csv_file = 'train_history/' + name + '/' + str(idx) + '_history.csv'\n",
    "    with open(hist_csv_file, mode='w') as f:\n",
    "        history_df.to_csv(f)\n",
    "    plot_accuracy_and_loss(history_df, name, str(idx))\n",
    "    curr_accuracy = plot_confusion_matrix(name, str(idx))\n",
    "    accuracy.append(curr_accuracy)\n",
    "    print(f'Attempt accuracy: {curr_accuracy * 100:.2f}%')\n",
    "    \n",
    "accuracy_df = pd.DataFrame(data=accuracy, columns = ['accuracy'])\n",
    "accuracy_csv_file = 'train_history/' + name + '/accuracy.csv'\n",
    "with open(accuracy_csv_file, mode='w') as f:\n",
    "    accuracy_df.to_csv(f)\n",
    "print(f'Attempts accuracy is saved to {accuracy_csv_file}')\n",
    "plot_accuracy_boxplot(accuracy, name)"
   ]
  }
 ],
 "metadata": {
  "kernelspec": {
   "display_name": "Python 3 (ipykernel)",
   "language": "python",
   "name": "python3"
  },
  "language_info": {
   "codemirror_mode": {
    "name": "ipython",
    "version": 3
   },
   "file_extension": ".py",
   "mimetype": "text/x-python",
   "name": "python",
   "nbconvert_exporter": "python",
   "pygments_lexer": "ipython3",
   "version": "3.10.13"
  }
 },
 "nbformat": 4,
 "nbformat_minor": 5
}
